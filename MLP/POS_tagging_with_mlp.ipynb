{
  "cells": [
    {
      "cell_type": "code",
      "execution_count": null,
      "metadata": {
        "id": "KLi7mxXuqKeu"
      },
      "outputs": [],
      "source": [
        "import requests\n",
        "import gensim.downloader as api\n",
        "import numpy as np\n",
        "\n",
        "import re\n",
        "\n",
        "import tensorflow as tf\n",
        "from tensorflow.keras.callbacks import ModelCheckpoint\n",
        "from tensorflow.keras.models import Sequential\n",
        "from tensorflow.keras.layers import Dense, Dropout, Bidirectional, GRU, Embedding\n",
        "from tensorflow.keras.optimizers import Adam\n",
        "\n",
        "from sklearn.preprocessing import MultiLabelBinarizer\n",
        "from sklearn.dummy import DummyClassifier\n",
        "from sklearn.multiclass import OneVsRestClassifier\n",
        "from sklearn.metrics import classification_report, auc, precision_recall_curve"
      ]
    },
    {
      "cell_type": "code",
      "execution_count": null,
      "metadata": {
        "id": "n_xX8Z8Zspfv"
      },
      "outputs": [],
      "source": [
        "data_train = requests.get('https://raw.githubusercontent.com/UniversalDependencies/UD_English-GUM/master/en_gum-ud-train.conllu')\n",
        "data_test = requests.get('https://raw.githubusercontent.com/UniversalDependencies/UD_English-GUM/master/en_gum-ud-test.conllu')\n",
        "data_dev = requests.get('https://raw.githubusercontent.com/UniversalDependencies/UD_English-GUM/master/en_gum-ud-dev.conllu')\n",
        "\n",
        "START = '*START*'\n",
        "END = '*END*'"
      ]
    },
    {
      "cell_type": "code",
      "execution_count": null,
      "metadata": {
        "id": "s_YeaNxNyio_"
      },
      "outputs": [],
      "source": [
        "def tokenizer(data):\n",
        "\n",
        "  raw_text = data.text.strip()\n",
        "  raw_docs = re.split(r'\\n\\t?\\n', raw_text)\n",
        "  token_docs = []\n",
        "  tag_docs = []\n",
        "  sentences = []\n",
        "\n",
        "  for doc in raw_docs:\n",
        "    tokens = [START]\n",
        "    tags = []\n",
        "    for line in doc.split('\\n'):\n",
        "      if (len(line.split('\\t')) != 1):\n",
        "        tokens.append(line.split('\\t')[1].lower())\n",
        "        tags.append(line.split('\\t')[3])\n",
        "\n",
        "    tokens.append(END)\n",
        "    token_docs.append(tokens)\n",
        "    tag_docs.append(tags)\n",
        "\n",
        "  return  token_docs, tag_docs"
      ]
    },
    {
      "cell_type": "markdown",
      "metadata": {
        "id": "ZkhsQtx-Dso0"
      },
      "source": [
        "#### Validity for pos tagging and tokens. Should have the same size (with substract 2 cause of the pseudotoken start & end)"
      ]
    },
    {
      "cell_type": "code",
      "execution_count": null,
      "metadata": {
        "id": "I5vp2UGKHMtQ"
      },
      "outputs": [],
      "source": [
        "token_docs_train, tag_docs_train = tokenizer(data_train)\n",
        "token_docs_test, tag_docs_test = tokenizer(data_test)\n",
        "token_docs_dev, tag_docs_dev = tokenizer(data_dev)\n",
        "\n",
        "#validity for pos tagging and tokens.\n",
        "for i in range(len(token_docs_train)):\n",
        "  if len(token_docs_train[i]) - len(tag_docs_train[i]) != 2:\n",
        "    print(i)"
      ]
    },
    {
      "cell_type": "markdown",
      "metadata": {
        "id": "naH3T8NuQzRT"
      },
      "source": [
        "#### Size of training, development and test datasets"
      ]
    },
    {
      "cell_type": "code",
      "execution_count": null,
      "metadata": {
        "colab": {
          "base_uri": "https://localhost:8080/"
        },
        "id": "gQrGI2-CJwgt",
        "outputId": "d9975d25-28a5-48df-c6cf-8ec3a314773e"
      },
      "outputs": [
        {
          "name": "stdout",
          "output_type": "stream",
          "text": [
            "Training sentences : 8548\n",
            "Test sentences : 1096\n",
            "Development sentences : 1117\n"
          ]
        }
      ],
      "source": [
        "print('Training sentences :', len(token_docs_train))\n",
        "print('Test sentences :', len(token_docs_test))\n",
        "print('Development sentences :', len(token_docs_dev))"
      ]
    },
    {
      "cell_type": "markdown",
      "metadata": {
        "id": "VqfCVqdDAGZw"
      },
      "source": [
        "### Get Number of labels and check support for each label\n",
        "\n",
        "##### '_' ---> word contains apostrophe while 'X' ---> not english"
      ]
    },
    {
      "cell_type": "code",
      "execution_count": null,
      "metadata": {
        "colab": {
          "base_uri": "https://localhost:8080/"
        },
        "id": "rLTZHWDIAGE5",
        "outputId": "cf3d6f68-2679-4486-fbc8-3976ef2b9a78"
      },
      "outputs": [
        {
          "name": "stdout",
          "output_type": "stream",
          "text": [
            "Training set labels : ['ADJ', 'ADP', 'ADV', 'AUX', 'CCONJ', 'DET', 'INTJ', 'NOUN', 'NUM', 'PART', 'PRON', 'PROPN', 'PUNCT', 'SCONJ', 'SYM', 'VERB', 'X', '_']\n",
            "Test set labels : ['ADJ', 'ADP', 'ADV', 'AUX', 'CCONJ', 'DET', 'INTJ', 'NOUN', 'NUM', 'PART', 'PRON', 'PROPN', 'PUNCT', 'SCONJ', 'SYM', 'VERB', 'X', '_']\n",
            "Developement set labels : ['ADJ', 'ADP', 'ADV', 'AUX', 'CCONJ', 'DET', 'INTJ', 'NOUN', 'NUM', 'PART', 'PRON', 'PROPN', 'PUNCT', 'SCONJ', 'SYM', 'VERB', 'X', '_']\n",
            "\n",
            "Number of labels : 18\n",
            "Vocabulary size : 14826\n",
            "\n",
            "Average sentence length of training set : 17\n",
            "Average sentence length of developement set : 17\n",
            "Average sentence length of test set : 18\n"
          ]
        }
      ],
      "source": [
        "flatten_tags_dev = [t for tag in tag_docs_dev for t in tag]\n",
        "flatten_tags_test = [t for tag in tag_docs_test for t in tag]\n",
        "flatten_tags_train = [t for tag in tag_docs_train for t in tag]\n",
        "\n",
        "print('Training set labels :', sorted(set(flatten_tags_train)))\n",
        "print('Test set labels :', sorted(set(flatten_tags_test)))\n",
        "print('Development set labels :', sorted(set(flatten_tags_dev)))\n",
        "\n",
        "N_CLASSES = len(set(flatten_tags_train))\n",
        "print('\\nNumber of labels :', N_CLASSES)\n",
        "print('Vocabulary size :', len(set(t for token in token_docs_train for t in token)) - 2)\n",
        "\n",
        "\n",
        "def average_sentence_length(sentences):\n",
        "  sent_sizes = []\n",
        "\n",
        "  for sent in sentences:\n",
        "    sent_sizes.append(len(sent) - 2)\n",
        "\n",
        "  return int(np.mean(np.array(sent_sizes)))\n",
        "\n",
        "print('\\nAverage sentence length of training set :', average_sentence_length(token_docs_train))\n",
        "print('Average sentence length of development set :', average_sentence_length(token_docs_dev))\n",
        "print('Average sentence length of test set :', average_sentence_length(token_docs_test))"
      ]
    },
    {
      "cell_type": "markdown",
      "metadata": {
        "id": "P4CYoGE-W9Sg"
      },
      "source": [
        "### Create d-Window mini-sentences"
      ]
    },
    {
      "cell_type": "code",
      "execution_count": null,
      "metadata": {
        "id": "t_cArxzRXM8j"
      },
      "outputs": [],
      "source": [
        "# from more_itertools import windowed\n",
        "\n",
        "def window_tokenized(WINDOW_NUMBER, token_docs):\n",
        "  windowed_token_docs = []\n",
        "  for sent in token_docs:\n",
        "    temp = [[sent[idx + i] for i in range(WINDOW_NUMBER)] for idx in range(len(sent) - WINDOW_NUMBER + 1)]\n",
        "    windowed_token_docs.append(temp)\n",
        "\n",
        "  return [window for m_sentence in windowed_token_docs for window in m_sentence]"
      ]
    },
    {
      "cell_type": "code",
      "execution_count": null,
      "metadata": {
        "colab": {
          "base_uri": "https://localhost:8080/"
        },
        "id": "G4ot9m5DdJ5e",
        "outputId": "cd1fa10b-a739-49bc-822f-5541d02813b6"
      },
      "outputs": [
        {
          "name": "stdout",
          "output_type": "stream",
          "text": [
            "Training mini-sentences : 150374 and Training y_true : 150374\n",
            "Test mini-sentences : 20195 and Test y_true : 20195\n",
            "Development mini-sentences : 19997 and Developement y_true : 19997\n"
          ]
        }
      ],
      "source": [
        "window = 3\n",
        "\n",
        "windowed_token_docs_train = window_tokenized(window, token_docs_train)\n",
        "windowed_token_docs_test = window_tokenized(window, token_docs_test)\n",
        "windowed_token_docs_dev = window_tokenized(window, token_docs_dev)\n",
        "\n",
        "\n",
        "print('Training mini-sentences :', len(windowed_token_docs_train), 'and Training y_true :', len(flatten_tags_train))\n",
        "print('Test mini-sentences :', len(windowed_token_docs_test), 'and Test y_true :', len(flatten_tags_test))\n",
        "print('Development mini-sentences :', len(windowed_token_docs_dev), 'and Development y_true :', len(flatten_tags_dev))"
      ]
    },
    {
      "cell_type": "markdown",
      "metadata": {
        "id": "LWGjRSqzMSxY"
      },
      "source": [
        "### Create 1-hot vectors for y_true label"
      ]
    },
    {
      "cell_type": "code",
      "execution_count": null,
      "metadata": {
        "id": "hvmbiP5DDyLb"
      },
      "outputs": [],
      "source": [
        "mlb = MultiLabelBinarizer()\n",
        "\n",
        "y_train_1_hot  = mlb.fit_transform([[tag] for tag in flatten_tags_train])\n",
        "y_test_1_hot  = mlb.transform([[tag] for tag in flatten_tags_test])\n",
        "y_dev_1_hot  = mlb.transform([[tag] for tag in flatten_tags_dev])"
      ]
    },
    {
      "cell_type": "markdown",
      "metadata": {
        "id": "sfug30YyBnfW"
      },
      "source": [
        "### Get features for each mini-sentence using pre-trained word embeddings"
      ]
    },
    {
      "cell_type": "code",
      "execution_count": null,
      "metadata": {
        "colab": {
          "base_uri": "https://localhost:8080/"
        },
        "id": "cYvXBr-MgDd1",
        "outputId": "23d163f9-a448-4007-9ff8-7de117bc0145"
      },
      "outputs": [
        {
          "name": "stdout",
          "output_type": "stream",
          "text": [
            "[==================================================] 100.0% 128.1/128.1MB downloaded\n"
          ]
        }
      ],
      "source": [
        "api.info()['models'].keys()\n",
        "\n",
        "embeddings = api.load('glove-wiki-gigaword-100')\n",
        "\n",
        "embeddings[START] = np.zeros(100)\n",
        "embeddings[END] = np.zeros(100)"
      ]
    },
    {
      "cell_type": "code",
      "execution_count": null,
      "metadata": {
        "colab": {
          "base_uri": "https://localhost:8080/"
        },
        "id": "gTwWXEDgMjxH",
        "outputId": "0821e5d2-72e9-41ef-99e1-d1ed47a2d556"
      },
      "outputs": [
        {
          "name": "stdout",
          "output_type": "stream",
          "text": [
            "Training set shape : (150374, 100)\n",
            "Test set shape : (20195, 100)\n",
            "Developement set shape : (19997, 100)\n"
          ]
        }
      ],
      "source": [
        "def create_features(mini_sentences, attention):\n",
        "\n",
        "  attention_embeddings = []\n",
        "\n",
        "  for mini_sent in mini_sentences:\n",
        "    mini_sent_embeddings = []\n",
        "\n",
        "    for token in mini_sent:\n",
        "\n",
        "      try:\n",
        "        mini_sent_embeddings.append(embeddings[token])\n",
        "      except KeyError:\n",
        "        mini_sent_embeddings.append(np.zeros(100))\n",
        "\n",
        "    attention_embeddings.append(attention.dot(np.array(mini_sent_embeddings)))\n",
        "\n",
        "  return np.array(attention_embeddings)\n",
        "\n",
        "\n",
        "attention_list = np.array([0.2, 0.6, 0.2])\n",
        "\n",
        "x_train = create_features(windowed_token_docs_train, attention_list)\n",
        "x_test = create_features(windowed_token_docs_test, attention_list)\n",
        "x_dev = create_features(windowed_token_docs_dev, attention_list)\n",
        "\n",
        "print('Training set shape :', x_train.shape)\n",
        "print('Test set shape :', x_test.shape)\n",
        "print('Development set shape :', x_dev.shape)"
      ]
    },
    {
      "cell_type": "code",
      "execution_count": null,
      "metadata": {
        "colab": {
          "base_uri": "https://localhost:8080/"
        },
        "id": "gv1RVF3xXukR",
        "outputId": "f19f5bf4-baee-419d-aae6-a40d3985038f"
      },
      "outputs": [
        {
          "name": "stdout",
          "output_type": "stream",
          "text": [
            "\u001b[?25l     \u001b[90m━━━━━━━━━━━━━━━━━━━━━━━━━━━━━━━━━━━━━━━━\u001b[0m \u001b[32m0.0/128.9 kB\u001b[0m \u001b[31m?\u001b[0m eta \u001b[36m-:--:--\u001b[0m\r\u001b[2K     \u001b[91m━━━━━━━━━━━━━━━━━━━━━━━━━━━━━━━━━━━━━━\u001b[0m\u001b[90m╺\u001b[0m\u001b[90m━\u001b[0m \u001b[32m122.9/128.9 kB\u001b[0m \u001b[31m3.7 MB/s\u001b[0m eta \u001b[36m0:00:01\u001b[0m\r\u001b[2K     \u001b[90m━━━━━━━━━━━━━━━━━━━━━━━━━━━━━━━━━━━━━━━━\u001b[0m \u001b[32m128.9/128.9 kB\u001b[0m \u001b[31m3.1 MB/s\u001b[0m eta \u001b[36m0:00:00\u001b[0m\n",
            "\u001b[?25h"
          ]
        }
      ],
      "source": [
        "!pip install -q -U keras-tuner"
      ]
    },
    {
      "cell_type": "code",
      "execution_count": null,
      "metadata": {
        "colab": {
          "base_uri": "https://localhost:8080/"
        },
        "id": "dPxfQNItlmtx",
        "outputId": "c1e50012-2ed6-4912-dcb9-3d038d6b43d4"
      },
      "outputs": [
        {
          "name": "stdout",
          "output_type": "stream",
          "text": [
            "Trial 30 Complete [00h 03m 54s]\n",
            "val_accuracy: 0.1690753549337387\n",
            "\n",
            "Best val_accuracy So Far: 0.9277891516685486\n",
            "Total elapsed time: 01h 13m 40s\n",
            "\n",
            "The hyperparameter search is complete. The optimal number of units in the first densely-connected\n",
            "layer is 256, in the second densely-connected layer is 256 and the optimal learning rate for the optimizer\n",
            "is 0.0001,the dropout probability is: 0.1.\n",
            "\n"
          ]
        }
      ],
      "source": [
        "import keras_tuner as kt\n",
        "\n",
        "def model_builder(hp):\n",
        "\n",
        "  hp_units = hp.Int('units', min_value=32, max_value=256, step=32)\n",
        "  hp_units_2 = hp.Int('units_2', min_value=32, max_value=256, step=32)\n",
        "  hp_dropout = hp.Float('rate', min_value=0.1, max_value=0.5, step=0.2)\n",
        "  hp_learning_rate = hp.Float('learning_rate', min_value=0.0001, max_value=0.1, step=10, sampling='log')\n",
        "\n",
        "\n",
        "  model = Sequential()\n",
        "  model.add(Dense(units=hp_units, input_dim=x_train.shape[1], activation='relu'))\n",
        "  model.add(Dropout(rate = hp_dropout))\n",
        "  model.add(Dense(units=hp_units_2,  activation='relu'))\n",
        "  model.add(Dropout(rate = hp_dropout))\n",
        "  model.add(Dense(N_CLASSES,  activation='softmax'))\n",
        "\n",
        "  model.compile(\n",
        "  loss=tf.keras.losses.CategoricalCrossentropy(\n",
        "  from_logits=False),\n",
        "  optimizer=Adam(learning_rate=hp_learning_rate),\n",
        "  metrics=['accuracy']\n",
        "  )\n",
        "\n",
        "  return model\n",
        "\n",
        "tuner = kt.Hyperband(model_builder,\n",
        "                     objective='val_accuracy',\n",
        "                     max_epochs=20,\n",
        "                     factor=3,\n",
        "                     directory='my_dir',\n",
        "                     project_name='intro_to_kt')\n",
        "\n",
        "\n",
        "stop_early = tf.keras.callbacks.EarlyStopping(monitor='val_loss', patience=5)\n",
        "\n",
        "\n",
        "tuner.search(x_train, y_train_1_hot, epochs=50, validation_data=(x_dev, y_dev_1_hot), callbacks=[stop_early])\n",
        "\n",
        "\n",
        "# Get the optimal hyperparameters\n",
        "best_hps=tuner.get_best_hyperparameters(num_trials=1)[0]\n",
        "\n",
        "print(f\"\"\"\n",
        "The hyperparameter search is complete. The optimal number of units in the first densely-connected\n",
        "layer is {best_hps.get('units')}, in the second densely-connected layer is {best_hps.get('units_2')} and the optimal learning rate for the optimizer\n",
        "is {best_hps.get('learning_rate')},the dropout probability is: {best_hps.get('rate')}.\n",
        "\"\"\")"
      ]
    },
    {
      "cell_type": "code",
      "execution_count": null,
      "metadata": {
        "colab": {
          "base_uri": "https://localhost:8080/"
        },
        "id": "BLRMfWVLYiiS",
        "outputId": "a3c03861-c4bf-44f8-c3c0-a65147c56252"
      },
      "outputs": [
        {
          "name": "stdout",
          "output_type": "stream",
          "text": [
            "Model: \"sequential_1\"\n",
            "_________________________________________________________________\n",
            " Layer (type)                Output Shape              Param #   \n",
            "=================================================================\n",
            " dense_3 (Dense)             (None, 256)               25856     \n",
            "                                                                 \n",
            " dropout_2 (Dropout)         (None, 256)               0         \n",
            "                                                                 \n",
            " dense_4 (Dense)             (None, 256)               65792     \n",
            "                                                                 \n",
            " dropout_3 (Dropout)         (None, 256)               0         \n",
            "                                                                 \n",
            " dense_5 (Dense)             (None, 18)                4626      \n",
            "                                                                 \n",
            "=================================================================\n",
            "Total params: 96274 (376.07 KB)\n",
            "Trainable params: 96274 (376.07 KB)\n",
            "Non-trainable params: 0 (0.00 Byte)\n",
            "_________________________________________________________________\n",
            "None\n"
          ]
        }
      ],
      "source": [
        "model = tuner.hypermodel.build(best_hps)\n",
        "\n",
        "print(model.summary())"
      ]
    },
    {
      "cell_type": "code",
      "execution_count": null,
      "metadata": {
        "colab": {
          "base_uri": "https://localhost:8080/"
        },
        "id": "IdJd_5fboKNC",
        "outputId": "e1c06a9f-2327-434f-d83d-67fa2de62e31"
      },
      "outputs": [
        {
          "name": "stdout",
          "output_type": "stream",
          "text": [
            "Epoch 1/50\n",
            "4700/4700 [==============================] - 19s 4ms/step - loss: 1.0177 - accuracy: 0.6834 - val_loss: 0.6234 - val_accuracy: 0.8036\n",
            "Epoch 2/50\n",
            "4700/4700 [==============================] - 18s 4ms/step - loss: 0.6126 - accuracy: 0.8051 - val_loss: 0.4834 - val_accuracy: 0.8493\n",
            "Epoch 3/50\n",
            "4700/4700 [==============================] - 20s 4ms/step - loss: 0.5030 - accuracy: 0.8405 - val_loss: 0.4086 - val_accuracy: 0.8743\n",
            "Epoch 4/50\n",
            "4700/4700 [==============================] - 18s 4ms/step - loss: 0.4394 - accuracy: 0.8599 - val_loss: 0.3617 - val_accuracy: 0.8887\n",
            "Epoch 5/50\n",
            "4700/4700 [==============================] - 19s 4ms/step - loss: 0.3991 - accuracy: 0.8726 - val_loss: 0.3321 - val_accuracy: 0.8967\n",
            "Epoch 6/50\n",
            "4700/4700 [==============================] - 19s 4ms/step - loss: 0.3693 - accuracy: 0.8817 - val_loss: 0.3075 - val_accuracy: 0.9022\n",
            "Epoch 7/50\n",
            "4700/4700 [==============================] - 18s 4ms/step - loss: 0.3455 - accuracy: 0.8885 - val_loss: 0.2957 - val_accuracy: 0.9074\n",
            "Epoch 8/50\n",
            "4700/4700 [==============================] - 19s 4ms/step - loss: 0.3267 - accuracy: 0.8931 - val_loss: 0.2856 - val_accuracy: 0.9090\n",
            "Epoch 9/50\n",
            "4700/4700 [==============================] - 18s 4ms/step - loss: 0.3119 - accuracy: 0.8988 - val_loss: 0.2701 - val_accuracy: 0.9141\n",
            "Epoch 10/50\n",
            "4700/4700 [==============================] - 18s 4ms/step - loss: 0.2996 - accuracy: 0.9020 - val_loss: 0.2608 - val_accuracy: 0.9178\n",
            "Epoch 11/50\n",
            "4700/4700 [==============================] - 19s 4ms/step - loss: 0.2892 - accuracy: 0.9056 - val_loss: 0.2545 - val_accuracy: 0.9184\n",
            "Epoch 12/50\n",
            "4700/4700 [==============================] - 18s 4ms/step - loss: 0.2773 - accuracy: 0.9093 - val_loss: 0.2477 - val_accuracy: 0.9211\n",
            "Epoch 13/50\n",
            "4700/4700 [==============================] - 18s 4ms/step - loss: 0.2704 - accuracy: 0.9116 - val_loss: 0.2405 - val_accuracy: 0.9231\n",
            "Epoch 14/50\n",
            "4700/4700 [==============================] - 19s 4ms/step - loss: 0.2623 - accuracy: 0.9150 - val_loss: 0.2361 - val_accuracy: 0.9232\n",
            "Epoch 15/50\n",
            "4700/4700 [==============================] - 18s 4ms/step - loss: 0.2554 - accuracy: 0.9162 - val_loss: 0.2341 - val_accuracy: 0.9233\n",
            "Epoch 16/50\n",
            "4700/4700 [==============================] - 18s 4ms/step - loss: 0.2502 - accuracy: 0.9178 - val_loss: 0.2297 - val_accuracy: 0.9269\n",
            "Epoch 17/50\n",
            "4700/4700 [==============================] - 20s 4ms/step - loss: 0.2431 - accuracy: 0.9198 - val_loss: 0.2287 - val_accuracy: 0.9262\n",
            "Epoch 18/50\n",
            "4700/4700 [==============================] - 18s 4ms/step - loss: 0.2391 - accuracy: 0.9215 - val_loss: 0.2262 - val_accuracy: 0.9273\n",
            "Epoch 19/50\n",
            "4700/4700 [==============================] - 19s 4ms/step - loss: 0.2335 - accuracy: 0.9226 - val_loss: 0.2239 - val_accuracy: 0.9275\n",
            "Epoch 20/50\n",
            "4700/4700 [==============================] - 19s 4ms/step - loss: 0.2280 - accuracy: 0.9244 - val_loss: 0.2284 - val_accuracy: 0.9264\n",
            "Epoch 21/50\n",
            "4700/4700 [==============================] - 18s 4ms/step - loss: 0.2248 - accuracy: 0.9260 - val_loss: 0.2196 - val_accuracy: 0.9288\n",
            "Epoch 22/50\n",
            "4700/4700 [==============================] - 20s 4ms/step - loss: 0.2211 - accuracy: 0.9266 - val_loss: 0.2180 - val_accuracy: 0.9285\n",
            "Epoch 23/50\n",
            "4700/4700 [==============================] - 18s 4ms/step - loss: 0.2157 - accuracy: 0.9287 - val_loss: 0.2157 - val_accuracy: 0.9298\n",
            "Epoch 24/50\n",
            "4700/4700 [==============================] - 18s 4ms/step - loss: 0.2126 - accuracy: 0.9299 - val_loss: 0.2160 - val_accuracy: 0.9303\n",
            "Epoch 25/50\n",
            "4700/4700 [==============================] - 19s 4ms/step - loss: 0.2105 - accuracy: 0.9304 - val_loss: 0.2146 - val_accuracy: 0.9303\n",
            "Epoch 26/50\n",
            "4700/4700 [==============================] - 18s 4ms/step - loss: 0.2070 - accuracy: 0.9312 - val_loss: 0.2102 - val_accuracy: 0.9319\n",
            "Epoch 27/50\n",
            "4700/4700 [==============================] - 18s 4ms/step - loss: 0.2032 - accuracy: 0.9325 - val_loss: 0.2126 - val_accuracy: 0.9297\n",
            "Epoch 28/50\n",
            "4700/4700 [==============================] - 19s 4ms/step - loss: 0.2008 - accuracy: 0.9332 - val_loss: 0.2112 - val_accuracy: 0.9306\n",
            "Epoch 29/50\n",
            "4700/4700 [==============================] - 18s 4ms/step - loss: 0.1973 - accuracy: 0.9337 - val_loss: 0.2108 - val_accuracy: 0.9313\n",
            "Epoch 30/50\n",
            "4700/4700 [==============================] - 18s 4ms/step - loss: 0.1959 - accuracy: 0.9342 - val_loss: 0.2110 - val_accuracy: 0.9319\n",
            "Epoch 31/50\n",
            "4700/4700 [==============================] - 19s 4ms/step - loss: 0.1932 - accuracy: 0.9352 - val_loss: 0.2087 - val_accuracy: 0.9329\n",
            "Epoch 32/50\n",
            "4700/4700 [==============================] - 18s 4ms/step - loss: 0.1899 - accuracy: 0.9367 - val_loss: 0.2106 - val_accuracy: 0.9310\n",
            "Epoch 33/50\n",
            "4700/4700 [==============================] - 18s 4ms/step - loss: 0.1876 - accuracy: 0.9367 - val_loss: 0.2093 - val_accuracy: 0.9318\n",
            "Epoch 34/50\n",
            "4700/4700 [==============================] - 19s 4ms/step - loss: 0.1852 - accuracy: 0.9382 - val_loss: 0.2080 - val_accuracy: 0.9322\n",
            "Epoch 35/50\n",
            "4700/4700 [==============================] - 18s 4ms/step - loss: 0.1841 - accuracy: 0.9381 - val_loss: 0.2070 - val_accuracy: 0.9331\n",
            "Epoch 36/50\n",
            "4700/4700 [==============================] - 18s 4ms/step - loss: 0.1811 - accuracy: 0.9390 - val_loss: 0.2081 - val_accuracy: 0.9327\n",
            "Epoch 37/50\n",
            "4700/4700 [==============================] - 19s 4ms/step - loss: 0.1790 - accuracy: 0.9399 - val_loss: 0.2065 - val_accuracy: 0.9330\n",
            "Epoch 38/50\n",
            "4700/4700 [==============================] - 18s 4ms/step - loss: 0.1769 - accuracy: 0.9405 - val_loss: 0.2053 - val_accuracy: 0.9330\n",
            "Epoch 39/50\n",
            "4700/4700 [==============================] - 18s 4ms/step - loss: 0.1759 - accuracy: 0.9403 - val_loss: 0.2064 - val_accuracy: 0.9341\n",
            "Epoch 40/50\n",
            "4700/4700 [==============================] - 19s 4ms/step - loss: 0.1735 - accuracy: 0.9414 - val_loss: 0.2051 - val_accuracy: 0.9336\n",
            "Epoch 41/50\n",
            "4700/4700 [==============================] - 18s 4ms/step - loss: 0.1712 - accuracy: 0.9423 - val_loss: 0.2043 - val_accuracy: 0.9336\n",
            "Epoch 42/50\n",
            "4700/4700 [==============================] - 18s 4ms/step - loss: 0.1703 - accuracy: 0.9425 - val_loss: 0.2069 - val_accuracy: 0.9343\n",
            "Epoch 43/50\n",
            "4700/4700 [==============================] - 19s 4ms/step - loss: 0.1673 - accuracy: 0.9439 - val_loss: 0.2029 - val_accuracy: 0.9342\n",
            "Epoch 44/50\n",
            "4700/4700 [==============================] - 18s 4ms/step - loss: 0.1666 - accuracy: 0.9439 - val_loss: 0.2028 - val_accuracy: 0.9334\n",
            "Epoch 45/50\n",
            "4700/4700 [==============================] - 19s 4ms/step - loss: 0.1659 - accuracy: 0.9436 - val_loss: 0.2032 - val_accuracy: 0.9343\n",
            "Epoch 46/50\n",
            "4700/4700 [==============================] - 19s 4ms/step - loss: 0.1638 - accuracy: 0.9442 - val_loss: 0.2056 - val_accuracy: 0.9342\n",
            "Epoch 47/50\n",
            "4700/4700 [==============================] - 18s 4ms/step - loss: 0.1613 - accuracy: 0.9453 - val_loss: 0.2045 - val_accuracy: 0.9344\n",
            "Epoch 48/50\n",
            "4700/4700 [==============================] - 20s 4ms/step - loss: 0.1599 - accuracy: 0.9457 - val_loss: 0.2041 - val_accuracy: 0.9361\n",
            "Epoch 49/50\n",
            "4700/4700 [==============================] - 18s 4ms/step - loss: 0.1587 - accuracy: 0.9468 - val_loss: 0.2052 - val_accuracy: 0.9344\n",
            "Epoch 50/50\n",
            "4700/4700 [==============================] - 18s 4ms/step - loss: 0.1581 - accuracy: 0.9465 - val_loss: 0.2027 - val_accuracy: 0.9335\n",
            "\n",
            "Training time: 00:15:27 sec\n",
            "\n",
            "Best epoch: 48\n"
          ]
        }
      ],
      "source": [
        "import time\n",
        "\n",
        "with tf.device('/device:GPU:0'):\n",
        "\n",
        "  start_training_time = time.time()\n",
        "\n",
        "  history = model.fit(\n",
        "      x_train,\n",
        "      y_train_1_hot,\n",
        "      validation_data=(x_dev, y_dev_1_hot),\n",
        "      batch_size=32,\n",
        "      epochs=50,\n",
        "      shuffle=True\n",
        "      )\n",
        "\n",
        "  end_training_time = time.time()\n",
        "\n",
        "  print(f'\\nTraining time: {time.strftime(\"%H:%M:%S\", time.gmtime(end_training_time - start_training_time))} sec\\n')\n",
        "\n",
        "val_acc_per_epoch = history.history['val_accuracy']\n",
        "best_epoch = val_acc_per_epoch.index(max(val_acc_per_epoch)) + 1\n",
        "print('Best epoch: %d' % (best_epoch,))"
      ]
    },
    {
      "cell_type": "code",
      "execution_count": null,
      "metadata": {
        "colab": {
          "base_uri": "https://localhost:8080/",
          "height": 927
        },
        "id": "zcAed1EPUvxu",
        "outputId": "13996b5f-f1f7-4d92-820c-2e83e6df7185"
      },
      "outputs": [
        {
          "data": {
            "image/png": "[encoded data removed]",
            "text/plain": [
              "<Figure size 640x480 with 1 Axes>"
            ]
          },
          "metadata": {},
          "output_type": "display_data"
        },
        {
          "data": {
            "image/png": "[encoded data removed]",
            "text/plain": [
              "<Figure size 640x480 with 1 Axes>"
            ]
          },
          "metadata": {},
          "output_type": "display_data"
        }
      ],
      "source": [
        "%matplotlib inline\n",
        "import matplotlib.pyplot as plt\n",
        "\n",
        "\n",
        "# summarize history for accuracy\n",
        "plt.plot(history.history['accuracy'])\n",
        "plt.plot(history.history['val_accuracy'])\n",
        "plt.title('Model Accuracy')\n",
        "plt.ylabel('accuracy')\n",
        "plt.xlabel('epochs')\n",
        "plt.legend(['Training set', 'Development set'], loc='lower right')\n",
        "plt.show()\n",
        "\n",
        "# summarize history for loss\n",
        "plt.plot(history.history['loss'])\n",
        "plt.plot(history.history['val_loss'])\n",
        "plt.title('Model Loss')\n",
        "plt.ylabel('loss')\n",
        "plt.xlabel('epochs')\n",
        "plt.legend(['Training set', 'Development set'], loc='upper right')\n",
        "plt.show()"
      ]
    },
    {
      "cell_type": "markdown",
      "metadata": {
        "id": "SD_N0Ab2_N0m"
      },
      "source": [
        "# Metrics\n",
        "\n",
        "Precision , Recall , F1 , AUC scores for each classifier"
      ]
    },
    {
      "cell_type": "code",
      "execution_count": null,
      "metadata": {
        "colab": {
          "base_uri": "https://localhost:8080/"
        },
        "id": "83GOuKOIWfvJ",
        "outputId": "799d09dc-4990-42e5-9611-724b96f25898"
      },
      "outputs": [
        {
          "name": "stdout",
          "output_type": "stream",
          "text": [
            "Epoch 1/48\n",
            "4700/4700 [==============================] - 20s 4ms/step - loss: 1.0075 - accuracy: 0.6904 - val_loss: 0.6111 - val_accuracy: 0.8093\n",
            "Epoch 2/48\n",
            "4700/4700 [==============================] - 18s 4ms/step - loss: 0.5999 - accuracy: 0.8112 - val_loss: 0.4684 - val_accuracy: 0.8596\n",
            "Epoch 3/48\n",
            "4700/4700 [==============================] - 19s 4ms/step - loss: 0.4920 - accuracy: 0.8451 - val_loss: 0.3977 - val_accuracy: 0.8770\n",
            "Epoch 4/48\n",
            "4700/4700 [==============================] - 19s 4ms/step - loss: 0.4330 - accuracy: 0.8623 - val_loss: 0.3537 - val_accuracy: 0.8902\n",
            "Epoch 5/48\n",
            "4700/4700 [==============================] - 19s 4ms/step - loss: 0.3934 - accuracy: 0.8741 - val_loss: 0.3307 - val_accuracy: 0.8956\n",
            "Epoch 6/48\n",
            "4700/4700 [==============================] - 19s 4ms/step - loss: 0.3631 - accuracy: 0.8837 - val_loss: 0.3072 - val_accuracy: 0.9031\n",
            "Epoch 7/48\n",
            "4700/4700 [==============================] - 19s 4ms/step - loss: 0.3419 - accuracy: 0.8896 - val_loss: 0.2915 - val_accuracy: 0.9059\n",
            "Epoch 8/48\n",
            "4700/4700 [==============================] - 19s 4ms/step - loss: 0.3248 - accuracy: 0.8946 - val_loss: 0.2775 - val_accuracy: 0.9109\n",
            "Epoch 9/48\n",
            "4700/4700 [==============================] - 20s 4ms/step - loss: 0.3099 - accuracy: 0.8994 - val_loss: 0.2691 - val_accuracy: 0.9132\n",
            "Epoch 10/48\n",
            "4700/4700 [==============================] - 20s 4ms/step - loss: 0.2966 - accuracy: 0.9032 - val_loss: 0.2623 - val_accuracy: 0.9131\n",
            "Epoch 11/48\n",
            "4700/4700 [==============================] - 20s 4ms/step - loss: 0.2863 - accuracy: 0.9072 - val_loss: 0.2554 - val_accuracy: 0.9175\n",
            "Epoch 12/48\n",
            "4700/4700 [==============================] - 18s 4ms/step - loss: 0.2791 - accuracy: 0.9083 - val_loss: 0.2463 - val_accuracy: 0.9207\n",
            "Epoch 13/48\n",
            "4700/4700 [==============================] - 18s 4ms/step - loss: 0.2692 - accuracy: 0.9125 - val_loss: 0.2438 - val_accuracy: 0.9216\n",
            "Epoch 14/48\n",
            "4700/4700 [==============================] - 20s 4ms/step - loss: 0.2635 - accuracy: 0.9135 - val_loss: 0.2416 - val_accuracy: 0.9212\n",
            "Epoch 15/48\n",
            "4700/4700 [==============================] - 20s 4ms/step - loss: 0.2558 - accuracy: 0.9161 - val_loss: 0.2356 - val_accuracy: 0.9234\n",
            "Epoch 16/48\n",
            "4700/4700 [==============================] - 19s 4ms/step - loss: 0.2498 - accuracy: 0.9179 - val_loss: 0.2299 - val_accuracy: 0.9264\n",
            "Epoch 17/48\n",
            "4700/4700 [==============================] - 19s 4ms/step - loss: 0.2452 - accuracy: 0.9196 - val_loss: 0.2283 - val_accuracy: 0.9247\n",
            "Epoch 18/48\n",
            "4700/4700 [==============================] - 18s 4ms/step - loss: 0.2399 - accuracy: 0.9212 - val_loss: 0.2248 - val_accuracy: 0.9270\n",
            "Epoch 19/48\n",
            "4700/4700 [==============================] - 19s 4ms/step - loss: 0.2339 - accuracy: 0.9232 - val_loss: 0.2249 - val_accuracy: 0.9255\n",
            "Epoch 20/48\n",
            "4700/4700 [==============================] - 18s 4ms/step - loss: 0.2302 - accuracy: 0.9235 - val_loss: 0.2225 - val_accuracy: 0.9264\n",
            "Epoch 21/48\n",
            "4700/4700 [==============================] - 18s 4ms/step - loss: 0.2250 - accuracy: 0.9254 - val_loss: 0.2176 - val_accuracy: 0.9299\n",
            "Epoch 22/48\n",
            "4700/4700 [==============================] - 19s 4ms/step - loss: 0.2200 - accuracy: 0.9269 - val_loss: 0.2174 - val_accuracy: 0.9291\n",
            "Epoch 23/48\n",
            "4700/4700 [==============================] - 19s 4ms/step - loss: 0.2175 - accuracy: 0.9275 - val_loss: 0.2157 - val_accuracy: 0.9296\n",
            "Epoch 24/48\n",
            "4700/4700 [==============================] - 20s 4ms/step - loss: 0.2140 - accuracy: 0.9287 - val_loss: 0.2142 - val_accuracy: 0.9304\n",
            "Epoch 25/48\n",
            "4700/4700 [==============================] - 19s 4ms/step - loss: 0.2110 - accuracy: 0.9297 - val_loss: 0.2102 - val_accuracy: 0.9316\n",
            "Epoch 26/48\n",
            "4700/4700 [==============================] - 18s 4ms/step - loss: 0.2082 - accuracy: 0.9301 - val_loss: 0.2086 - val_accuracy: 0.9326\n",
            "Epoch 27/48\n",
            "4700/4700 [==============================] - 19s 4ms/step - loss: 0.2053 - accuracy: 0.9314 - val_loss: 0.2125 - val_accuracy: 0.9308\n",
            "Epoch 28/48\n",
            "4700/4700 [==============================] - 18s 4ms/step - loss: 0.2012 - accuracy: 0.9329 - val_loss: 0.2106 - val_accuracy: 0.9319\n",
            "Epoch 29/48\n",
            "4700/4700 [==============================] - 18s 4ms/step - loss: 0.1992 - accuracy: 0.9331 - val_loss: 0.2099 - val_accuracy: 0.9319\n",
            "Epoch 30/48\n",
            "4700/4700 [==============================] - 19s 4ms/step - loss: 0.1961 - accuracy: 0.9342 - val_loss: 0.2096 - val_accuracy: 0.9313\n",
            "Epoch 31/48\n",
            "4700/4700 [==============================] - 18s 4ms/step - loss: 0.1946 - accuracy: 0.9354 - val_loss: 0.2059 - val_accuracy: 0.9335\n",
            "Epoch 32/48\n",
            "4700/4700 [==============================] - 20s 4ms/step - loss: 0.1930 - accuracy: 0.9350 - val_loss: 0.2052 - val_accuracy: 0.9339\n",
            "Epoch 33/48\n",
            "4700/4700 [==============================] - 20s 4ms/step - loss: 0.1897 - accuracy: 0.9367 - val_loss: 0.2071 - val_accuracy: 0.9322\n",
            "Epoch 34/48\n",
            "4700/4700 [==============================] - 19s 4ms/step - loss: 0.1874 - accuracy: 0.9368 - val_loss: 0.2062 - val_accuracy: 0.9323\n",
            "Epoch 35/48\n",
            "4700/4700 [==============================] - 19s 4ms/step - loss: 0.1849 - accuracy: 0.9376 - val_loss: 0.2063 - val_accuracy: 0.9332\n",
            "Epoch 36/48\n",
            "4700/4700 [==============================] - 18s 4ms/step - loss: 0.1829 - accuracy: 0.9386 - val_loss: 0.2058 - val_accuracy: 0.9327\n",
            "Epoch 37/48\n",
            "4700/4700 [==============================] - 19s 4ms/step - loss: 0.1807 - accuracy: 0.9392 - val_loss: 0.2036 - val_accuracy: 0.9349\n",
            "Epoch 38/48\n",
            "4700/4700 [==============================] - 19s 4ms/step - loss: 0.1788 - accuracy: 0.9398 - val_loss: 0.2021 - val_accuracy: 0.9346\n",
            "Epoch 39/48\n",
            "4700/4700 [==============================] - 19s 4ms/step - loss: 0.1768 - accuracy: 0.9403 - val_loss: 0.2005 - val_accuracy: 0.9345\n",
            "Epoch 40/48\n",
            "4700/4700 [==============================] - 20s 4ms/step - loss: 0.1751 - accuracy: 0.9412 - val_loss: 0.2006 - val_accuracy: 0.9365\n",
            "Epoch 41/48\n",
            "4700/4700 [==============================] - 19s 4ms/step - loss: 0.1733 - accuracy: 0.9410 - val_loss: 0.1996 - val_accuracy: 0.9365\n",
            "Epoch 42/48\n",
            "4700/4700 [==============================] - 18s 4ms/step - loss: 0.1713 - accuracy: 0.9420 - val_loss: 0.2001 - val_accuracy: 0.9348\n",
            "Epoch 43/48\n",
            "4700/4700 [==============================] - 19s 4ms/step - loss: 0.1700 - accuracy: 0.9425 - val_loss: 0.2010 - val_accuracy: 0.9354\n",
            "Epoch 44/48\n",
            "4700/4700 [==============================] - 18s 4ms/step - loss: 0.1689 - accuracy: 0.9428 - val_loss: 0.2018 - val_accuracy: 0.9346\n",
            "Epoch 45/48\n",
            "4700/4700 [==============================] - 20s 4ms/step - loss: 0.1662 - accuracy: 0.9436 - val_loss: 0.1997 - val_accuracy: 0.9368\n",
            "Epoch 46/48\n",
            "4700/4700 [==============================] - 19s 4ms/step - loss: 0.1650 - accuracy: 0.9438 - val_loss: 0.2000 - val_accuracy: 0.9351\n",
            "Epoch 47/48\n",
            "4700/4700 [==============================] - 18s 4ms/step - loss: 0.1634 - accuracy: 0.9443 - val_loss: 0.2012 - val_accuracy: 0.9355\n",
            "Epoch 48/48\n",
            "4700/4700 [==============================] - 21s 4ms/step - loss: 0.1631 - accuracy: 0.9447 - val_loss: 0.1995 - val_accuracy: 0.9352\n",
            "4700/4700 [==============================] - 8s 2ms/step\n",
            "625/625 [==============================] - 1s 2ms/step\n",
            "632/632 [==============================] - 1s 2ms/step\n",
            "\n",
            "--------- Baseline Dummy Classifier ---------\n",
            "\n",
            "Training set\n",
            "\n",
            "              precision    recall  f1-score   support\n",
            "\n",
            "         ADJ       0.06      0.06      0.06      9805\n",
            "         ADP       0.09      0.09      0.09     14064\n",
            "         ADV       0.04      0.04      0.04      6994\n",
            "         AUX       0.05      0.05      0.05      7709\n",
            "       CCONJ       0.03      0.03      0.03      4851\n",
            "         DET       0.08      0.08      0.08     12072\n",
            "        INTJ       0.01      0.01      0.01      1347\n",
            "        NOUN       0.16      0.16      0.16     24689\n",
            "         NUM       0.02      0.02      0.02      2955\n",
            "        PART       0.02      0.02      0.02      3474\n",
            "        PRON       0.08      0.08      0.08     12113\n",
            "       PROPN       0.06      0.06      0.06      8982\n",
            "       PUNCT       0.13      0.13      0.13     20620\n",
            "       SCONJ       0.01      0.01      0.01      2324\n",
            "         SYM       0.00      0.00      0.00       232\n",
            "        VERB       0.10      0.10      0.10     15413\n",
            "           X       0.00      0.00      0.00       306\n",
            "           _       0.02      0.02      0.02      2424\n",
            "\n",
            "   micro avg       0.09      0.09      0.09    150374\n",
            "   macro avg       0.05      0.05      0.05    150374\n",
            "weighted avg       0.09      0.09      0.09    150374\n",
            " samples avg       0.06      0.09      0.07    150374\n",
            "\n",
            "AUC training : {'ADJ': 0.09148955688760468, 'ADP': 0.13888991936078865, 'ADV': 0.06974692500201114, 'AUX': 0.07661726938809288, 'CCONJ': 0.04527076775278749, 'DET': 0.11520694599313269, 'INTJ': 0.008190842982011603, 'NOUN': 0.23180284173174104, 'NUM': 0.02603798492183041, 'PART': 0.03481325254769567, 'PRON': 0.11667758274242454, 'PROPN': 0.08486719125985821, 'PUNCT': 0.1944260449641534, 'SCONJ': 0.021714956621683483, 'SYM': 0.004838966134348957, 'VERB': 0.14727703962483607, 'X': 0.007473675074611098, '_': 0.022628869725866335} \n",
            "\n",
            "Macro AUC : 0.07988725737308212 \n",
            "\n",
            "\n",
            "Developement set\n",
            "\n",
            "              precision    recall  f1-score   support\n",
            "\n",
            "         ADJ       0.07      0.07      0.07      1340\n",
            "         ADP       0.09      0.09      0.09      1889\n",
            "         ADV       0.05      0.06      0.05       926\n",
            "         AUX       0.05      0.05      0.05      1069\n",
            "       CCONJ       0.04      0.04      0.04       653\n",
            "         DET       0.08      0.08      0.08      1598\n",
            "        INTJ       0.02      0.02      0.02       204\n",
            "        NOUN       0.18      0.17      0.17      3381\n",
            "         NUM       0.02      0.02      0.02       329\n",
            "        PART       0.04      0.03      0.03       510\n",
            "        PRON       0.09      0.08      0.09      1807\n",
            "       PROPN       0.04      0.05      0.04       833\n",
            "       PUNCT       0.12      0.13      0.13      2606\n",
            "       SCONJ       0.01      0.01      0.01       332\n",
            "         SYM       0.00      0.00      0.00        14\n",
            "        VERB       0.11      0.10      0.11      2150\n",
            "           X       0.00      0.00      0.00        12\n",
            "           _       0.02      0.02      0.02       344\n",
            "\n",
            "   micro avg       0.09      0.09      0.09     19997\n",
            "   macro avg       0.06      0.06      0.06     19997\n",
            "weighted avg       0.10      0.09      0.09     19997\n",
            " samples avg       0.06      0.09      0.07     19997\n",
            "\n",
            "AUC developement : {'ADJ': 0.10689482879706522, 'ADP': 0.1288927823067005, 'ADV': 0.05320702813462477, 'AUX': 0.0840873558536119, 'CCONJ': 0.04050519404799537, 'DET': 0.10856644808618188, 'INTJ': 0.014830767178443576, 'NOUN': 0.24050242342466716, 'NUM': 0.019669727162779968, 'PART': 0.04546732118750275, 'PRON': 0.13073953638946673, 'PROPN': 0.06837302361874843, 'PUNCT': 0.19069373726845273, 'SCONJ': 0.02325921700652725, 'SYM': 0.00035005250787618143, 'VERB': 0.15691305274297435, 'X': 0.00030004500675101265, '_': 0.046749903526436785} \n",
            "\n",
            "Macro AUC : 0.08111124690260035 \n",
            "\n",
            "\n",
            "Test set\n",
            "\n",
            "              precision    recall  f1-score   support\n",
            "\n",
            "         ADJ       0.07      0.07      0.07      1331\n",
            "         ADP       0.09      0.09      0.09      2053\n",
            "         ADV       0.05      0.05      0.05       916\n",
            "         AUX       0.04      0.05      0.05       949\n",
            "       CCONJ       0.03      0.02      0.03       700\n",
            "         DET       0.09      0.08      0.09      1720\n",
            "        INTJ       0.01      0.01      0.01       148\n",
            "        NOUN       0.18      0.17      0.18      3508\n",
            "         NUM       0.02      0.02      0.02       401\n",
            "        PART       0.02      0.03      0.02       420\n",
            "        PRON       0.06      0.06      0.06      1435\n",
            "       PROPN       0.06      0.05      0.06      1409\n",
            "       PUNCT       0.12      0.13      0.13      2540\n",
            "       SCONJ       0.02      0.03      0.02       252\n",
            "         SYM       0.00      0.00      0.00        34\n",
            "        VERB       0.10      0.10      0.10      2073\n",
            "           X       0.00      0.00      0.00        28\n",
            "           _       0.01      0.01      0.01       278\n",
            "\n",
            "   micro avg       0.09      0.09      0.09     20195\n",
            "   macro avg       0.05      0.05      0.05     20195\n",
            "weighted avg       0.09      0.09      0.09     20195\n",
            " samples avg       0.06      0.09      0.07     20195\n",
            "\n",
            "AUC test : {'ADJ': 0.0887909608491225, 'ADP': 0.1497705454335424, 'ADV': 0.06612535870010189, 'AUX': 0.06860262637678329, 'CCONJ': 0.05211675525330158, 'DET': 0.12870102949454987, 'INTJ': 0.03299518627915378, 'NOUN': 0.24673608913396344, 'NUM': 0.01745061374883071, 'PART': 0.03504946396292066, 'PRON': 0.10672379431757487, 'PROPN': 0.0940728167303247, 'PUNCT': 0.1822191330289215, 'SCONJ': 0.027226147624761145, 'SYM': 0.0008417925229017083, 'VERB': 0.14698714630494109, 'X': 0.0006932409012131716, '_': 0.013442545092602051} \n",
            "\n",
            "Macro AUC : 0.0810302914308617 \n",
            "\n",
            "\n",
            "--------- Custom MLP ---------\n",
            "\n",
            "Training set\n",
            "\n",
            "              precision    recall  f1-score   support\n",
            "\n",
            "         ADJ       0.95      0.94      0.94      9805\n",
            "         ADP       0.95      0.98      0.97     14064\n",
            "         ADV       0.95      0.91      0.93      6994\n",
            "         AUX       0.97      0.99      0.98      7709\n",
            "       CCONJ       1.00      0.99      0.99      4851\n",
            "         DET       0.99      0.98      0.99     12072\n",
            "        INTJ       0.91      0.84      0.88      1347\n",
            "        NOUN       0.95      0.95      0.95     24689\n",
            "         NUM       0.98      0.99      0.98      2955\n",
            "        PART       0.98      0.97      0.97      3474\n",
            "        PRON       0.98      0.98      0.98     12113\n",
            "       PROPN       0.96      0.83      0.89      8982\n",
            "       PUNCT       1.00      1.00      1.00     20620\n",
            "       SCONJ       0.86      0.76      0.81      2324\n",
            "         SYM       0.95      0.88      0.91       232\n",
            "        VERB       0.96      0.94      0.95     15413\n",
            "           X       0.95      0.53      0.68       306\n",
            "           _       0.93      0.96      0.95      2424\n",
            "\n",
            "   micro avg       0.97      0.96      0.96    150374\n",
            "   macro avg       0.96      0.91      0.93    150374\n",
            "weighted avg       0.97      0.96      0.96    150374\n",
            " samples avg       0.96      0.96      0.96    150374\n",
            "\n",
            "AUC training : {'ADJ': 0.9840992367508666, 'ADP': 0.9939602796531082, 'ADV': 0.9800864142589042, 'AUX': 0.99697272989516, 'CCONJ': 0.9995734648234447, 'DET': 0.9989445400933892, 'INTJ': 0.9480146512314264, 'NOUN': 0.9875544788089117, 'NUM': 0.9968446107341732, 'PART': 0.9957233581657242, 'PRON': 0.99853642398053, 'PROPN': 0.9652430499730473, 'PUNCT': 0.9999008714743033, 'SCONJ': 0.8979520283358069, 'SYM': 0.9566345941229185, 'VERB': 0.9894005078567858, 'X': 0.8002865653891208, '_': 0.9854719508070253} \n",
            "\n",
            "Macro AUC : 0.9708444309085915 \n",
            "\n",
            "\n",
            "Developement set\n",
            "\n",
            "              precision    recall  f1-score   support\n",
            "\n",
            "         ADJ       0.90      0.90      0.90      1340\n",
            "         ADP       0.93      0.97      0.95      1889\n",
            "         ADV       0.91      0.85      0.88       926\n",
            "         AUX       0.96      0.97      0.97      1069\n",
            "       CCONJ       0.98      0.99      0.98       653\n",
            "         DET       0.98      0.98      0.98      1598\n",
            "        INTJ       0.87      0.76      0.81       204\n",
            "        NOUN       0.91      0.92      0.91      3381\n",
            "         NUM       0.95      0.98      0.97       329\n",
            "        PART       0.96      0.96      0.96       510\n",
            "        PRON       0.98      0.97      0.98      1807\n",
            "       PROPN       0.87      0.73      0.80       833\n",
            "       PUNCT       1.00      1.00      1.00      2606\n",
            "       SCONJ       0.84      0.69      0.76       332\n",
            "         SYM       0.92      0.79      0.85        14\n",
            "        VERB       0.92      0.89      0.90      2150\n",
            "           X       0.62      0.42      0.50        12\n",
            "           _       0.93      0.95      0.94       344\n",
            "\n",
            "   micro avg       0.94      0.93      0.94     19997\n",
            "   macro avg       0.91      0.87      0.89     19997\n",
            "weighted avg       0.94      0.93      0.93     19997\n",
            " samples avg       0.93      0.93      0.93     19997\n",
            "\n",
            "AUC developement : {'ADJ': 0.950409801649465, 'ADP': 0.9875442467742401, 'ADV': 0.9475036274337197, 'AUX': 0.9929528941244476, 'CCONJ': 0.998124184556863, 'DET': 0.9987972378685006, 'INTJ': 0.9088151430188405, 'NOUN': 0.9606340673840644, 'NUM': 0.9899859057627369, 'PART': 0.9952021199082655, 'PRON': 0.9974083689346512, 'PROPN': 0.8820730709992766, 'PUNCT': 0.9996796344133505, 'SCONJ': 0.8529670763610991, 'SYM': 0.7900578464869252, 'VERB': 0.960889470587242, 'X': 0.44189597748606624, '_': 0.9838022744711408} \n",
            "\n",
            "Macro AUC : 0.9243746082344941 \n",
            "\n",
            "\n",
            "Test set\n",
            "\n",
            "              precision    recall  f1-score   support\n",
            "\n",
            "         ADJ       0.88      0.88      0.88      1331\n",
            "         ADP       0.94      0.96      0.95      2053\n",
            "         ADV       0.91      0.83      0.87       916\n",
            "         AUX       0.96      0.98      0.97       949\n",
            "       CCONJ       0.99      0.98      0.98       700\n",
            "         DET       0.99      0.98      0.98      1720\n",
            "        INTJ       0.86      0.80      0.83       148\n",
            "        NOUN       0.87      0.91      0.89      3508\n",
            "         NUM       0.97      0.97      0.97       401\n",
            "        PART       0.94      0.95      0.95       420\n",
            "        PRON       0.97      0.98      0.97      1435\n",
            "       PROPN       0.87      0.66      0.75      1409\n",
            "       PUNCT       1.00      1.00      1.00      2540\n",
            "       SCONJ       0.77      0.66      0.71       252\n",
            "         SYM       0.90      0.79      0.84        34\n",
            "        VERB       0.92      0.89      0.91      2073\n",
            "           X       0.93      0.50      0.65        28\n",
            "           _       0.85      0.94      0.89       278\n",
            "\n",
            "   micro avg       0.93      0.92      0.92     20195\n",
            "   macro avg       0.92      0.87      0.89     20195\n",
            "weighted avg       0.93      0.92      0.92     20195\n",
            " samples avg       0.92      0.92      0.92     20195\n",
            "\n",
            "AUC test : {'ADJ': 0.9334309993061956, 'ADP': 0.9901575875162637, 'ADV': 0.9473001228227032, 'AUX': 0.9939563383178539, 'CCONJ': 0.9991611483503824, 'DET': 0.9984413424345726, 'INTJ': 0.8942133344158579, 'NOUN': 0.939796537606683, 'NUM': 0.9897823680456006, 'PART': 0.9886097503131072, 'PRON': 0.9974573690856892, 'PROPN': 0.8687045064660637, 'PUNCT': 0.9999410796390756, 'SCONJ': 0.8116078135853767, 'SYM': 0.8102536224881298, 'VERB': 0.9603905484207389, 'X': 0.6204027413882656, '_': 0.9578953355227655} \n",
            "\n",
            "Macro AUC : 0.9278612525402957 \n",
            "\n"
          ]
        }
      ],
      "source": [
        "def prec_rec_auc(y_true, y_pred, N_CLASSES):\n",
        "  precision = dict()\n",
        "  recall = dict()\n",
        "  auc_score = dict()\n",
        "\n",
        "  for i in range(N_CLASSES):\n",
        "    precision[i], recall[i], _ = precision_recall_curve(y_true[:, i], y_pred[:, i])\n",
        "    auc_score[mlb.classes_[i]] = auc(recall[i], precision[i])\n",
        "\n",
        "  return precision, recall, auc_score\n",
        "\n",
        "\n",
        "def macro_auc(auc_scores):\n",
        "  auc = []\n",
        "\n",
        "  for key in auc_scores.keys():\n",
        "    auc.append(auc_scores[key])\n",
        "\n",
        "  return np.mean(np.array(auc))\n",
        "\n",
        "\n",
        "dummy = OneVsRestClassifier(DummyClassifier(strategy=\"stratified\"))\n",
        "dummy.fit(x_train , y_train_1_hot)\n",
        "\n",
        "model = tuner.hypermodel.build(best_hps)\n",
        "model.fit(x_train, y_train_1_hot, validation_data=(x_dev, y_dev_1_hot), batch_size=32, epochs=best_epoch, shuffle=True)\n",
        "\n",
        "\n",
        "dummy_predictions_train = dummy.predict(x_train)\n",
        "dummy_predictions_train_proba = dummy.predict_proba(x_train)\n",
        "_ , _, dummy_auc_train = prec_rec_auc(y_train_1_hot, dummy_predictions_train_proba, N_CLASSES)\n",
        "\n",
        "dummy_predictions_dev = dummy.predict(x_dev)\n",
        "dummy_predictions_dev_proba = dummy.predict_proba(x_dev)\n",
        "_ , _, dummy_auc_dev = prec_rec_auc(y_dev_1_hot, dummy_predictions_dev_proba, N_CLASSES)\n",
        "\n",
        "dummy_predictions_test = dummy.predict(x_test)\n",
        "dummy_predictions_test_proba = dummy.predict_proba(x_test)\n",
        "_ , _, dummy_auc_test = prec_rec_auc(y_test_1_hot, dummy_predictions_test_proba, N_CLASSES)\n",
        "\n",
        "\n",
        "mlp_predictions_train = model.predict(x_train)\n",
        "_, _, mlp_auc_train = prec_rec_auc(y_train_1_hot, mlp_predictions_train, N_CLASSES)\n",
        "\n",
        "mlp_predictions_dev = model.predict(x_dev)\n",
        "_, _, mlp_auc_dev = prec_rec_auc(y_dev_1_hot, mlp_predictions_dev, N_CLASSES)\n",
        "\n",
        "mlp_predictions_test = model.predict(x_test)\n",
        "_, _, mlp_auc_test = prec_rec_auc(y_test_1_hot, mlp_predictions_test, N_CLASSES)\n",
        "\n",
        "\n",
        "\n",
        "print('\\n--------- Baseline Dummy Classifier ---------\\n')\n",
        "print('Training set\\n')\n",
        "print(classification_report(y_train_1_hot, dummy_predictions_train, target_names = mlb.classes_, zero_division=0.0))\n",
        "print('AUC training :', dummy_auc_train, '\\n')\n",
        "print('Macro AUC :', macro_auc(dummy_auc_train), '\\n')\n",
        "print('\\nDevelopment set\\n')\n",
        "print(classification_report(y_dev_1_hot, dummy_predictions_dev, target_names = mlb.classes_, zero_division=0.0))\n",
        "print('AUC development :', dummy_auc_dev, '\\n')\n",
        "print('Macro AUC :', macro_auc(dummy_auc_dev), '\\n')\n",
        "print('\\nTest set\\n')\n",
        "print(classification_report(y_test_1_hot, dummy_predictions_test, target_names = mlb.classes_, zero_division=0.0))\n",
        "print('AUC test :', dummy_auc_test, '\\n')\n",
        "print('Macro AUC :', macro_auc(dummy_auc_test), '\\n')\n",
        "\n",
        "\n",
        "print('\\n--------- Custom MLP ---------\\n')\n",
        "print('Training set\\n')\n",
        "print(classification_report(y_train_1_hot, np.round(mlp_predictions_train), target_names = mlb.classes_, zero_division=0.0))\n",
        "print('AUC training :', mlp_auc_train, '\\n')\n",
        "print('Macro AUC :', macro_auc(mlp_auc_train), '\\n')\n",
        "print('\\nDevelopment set\\n')\n",
        "print(classification_report(y_dev_1_hot, np.round(mlp_predictions_dev), target_names = mlb.classes_, zero_division=0.0))\n",
        "print('AUC development :', mlp_auc_dev, '\\n')\n",
        "print('Macro AUC :', macro_auc(mlp_auc_dev), '\\n')\n",
        "print('\\nTest set\\n')\n",
        "print(classification_report(y_test_1_hot, np.round(mlp_predictions_test), target_names = mlb.classes_, zero_division=0.0))\n",
        "print('AUC test :', mlp_auc_test, '\\n')\n",
        "print('Macro AUC :', macro_auc(mlp_auc_test), '\\n')"
      ]
    }
  ],
  "metadata": {
    "accelerator": "GPU",
    "colab": {
      "gpuType": "T4",
      "provenance": []
    },
    "kernelspec": {
      "display_name": "Python 3",
      "name": "python3"
    },
    "language_info": {
      "name": "python"
    }
  },
  "nbformat": 4,
  "nbformat_minor": 0
}
