{
  "cells": [
    {
      "cell_type": "code",
      "execution_count": null,
      "metadata": {
        "colab": {
          "base_uri": "https://localhost:8080/"
        },
        "id": "kJlujT5FY2NV",
        "outputId": "11a9ada7-e776-4ce9-e742-2b7b6a2911ef"
      },
      "outputs": [
        {
          "name": "stderr",
          "output_type": "stream",
          "text": [
            "[nltk_data] Downloading package stopwords to /root/nltk_data...\n",
            "[nltk_data]   Package stopwords is already up-to-date!\n",
            "[nltk_data] Downloading package punkt to /root/nltk_data...\n",
            "[nltk_data]   Unzipping tokenizers/punkt.zip.\n"
          ]
        }
      ],
      "source": [
        "import nltk\n",
        "nltk.download('stopwords')\n",
        "nltk.download('punkt')\n",
        "from nltk.corpus import stopwords\n",
        "\n",
        "import tensorflow as tf\n",
        "import numpy as np\n",
        "from sklearn.feature_extraction.text import TfidfVectorizer\n",
        "from sklearn.decomposition import TruncatedSVD, PCA\n",
        "from sklearn.feature_selection import SelectKBest, chi2\n",
        "from sklearn.linear_model import LogisticRegression\n",
        "from sklearn.dummy import DummyClassifier\n",
        "\n",
        "from sklearn.metrics import classification_report, auc, precision_recall_curve\n",
        "\n",
        "from tensorflow.keras.callbacks import ModelCheckpoint\n",
        "from tensorflow.keras.models import Sequential\n",
        "from tensorflow.keras.layers import Dense, Dropout\n",
        "from tensorflow.keras.optimizers import Adam"
      ]
    },
    {
      "cell_type": "markdown",
      "metadata": {
        "id": "TNm2dKl1peT9"
      },
      "source": [
        "# Load IMDB Dataset"
      ]
    },
    {
      "cell_type": "code",
      "execution_count": null,
      "metadata": {
        "colab": {
          "base_uri": "https://localhost:8080/"
        },
        "id": "8FNCkDzwTB4D",
        "outputId": "261e7ef3-4b52-4726-e80e-633e6f5ba828"
      },
      "outputs": [
        {
          "name": "stdout",
          "output_type": "stream",
          "text": [
            "\n",
            "Training set shape : (30000,)\n",
            "Developement set shape : (10000,)\n",
            "Test set shape : (10000,)\n",
            "\n",
            "Vocabulary size : 66806\n",
            "\n",
            "Average doc length of training set : 238\n",
            "Average doc length of developement set : 242\n",
            "Average doc length of test set : 234\n"
          ]
        }
      ],
      "source": [
        "(x_train, y_train), (x_test, y_test) = tf.keras.datasets.imdb.load_data(\n",
        "    path='imdb.npz',\n",
        "    num_words=None,\n",
        "    skip_top=0,\n",
        "    maxlen=None,\n",
        "    seed=113,\n",
        "    start_char=1,\n",
        "    oov_char=2,\n",
        "    index_from=3)\n",
        "\n",
        "\n",
        "word_index = tf.keras.datasets.imdb.get_word_index()\n",
        "start_char = 1\n",
        "oov_char = 2\n",
        "\n",
        "\n",
        "inverted_word_index = dict((i + 3, word) for (word, i) in word_index.items())\n",
        "\n",
        "inverted_word_index[start_char] = '[START]'\n",
        "inverted_word_index[oov_char] = '[OOV]'\n",
        "\n",
        "for i in range(len(x_train)):\n",
        "  x_train[i] = ' '.join(inverted_word_index[i] for i in x_train[i])\n",
        "\n",
        "for i in range(len(x_test)):\n",
        "  x_test[i] = ' '.join(inverted_word_index[i] for i in x_test[i])\n",
        "\n",
        "\n",
        "\n",
        "x_train = np.concatenate((x_train, x_test[10000:]))\n",
        "y_train = np.concatenate((y_train, y_test[10000:]))\n",
        "\n",
        "x_dev = x_train[:10000]\n",
        "y_dev = y_train[:10000]\n",
        "\n",
        "x_train = x_train[10000:]\n",
        "y_train = y_train[10000:]\n",
        "\n",
        "x_test = x_test[:10000]\n",
        "y_test = y_test[:10000]\n",
        "\n",
        "print('\\nTraining set shape :', x_train.shape)\n",
        "print('Development set shape :', x_dev.shape)\n",
        "print('Test set shape :', x_test.shape)\n",
        "\n",
        "flatten_x_train = [token for doc in x_train for token in nltk.tokenize.word_tokenize(doc)]\n",
        "\n",
        "\n",
        "def average_doc_length(docs_tokenized):\n",
        "  doc_sizes = []\n",
        "\n",
        "  for doc in docs_tokenized:\n",
        "    doc_sizes.append(len(doc) - 3)\n",
        "\n",
        "  return int(np.mean(np.array(doc_sizes)))\n",
        "\n",
        "\n",
        "\n",
        "print('\\nVocabulary size :', len(set(flatten_x_train)) - 3)\n",
        "\n",
        "print('\\nAverage doc length of training set :', average_doc_length([nltk.tokenize.word_tokenize(doc) for doc in x_train]))\n",
        "print('Average doc length of development set :', average_doc_length([nltk.tokenize.word_tokenize(doc) for doc in x_dev]))\n",
        "print('Average doc length of test set :', average_doc_length([nltk.tokenize.word_tokenize(doc) for doc in x_test]))"
      ]
    },
    {
      "cell_type": "markdown",
      "metadata": {
        "id": "TQntnXV-pL_Z"
      },
      "source": [
        "# Feature Extraction (TF-IDF)"
      ]
    },
    {
      "cell_type": "code",
      "execution_count": null,
      "metadata": {
        "id": "tri5l2ImYr4b"
      },
      "outputs": [],
      "source": [
        "tfidf_vectorizer = TfidfVectorizer(\n",
        "  ngram_range = (1, 3),\n",
        "  max_features = 5000,\n",
        "  sublinear_tf = True,\n",
        "  stop_words = stopwords.words('english'))\n",
        "\n",
        "x_train_vectorized = tfidf_vectorizer.fit_transform(x_train)\n",
        "x_test_vectorized = tfidf_vectorizer.transform(x_test)\n",
        "x_dev_vectorized = tfidf_vectorizer.transform(x_dev)"
      ]
    },
    {
      "cell_type": "markdown",
      "metadata": {
        "id": "YYgbvu0ZpTSB"
      },
      "source": [
        "# Feature Selection (SelectKBest)"
      ]
    },
    {
      "cell_type": "code",
      "execution_count": null,
      "metadata": {
        "id": "D5l4xNF_Z018"
      },
      "outputs": [],
      "source": [
        "k_best = SelectKBest(chi2, k=2000)\n",
        "\n",
        "x_train_tfidf_selected = k_best.fit_transform(x_train_vectorized, y_train)\n",
        "x_dev_tfidf_selected = k_best.transform(x_dev_vectorized)\n",
        "x_test_tfidf_selected = k_best.transform(x_test_vectorized)"
      ]
    },
    {
      "cell_type": "markdown",
      "metadata": {
        "id": "jTAsqnYgpYKS"
      },
      "source": [
        "# Dimensionality Reduction (TruncatedSVD)"
      ]
    },
    {
      "cell_type": "code",
      "execution_count": null,
      "metadata": {
        "id": "vthRHKPcemCF"
      },
      "outputs": [],
      "source": [
        "svd = TruncatedSVD(n_components=500, random_state=4321)\n",
        "\n",
        "x_train_tfidf_svd = svd.fit_transform(x_train_tfidf_selected)\n",
        "x_dev_tfidf_svd = svd.transform(x_dev_tfidf_selected)\n",
        "x_test_tfidf_svd = svd.transform(x_test_tfidf_selected)"
      ]
    },
    {
      "cell_type": "code",
      "execution_count": null,
      "metadata": {
        "colab": {
          "base_uri": "https://localhost:8080/"
        },
        "id": "Vc7oY76GhIdg",
        "outputId": "0417731b-ffa5-45a2-ac17-79e5bddc37e4"
      },
      "outputs": [
        {
          "name": "stdout",
          "output_type": "stream",
          "text": [
            "Training set shape : (30000, 500)\n",
            "Developement set shape : (10000, 500)\n",
            "Test set shape : (10000, 500)\n"
          ]
        }
      ],
      "source": [
        "target_names = ['negative', 'positive']\n",
        "\n",
        "print('Training set shape :', x_train_tfidf_svd.shape)\n",
        "print('Development set shape :', x_dev_tfidf_svd.shape)\n",
        "print('Test set shape :', x_test_tfidf_svd.shape)"
      ]
    },
    {
      "cell_type": "code",
      "execution_count": null,
      "metadata": {
        "colab": {
          "base_uri": "https://localhost:8080/"
        },
        "id": "sccYpj8TmKnE",
        "outputId": "9b6898f9-6b83-4eed-c25c-6e3591364f51"
      },
      "outputs": [
        {
          "name": "stdout",
          "output_type": "stream",
          "text": [
            "\u001b[?25l     \u001b[90m━━━━━━━━━━━━━━━━━━━━━━━━━━━━━━━━━━━━━━━━\u001b[0m \u001b[32m0.0/128.9 kB\u001b[0m \u001b[31m?\u001b[0m eta \u001b[36m-:--:--\u001b[0m\r\u001b[2K     \u001b[90m━━━━━━━━━━━━━━━━━━━━━━━━━━━━━━━━━━━━━━━━\u001b[0m \u001b[32m128.9/128.9 kB\u001b[0m \u001b[31m3.8 MB/s\u001b[0m eta \u001b[36m0:00:00\u001b[0m\n",
            "\u001b[?25h"
          ]
        }
      ],
      "source": [
        "!pip install -q -U keras-tuner"
      ]
    },
    {
      "cell_type": "code",
      "execution_count": null,
      "metadata": {
        "colab": {
          "base_uri": "https://localhost:8080/"
        },
        "id": "xZfuyNMVqIo6",
        "outputId": "72664972-8486-4e2a-ae3c-cfca55bd601e"
      },
      "outputs": [
        {
          "name": "stdout",
          "output_type": "stream",
          "text": [
            "Trial 30 Complete [00h 01m 41s]\n",
            "val_accuracy: 0.8816999793052673\n",
            "\n",
            "Best val_accuracy So Far: 0.8826000094413757\n",
            "Total elapsed time: 00h 20m 15s\n",
            "\n",
            "The hyperparameter search is complete. The optimal number of units in the first densely-connected\n",
            "layer is 64, in the second densely-connected layer is 32 and the optimal learning rate for the optimizer\n",
            "is 0.001,the dropout probability is: 0.1.\n",
            "\n"
          ]
        }
      ],
      "source": [
        "import keras_tuner as kt\n",
        "\n",
        "def model_builder(hp):\n",
        "\n",
        "  hp_units = hp.Int('units', min_value=32, max_value=256, step=32)\n",
        "  hp_units_2 = hp.Int('units_2', min_value=32, max_value=256, step=32)\n",
        "  hp_dropout = hp.Float('rate', min_value=0.1, max_value=0.5, step=0.2)\n",
        "  hp_learning_rate = hp.Float('learning_rate', min_value=0.0001, max_value=0.1, step=10, sampling='log')\n",
        "\n",
        "\n",
        "  model = Sequential()\n",
        "  model.add(Dense(units=hp_units, input_dim=x_train_tfidf_svd.shape[1] , activation='relu'))\n",
        "  model.add(Dense(units=hp_units_2,  activation='relu'))\n",
        "  model.add(Dropout(rate = hp_dropout))\n",
        "  model.add(Dense(1, activation='sigmoid'))\n",
        "\n",
        "  model.compile(\n",
        "    loss=tf.keras.losses.BinaryCrossentropy(\n",
        "    from_logits=False),\n",
        "    optimizer=Adam(learning_rate=hp_learning_rate),\n",
        "    metrics=['accuracy']\n",
        "    )\n",
        "\n",
        "  return model\n",
        "\n",
        "tuner = kt.Hyperband(model_builder,\n",
        "                     objective='val_accuracy',\n",
        "                     max_epochs=20,\n",
        "                     factor=3,\n",
        "                     directory='my_dir',\n",
        "                     project_name='intro_to_kt')\n",
        "\n",
        "\n",
        "stop_early = tf.keras.callbacks.EarlyStopping(monitor='val_loss', patience=5)\n",
        "\n",
        "\n",
        "tuner.search(x_train_tfidf_svd, y_train, epochs=50, validation_data=(x_dev_tfidf_svd, y_dev), callbacks=[stop_early])\n",
        "\n",
        "\n",
        "# Get the optimal hyperparameters\n",
        "best_hps=tuner.get_best_hyperparameters(num_trials=1)[0]\n",
        "\n",
        "print(f\"\"\"\n",
        "The hyperparameter search is complete. The optimal number of units in the first densely-connected\n",
        "layer is {best_hps.get('units')}, in the second densely-connected layer is {best_hps.get('units_2')} and the optimal learning rate for the optimizer\n",
        "is {best_hps.get('learning_rate')},the dropout probability is: {best_hps.get('rate')}.\n",
        "\"\"\")"
      ]
    },
    {
      "cell_type": "code",
      "execution_count": null,
      "metadata": {
        "colab": {
          "base_uri": "https://localhost:8080/"
        },
        "id": "uQDUki6Ohm7W",
        "outputId": "db3458f2-ec77-4f07-804c-d0df808f2ad2"
      },
      "outputs": [
        {
          "name": "stdout",
          "output_type": "stream",
          "text": [
            "Model: \"sequential_1\"\n",
            "_________________________________________________________________\n",
            " Layer (type)                Output Shape              Param #   \n",
            "=================================================================\n",
            " dense_3 (Dense)             (None, 64)                32064     \n",
            "                                                                 \n",
            " dense_4 (Dense)             (None, 32)                2080      \n",
            "                                                                 \n",
            " dropout_1 (Dropout)         (None, 32)                0         \n",
            "                                                                 \n",
            " dense_5 (Dense)             (None, 1)                 33        \n",
            "                                                                 \n",
            "=================================================================\n",
            "Total params: 34177 (133.50 KB)\n",
            "Trainable params: 34177 (133.50 KB)\n",
            "Non-trainable params: 0 (0.00 Byte)\n",
            "_________________________________________________________________\n",
            "None\n"
          ]
        }
      ],
      "source": [
        "model = tuner.hypermodel.build(best_hps)\n",
        "\n",
        "print(model.summary())"
      ]
    },
    {
      "cell_type": "code",
      "execution_count": null,
      "metadata": {
        "colab": {
          "base_uri": "https://localhost:8080/"
        },
        "id": "l6V3VLoYnBbb",
        "outputId": "0585dd88-2698-468a-a1cd-3725c292f3a7"
      },
      "outputs": [
        {
          "name": "stdout",
          "output_type": "stream",
          "text": [
            "Epoch 1/50\n",
            "750/750 [==============================] - 4s 4ms/step - loss: 0.6718 - accuracy: 0.5900 - val_loss: 0.5879 - val_accuracy: 0.8551\n",
            "Epoch 2/50\n",
            "750/750 [==============================] - 3s 4ms/step - loss: 0.4121 - accuracy: 0.8497 - val_loss: 0.3077 - val_accuracy: 0.8790\n",
            "Epoch 3/50\n",
            "750/750 [==============================] - 4s 5ms/step - loss: 0.2905 - accuracy: 0.8799 - val_loss: 0.2935 - val_accuracy: 0.8770\n",
            "Epoch 4/50\n",
            "750/750 [==============================] - 3s 4ms/step - loss: 0.2769 - accuracy: 0.8836 - val_loss: 0.2837 - val_accuracy: 0.8827\n",
            "Epoch 5/50\n",
            "750/750 [==============================] - 3s 4ms/step - loss: 0.2730 - accuracy: 0.8871 - val_loss: 0.2829 - val_accuracy: 0.8821\n",
            "Epoch 6/50\n",
            "750/750 [==============================] - 3s 4ms/step - loss: 0.2728 - accuracy: 0.8855 - val_loss: 0.2841 - val_accuracy: 0.8808\n",
            "Epoch 7/50\n",
            "750/750 [==============================] - 3s 4ms/step - loss: 0.2704 - accuracy: 0.8869 - val_loss: 0.2843 - val_accuracy: 0.8813\n",
            "Epoch 8/50\n",
            "750/750 [==============================] - 4s 5ms/step - loss: 0.2701 - accuracy: 0.8863 - val_loss: 0.2832 - val_accuracy: 0.8800\n",
            "Epoch 9/50\n",
            "750/750 [==============================] - 3s 4ms/step - loss: 0.2699 - accuracy: 0.8882 - val_loss: 0.2854 - val_accuracy: 0.8811\n",
            "Epoch 10/50\n",
            "750/750 [==============================] - 3s 4ms/step - loss: 0.2685 - accuracy: 0.8888 - val_loss: 0.2832 - val_accuracy: 0.8807\n",
            "Epoch 11/50\n",
            "750/750 [==============================] - 3s 4ms/step - loss: 0.2678 - accuracy: 0.8892 - val_loss: 0.2828 - val_accuracy: 0.8814\n",
            "Epoch 12/50\n",
            "750/750 [==============================] - 4s 5ms/step - loss: 0.2680 - accuracy: 0.8877 - val_loss: 0.2829 - val_accuracy: 0.8816\n",
            "Epoch 13/50\n",
            "750/750 [==============================] - 3s 4ms/step - loss: 0.2683 - accuracy: 0.8878 - val_loss: 0.2848 - val_accuracy: 0.8799\n",
            "Epoch 14/50\n",
            "750/750 [==============================] - 3s 4ms/step - loss: 0.2683 - accuracy: 0.8879 - val_loss: 0.2830 - val_accuracy: 0.8822\n",
            "Epoch 15/50\n",
            "750/750 [==============================] - 3s 4ms/step - loss: 0.2673 - accuracy: 0.8899 - val_loss: 0.2840 - val_accuracy: 0.8811\n",
            "Epoch 16/50\n",
            "750/750 [==============================] - 3s 4ms/step - loss: 0.2667 - accuracy: 0.8890 - val_loss: 0.2859 - val_accuracy: 0.8808\n",
            "Epoch 17/50\n",
            "750/750 [==============================] - 4s 5ms/step - loss: 0.2659 - accuracy: 0.8887 - val_loss: 0.2899 - val_accuracy: 0.8789\n",
            "Epoch 18/50\n",
            "750/750 [==============================] - 3s 4ms/step - loss: 0.2671 - accuracy: 0.8892 - val_loss: 0.2842 - val_accuracy: 0.8816\n",
            "Epoch 19/50\n",
            "750/750 [==============================] - 3s 4ms/step - loss: 0.2669 - accuracy: 0.8900 - val_loss: 0.2859 - val_accuracy: 0.8810\n",
            "Epoch 20/50\n",
            "750/750 [==============================] - 3s 4ms/step - loss: 0.2659 - accuracy: 0.8889 - val_loss: 0.2835 - val_accuracy: 0.8810\n",
            "Epoch 21/50\n",
            "750/750 [==============================] - 4s 5ms/step - loss: 0.2670 - accuracy: 0.8880 - val_loss: 0.2837 - val_accuracy: 0.8803\n",
            "Epoch 22/50\n",
            "750/750 [==============================] - 3s 4ms/step - loss: 0.2666 - accuracy: 0.8898 - val_loss: 0.2857 - val_accuracy: 0.8816\n",
            "Epoch 23/50\n",
            "750/750 [==============================] - 3s 4ms/step - loss: 0.2662 - accuracy: 0.8892 - val_loss: 0.2863 - val_accuracy: 0.8815\n",
            "Epoch 24/50\n",
            "750/750 [==============================] - 3s 4ms/step - loss: 0.2670 - accuracy: 0.8877 - val_loss: 0.2907 - val_accuracy: 0.8789\n",
            "Epoch 25/50\n",
            "750/750 [==============================] - 4s 5ms/step - loss: 0.2664 - accuracy: 0.8880 - val_loss: 0.2846 - val_accuracy: 0.8819\n",
            "Epoch 26/50\n",
            "750/750 [==============================] - 3s 4ms/step - loss: 0.2658 - accuracy: 0.8889 - val_loss: 0.2857 - val_accuracy: 0.8821\n",
            "Epoch 27/50\n",
            "750/750 [==============================] - 3s 4ms/step - loss: 0.2662 - accuracy: 0.8890 - val_loss: 0.2836 - val_accuracy: 0.8814\n",
            "Epoch 28/50\n",
            "750/750 [==============================] - 3s 4ms/step - loss: 0.2660 - accuracy: 0.8885 - val_loss: 0.2830 - val_accuracy: 0.8802\n",
            "Epoch 29/50\n",
            "750/750 [==============================] - 3s 4ms/step - loss: 0.2654 - accuracy: 0.8886 - val_loss: 0.2872 - val_accuracy: 0.8812\n",
            "Epoch 30/50\n",
            "750/750 [==============================] - 4s 5ms/step - loss: 0.2657 - accuracy: 0.8895 - val_loss: 0.2881 - val_accuracy: 0.8808\n",
            "Epoch 31/50\n",
            "750/750 [==============================] - 3s 4ms/step - loss: 0.2658 - accuracy: 0.8886 - val_loss: 0.2849 - val_accuracy: 0.8823\n",
            "Epoch 32/50\n",
            "750/750 [==============================] - 3s 4ms/step - loss: 0.2662 - accuracy: 0.8890 - val_loss: 0.2835 - val_accuracy: 0.8805\n",
            "Epoch 33/50\n",
            "750/750 [==============================] - 3s 4ms/step - loss: 0.2653 - accuracy: 0.8887 - val_loss: 0.2832 - val_accuracy: 0.8807\n",
            "Epoch 34/50\n",
            "750/750 [==============================] - 4s 5ms/step - loss: 0.2658 - accuracy: 0.8884 - val_loss: 0.2834 - val_accuracy: 0.8813\n",
            "Epoch 35/50\n",
            "750/750 [==============================] - 3s 5ms/step - loss: 0.2648 - accuracy: 0.8895 - val_loss: 0.2834 - val_accuracy: 0.8802\n",
            "Epoch 36/50\n",
            "750/750 [==============================] - 3s 4ms/step - loss: 0.2651 - accuracy: 0.8883 - val_loss: 0.2837 - val_accuracy: 0.8802\n",
            "Epoch 37/50\n",
            "750/750 [==============================] - 3s 4ms/step - loss: 0.2645 - accuracy: 0.8904 - val_loss: 0.2842 - val_accuracy: 0.8806\n",
            "Epoch 38/50\n",
            "750/750 [==============================] - 3s 4ms/step - loss: 0.2644 - accuracy: 0.8890 - val_loss: 0.2846 - val_accuracy: 0.8816\n",
            "Epoch 39/50\n",
            "750/750 [==============================] - 4s 6ms/step - loss: 0.2651 - accuracy: 0.8886 - val_loss: 0.2831 - val_accuracy: 0.8810\n",
            "Epoch 40/50\n",
            "750/750 [==============================] - 3s 4ms/step - loss: 0.2649 - accuracy: 0.8895 - val_loss: 0.2831 - val_accuracy: 0.8810\n",
            "Epoch 41/50\n",
            "750/750 [==============================] - 3s 4ms/step - loss: 0.2647 - accuracy: 0.8892 - val_loss: 0.2885 - val_accuracy: 0.8808\n",
            "Epoch 42/50\n",
            "750/750 [==============================] - 3s 4ms/step - loss: 0.2645 - accuracy: 0.8896 - val_loss: 0.2835 - val_accuracy: 0.8803\n",
            "Epoch 43/50\n",
            "750/750 [==============================] - 4s 5ms/step - loss: 0.2640 - accuracy: 0.8883 - val_loss: 0.2882 - val_accuracy: 0.8802\n",
            "Epoch 44/50\n",
            "750/750 [==============================] - 3s 4ms/step - loss: 0.2638 - accuracy: 0.8897 - val_loss: 0.2833 - val_accuracy: 0.8813\n",
            "Epoch 45/50\n",
            "750/750 [==============================] - 3s 4ms/step - loss: 0.2638 - accuracy: 0.8890 - val_loss: 0.2834 - val_accuracy: 0.8807\n",
            "Epoch 46/50\n",
            "750/750 [==============================] - 3s 4ms/step - loss: 0.2630 - accuracy: 0.8889 - val_loss: 0.2827 - val_accuracy: 0.8810\n",
            "Epoch 47/50\n",
            "750/750 [==============================] - 3s 5ms/step - loss: 0.2638 - accuracy: 0.8903 - val_loss: 0.2844 - val_accuracy: 0.8800\n",
            "Epoch 48/50\n",
            "750/750 [==============================] - 4s 5ms/step - loss: 0.2631 - accuracy: 0.8896 - val_loss: 0.2831 - val_accuracy: 0.8812\n",
            "Epoch 49/50\n",
            "750/750 [==============================] - 3s 4ms/step - loss: 0.2631 - accuracy: 0.8881 - val_loss: 0.2854 - val_accuracy: 0.8820\n",
            "Epoch 50/50\n",
            "750/750 [==============================] - 3s 4ms/step - loss: 0.2626 - accuracy: 0.8885 - val_loss: 0.2841 - val_accuracy: 0.8808\n",
            "\n",
            "Training time: 00:03:22 sec\n",
            "\n",
            "Best epoch: 4\n"
          ]
        }
      ],
      "source": [
        "import time\n",
        "\n",
        "with tf.device('/device:GPU:0'):\n",
        "\n",
        "  start_training_time = time.time()\n",
        "\n",
        "  history = model.fit(\n",
        "      x_train_tfidf_svd,\n",
        "      y_train,\n",
        "      validation_data=(x_dev_tfidf_svd, y_dev),\n",
        "      batch_size=40,\n",
        "      epochs=50,\n",
        "      shuffle=True\n",
        "      )\n",
        "\n",
        "  end_training_time = time.time()\n",
        "\n",
        "  print(f'\\nTraining time: {time.strftime(\"%H:%M:%S\", time.gmtime(end_training_time - start_training_time))} sec\\n')\n",
        "\n",
        "val_acc_per_epoch = history.history['val_accuracy']\n",
        "best_epoch = val_acc_per_epoch.index(max(val_acc_per_epoch)) + 1\n",
        "print('Best epoch: %d' % (best_epoch,))"
      ]
    },
    {
      "cell_type": "code",
      "execution_count": null,
      "metadata": {
        "colab": {
          "base_uri": "https://localhost:8080/",
          "height": 927
        },
        "id": "jEKk14xnocA7",
        "outputId": "a573a4f1-5d8f-46cb-baf9-449aafcf672c"
      },
      "outputs": [
        {
          "data": {
            "image/png": "[encoded data removed]",
            "text/plain": [
              "<Figure size 640x480 with 1 Axes>"
            ]
          },
          "metadata": {},
          "output_type": "display_data"
        },
        {
          "data": {
            "image/png": "[encoded data removed]",
            "text/plain": [
              "<Figure size 640x480 with 1 Axes>"
            ]
          },
          "metadata": {},
          "output_type": "display_data"
        }
      ],
      "source": [
        "%matplotlib inline\n",
        "import matplotlib.pyplot as plt\n",
        "\n",
        "\n",
        "# summarize history for accuracy\n",
        "plt.plot(history.history['accuracy'])\n",
        "plt.plot(history.history['val_accuracy'])\n",
        "plt.title('Model Accuracy')\n",
        "plt.ylabel('accuracy')\n",
        "plt.xlabel('epochs')\n",
        "plt.legend(['Training set', 'Development set'], loc='lower right')\n",
        "plt.show()\n",
        "\n",
        "# summarize history for loss\n",
        "plt.plot(history.history['loss'])\n",
        "plt.plot(history.history['val_loss'])\n",
        "plt.title('Model Loss')\n",
        "plt.ylabel('loss')\n",
        "plt.xlabel('epochs')\n",
        "plt.legend(['Training set', 'Development set'], loc='upper right')\n",
        "plt.show()"
      ]
    },
    {
      "cell_type": "markdown",
      "metadata": {
        "id": "OlfhhqH_e6pa"
      },
      "source": [
        "# Metrics\n",
        "\n",
        "Precision , Recall , F1 , AUC scores for each classifier"
      ]
    },
    {
      "cell_type": "code",
      "execution_count": null,
      "metadata": {
        "colab": {
          "base_uri": "https://localhost:8080/"
        },
        "id": "_Vykqg62ZMWe",
        "outputId": "198d96e1-fa6a-441c-9cbe-dfe93e46586a"
      },
      "outputs": [
        {
          "name": "stdout",
          "output_type": "stream",
          "text": [
            "Epoch 1/4\n",
            "750/750 [==============================] - 4s 4ms/step - loss: 0.6753 - accuracy: 0.5828 - val_loss: 0.5975 - val_accuracy: 0.8425\n",
            "Epoch 2/4\n",
            "750/750 [==============================] - 3s 4ms/step - loss: 0.4215 - accuracy: 0.8433 - val_loss: 0.3126 - val_accuracy: 0.8779\n",
            "Epoch 3/4\n",
            "750/750 [==============================] - 3s 5ms/step - loss: 0.2919 - accuracy: 0.8794 - val_loss: 0.2868 - val_accuracy: 0.8814\n",
            "Epoch 4/4\n",
            "750/750 [==============================] - 3s 4ms/step - loss: 0.2771 - accuracy: 0.8840 - val_loss: 0.2846 - val_accuracy: 0.8814\n",
            "938/938 [==============================] - 2s 2ms/step\n",
            "313/313 [==============================] - 1s 2ms/step\n",
            "313/313 [==============================] - 1s 2ms/step\n",
            "\n",
            "--------- Baseline 1 Dummy Classifier ---------\n",
            "\n",
            "Training set\n",
            "\n",
            "              precision    recall  f1-score   support\n",
            "\n",
            "    negative       0.50      0.50      0.50     15026\n",
            "    positive       0.50      0.50      0.50     14974\n",
            "\n",
            "    accuracy                           0.50     30000\n",
            "   macro avg       0.50      0.50      0.50     30000\n",
            "weighted avg       0.50      0.50      0.50     30000\n",
            "\n",
            "AUC training : 0.7495666666666667 \n",
            "\n",
            "\n",
            "Developement set\n",
            "\n",
            "              precision    recall  f1-score   support\n",
            "\n",
            "    negative       0.49      0.50      0.50      4947\n",
            "    positive       0.50      0.50      0.50      5053\n",
            "\n",
            "    accuracy                           0.50     10000\n",
            "   macro avg       0.50      0.50      0.50     10000\n",
            "weighted avg       0.50      0.50      0.50     10000\n",
            "\n",
            "AUC developement : 0.75265 \n",
            "\n",
            "\n",
            "Test set\n",
            "\n",
            "              precision    recall  f1-score   support\n",
            "\n",
            "    negative       0.49      0.49      0.49      5027\n",
            "    positive       0.49      0.49      0.49      4973\n",
            "\n",
            "    accuracy                           0.49     10000\n",
            "   macro avg       0.49      0.49      0.49     10000\n",
            "weighted avg       0.49      0.49      0.49     10000\n",
            "\n",
            "AUC test : 0.74865 \n",
            "\n",
            "\n",
            "--------- Baseline 2 Logistic Regression ---------\n",
            "\n",
            "Training set\n",
            "\n",
            "              precision    recall  f1-score   support\n",
            "\n",
            "    negative       0.89      0.88      0.89     15026\n",
            "    positive       0.88      0.90      0.89     14974\n",
            "\n",
            "    accuracy                           0.89     30000\n",
            "   macro avg       0.89      0.89      0.89     30000\n",
            "weighted avg       0.89      0.89      0.89     30000\n",
            "\n",
            "AUC training : 0.9549040880904804 \n",
            "\n",
            "\n",
            "Developement set\n",
            "\n",
            "              precision    recall  f1-score   support\n",
            "\n",
            "    negative       0.89      0.86      0.88      4947\n",
            "    positive       0.87      0.90      0.88      5053\n",
            "\n",
            "    accuracy                           0.88     10000\n",
            "   macro avg       0.88      0.88      0.88     10000\n",
            "weighted avg       0.88      0.88      0.88     10000\n",
            "\n",
            "AUC developement : 0.947848125284708 \n",
            "\n",
            "\n",
            "Test set\n",
            "\n",
            "              precision    recall  f1-score   support\n",
            "\n",
            "    negative       0.89      0.86      0.88      5027\n",
            "    positive       0.86      0.89      0.88      4973\n",
            "\n",
            "    accuracy                           0.88     10000\n",
            "   macro avg       0.88      0.88      0.88     10000\n",
            "weighted avg       0.88      0.88      0.88     10000\n",
            "\n",
            "AUC test : 0.9497378593753576 \n",
            "\n",
            "\n",
            "--------- Custom MLP ---------\n",
            "\n",
            "Training set\n",
            "\n",
            "              precision    recall  f1-score   support\n",
            "\n",
            "    negative       0.90      0.87      0.89     15026\n",
            "    positive       0.88      0.91      0.89     14974\n",
            "\n",
            "    accuracy                           0.89     30000\n",
            "   macro avg       0.89      0.89      0.89     30000\n",
            "weighted avg       0.89      0.89      0.89     30000\n",
            "\n",
            "AUC training : 0.9569612603049198 \n",
            "\n",
            "\n",
            "Developement set\n",
            "\n",
            "              precision    recall  f1-score   support\n",
            "\n",
            "    negative       0.90      0.86      0.88      4947\n",
            "    positive       0.87      0.90      0.89      5053\n",
            "\n",
            "    accuracy                           0.88     10000\n",
            "   macro avg       0.88      0.88      0.88     10000\n",
            "weighted avg       0.88      0.88      0.88     10000\n",
            "\n",
            "AUC developement : 0.9490641477481148 \n",
            "\n",
            "\n",
            "Test set\n",
            "\n",
            "              precision    recall  f1-score   support\n",
            "\n",
            "    negative       0.90      0.86      0.88      5027\n",
            "    positive       0.86      0.91      0.88      4973\n",
            "\n",
            "    accuracy                           0.88     10000\n",
            "   macro avg       0.88      0.88      0.88     10000\n",
            "weighted avg       0.88      0.88      0.88     10000\n",
            "\n",
            "AUC test : 0.9510136130358279\n"
          ]
        }
      ],
      "source": [
        "lr = LogisticRegression(solver = 'liblinear', max_iter = 50, C=0.9)\n",
        "lr.fit(x_train_tfidf_svd, y_train)\n",
        "\n",
        "dummy = DummyClassifier(strategy=\"uniform\")\n",
        "dummy.fit(x_train_tfidf_svd , y_train)\n",
        "\n",
        "model = tuner.hypermodel.build(best_hps)\n",
        "model.fit(x_train_tfidf_svd, y_train, validation_data=(x_dev_tfidf_svd, y_dev), batch_size=40, epochs=best_epoch, shuffle=True)\n",
        "\n",
        "\n",
        "lr_predictions_train = lr.predict(x_train_tfidf_svd)\n",
        "lr_predictions_train_proba = lr.predict_proba(x_train_tfidf_svd)\n",
        "lr_precision_train, lr_recall_train, thresholds = precision_recall_curve(y_train, lr_predictions_train_proba[:,1])\n",
        "\n",
        "lr_predictions_dev = lr.predict(x_dev_tfidf_svd)\n",
        "lr_predictions_dev_proba = lr.predict_proba(x_dev_tfidf_svd)\n",
        "lr_precision_dev, lr_recall_dev, thresholds = precision_recall_curve(y_dev, lr_predictions_dev_proba[:,1])\n",
        "\n",
        "lr_predictions_test = lr.predict(x_test_tfidf_svd)\n",
        "lr_predictions_test_proba = lr.predict_proba(x_test_tfidf_svd)\n",
        "lr_precision_test, lr_recall_test, thresholds = precision_recall_curve(y_test, lr_predictions_test_proba[:,1])\n",
        "\n",
        "\n",
        "dummy_predictions_train = dummy.predict(x_train_tfidf_svd)\n",
        "dummy_predictions_train_proba = dummy.predict_proba(x_train_tfidf_svd)\n",
        "dummy_precision_train, dummy_recall_train, thresholds = precision_recall_curve(y_train, dummy_predictions_train_proba[:,1])\n",
        "\n",
        "dummy_predictions_dev = dummy.predict(x_dev_tfidf_svd)\n",
        "dummy_predictions_dev_proba = dummy.predict_proba(x_dev_tfidf_svd)\n",
        "dummy_precision_dev, dummy_recall_dev, thresholds = precision_recall_curve(y_dev, dummy_predictions_dev_proba[:,1])\n",
        "\n",
        "dummy_predictions_test = dummy.predict(x_test_tfidf_svd)\n",
        "dummy_predictions_test_proba = dummy.predict_proba(x_test_tfidf_svd)\n",
        "dummy_precision_test, dummy_recall_test, thresholds = precision_recall_curve(y_test, dummy_predictions_test_proba[:,1])\n",
        "\n",
        "\n",
        "mlp_predictions_train = model.predict(x_train_tfidf_svd)\n",
        "mlp_precision_train, mlp_recall_train, thresholds = precision_recall_curve(y_train, mlp_predictions_train)\n",
        "\n",
        "mlp_predictions_dev = model.predict(x_dev_tfidf_svd)\n",
        "mlp_precision_dev, mlp_recall_dev, thresholds = precision_recall_curve(y_dev, mlp_predictions_dev)\n",
        "\n",
        "mlp_predictions_test = model.predict(x_test_tfidf_svd)\n",
        "mlp_precision_test, mlp_recall_test, thresholds = precision_recall_curve(y_test, mlp_predictions_test)\n",
        "\n",
        "\n",
        "\n",
        "print('\\n--------- Baseline 1 Dummy Classifier ---------\\n')\n",
        "print('Training set\\n')\n",
        "print(classification_report(y_train, dummy_predictions_train, target_names = target_names))\n",
        "print('AUC training :', auc(dummy_recall_train, dummy_precision_train), '\\n')\n",
        "print('\\nDevelopment set\\n')\n",
        "print(classification_report(y_dev, dummy_predictions_dev, target_names = target_names))\n",
        "print('AUC development :', auc(dummy_recall_dev, dummy_precision_dev), '\\n')\n",
        "print('\\nTest set\\n')\n",
        "print(classification_report(y_test, dummy_predictions_test, target_names = target_names))\n",
        "print('AUC test :', auc(dummy_recall_test, dummy_precision_test), '\\n')\n",
        "\n",
        "\n",
        "print('\\n--------- Baseline 2 Logistic Regression ---------\\n')\n",
        "print('Training set\\n')\n",
        "print(classification_report(y_train, lr_predictions_train, target_names = target_names))\n",
        "print('AUC training :', auc(lr_recall_train, lr_precision_train), '\\n')\n",
        "print('\\nDevelopment set\\n')\n",
        "print(classification_report(y_dev, lr_predictions_dev, target_names = target_names))\n",
        "print('AUC development :', auc(lr_recall_dev, lr_precision_dev), '\\n')\n",
        "print('\\nTest set\\n')\n",
        "print(classification_report(y_test, lr_predictions_test, target_names = target_names))\n",
        "print('AUC test :', auc(lr_recall_test, lr_precision_test), '\\n')\n",
        "\n",
        "\n",
        "print('\\n--------- Custom MLP ---------\\n')\n",
        "print('Training set\\n')\n",
        "print(classification_report(y_train, np.round(mlp_predictions_train), target_names = target_names))\n",
        "print('AUC training :', auc(mlp_recall_train, mlp_precision_train), '\\n')\n",
        "print('\\nDevelopment set\\n')\n",
        "print(classification_report(y_dev, np.round(mlp_predictions_dev), target_names = target_names))\n",
        "print('AUC development :', auc(mlp_recall_dev, mlp_precision_dev), '\\n')\n",
        "print('\\nTest set\\n')\n",
        "print(classification_report(y_test, np.round(mlp_predictions_test), target_names = target_names))\n",
        "print('AUC test :', auc(mlp_recall_test, mlp_precision_test))"
      ]
    }
  ],
  "metadata": {
    "accelerator": "GPU",
    "colab": {
      "gpuType": "T4",
      "provenance": []
    },
    "kernelspec": {
      "display_name": "Python 3",
      "name": "python3"
    },
    "language_info": {
      "name": "python"
    }
  },
  "nbformat": 4,
  "nbformat_minor": 0
}
