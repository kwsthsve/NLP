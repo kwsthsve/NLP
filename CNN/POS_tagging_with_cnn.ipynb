{
  "cells": [
    {
      "cell_type": "code",
      "execution_count": 1,
      "metadata": {
        "id": "KLi7mxXuqKeu"
      },
      "outputs": [],
      "source": [
        "import requests\n",
        "import gensim.downloader as api\n",
        "import numpy as np\n",
        "\n",
        "import re\n",
        "\n",
        "import tensorflow as tf\n",
        "from tensorflow.keras.callbacks import ModelCheckpoint\n",
        "from tensorflow.keras.layers import Dense, Dropout, GlobalMaxPooling1D, Conv1D, Embedding, Input, Add, BatchNormalization, ReLU\n",
        "from tensorflow.keras.optimizers import Adam\n",
        "from tensorflow.keras import Model\n",
        "\n",
        "from sklearn.preprocessing import MultiLabelBinarizer\n",
        "from sklearn.metrics import classification_report, auc, precision_recall_curve"
      ]
    },
    {
      "cell_type": "code",
      "execution_count": 2,
      "metadata": {
        "id": "n_xX8Z8Zspfv"
      },
      "outputs": [],
      "source": [
        "data_train = requests.get('https://raw.githubusercontent.com/UniversalDependencies/UD_English-GUM/master/en_gum-ud-train.conllu')\n",
        "data_test = requests.get('https://raw.githubusercontent.com/UniversalDependencies/UD_English-GUM/master/en_gum-ud-test.conllu')\n",
        "data_dev = requests.get('https://raw.githubusercontent.com/UniversalDependencies/UD_English-GUM/master/en_gum-ud-dev.conllu')\n",
        "\n",
        "START = '__start__'\n",
        "END = '__end__'\n",
        "UNK = '__unk__'"
      ]
    },
    {
      "cell_type": "code",
      "execution_count": 3,
      "metadata": {
        "id": "s_YeaNxNyio_"
      },
      "outputs": [],
      "source": [
        "def tokenizer(data):\n",
        "\n",
        "  raw_text = data.text.strip()\n",
        "  raw_docs = re.split(r'\\n\\t?\\n', raw_text)\n",
        "  token_docs = []\n",
        "  tag_docs = []\n",
        "  sentences = []\n",
        "\n",
        "  for doc in raw_docs:\n",
        "    tokens = [START] + [START]\n",
        "    tags = []\n",
        "    for line in doc.split('\\n'):\n",
        "      if (len(line.split('\\t')) != 1):\n",
        "        tokens.append(line.split('\\t')[1].lower())\n",
        "        tags.append(line.split('\\t')[3])\n",
        "\n",
        "    tokens.append(END)\n",
        "    tokens.append(END)\n",
        "    token_docs.append(tokens)\n",
        "    tag_docs.append(tags)\n",
        "\n",
        "  return  token_docs, tag_docs"
      ]
    },
    {
      "cell_type": "markdown",
      "metadata": {
        "id": "ZkhsQtx-Dso0"
      },
      "source": [
        "#### Validity for pos tagging and tokens. Should have the same size (with substract 2 cause of the pseudotoken start & end"
      ]
    },
    {
      "cell_type": "code",
      "execution_count": 4,
      "metadata": {
        "id": "I5vp2UGKHMtQ"
      },
      "outputs": [],
      "source": [
        "token_docs_train, tag_docs_train = tokenizer(data_train)\n",
        "token_docs_test, tag_docs_test = tokenizer(data_test)\n",
        "token_docs_dev, tag_docs_dev = tokenizer(data_dev)\n",
        "\n",
        "#validity for pos tagging and tokens.\n",
        "for i in range(len(token_docs_train)):\n",
        "  if len(token_docs_train[i]) - len(tag_docs_train[i]) != 4:\n",
        "    print(i)"
      ]
    },
    {
      "cell_type": "markdown",
      "metadata": {
        "id": "naH3T8NuQzRT"
      },
      "source": [
        "#### Size of training, development and test datasets"
      ]
    },
    {
      "cell_type": "code",
      "execution_count": 5,
      "metadata": {
        "colab": {
          "base_uri": "https://localhost:8080/"
        },
        "id": "gQrGI2-CJwgt",
        "outputId": "cf42ea95-753e-4895-d245-b6b4597b4c0f"
      },
      "outputs": [
        {
          "name": "stdout",
          "output_type": "stream",
          "text": [
            "Training sentences : 8548\n",
            "Test sentences : 1096\n",
            "Development sentences : 1117\n"
          ]
        }
      ],
      "source": [
        "print('Training sentences :', len(token_docs_train))\n",
        "print('Test sentences :', len(token_docs_test))\n",
        "print('Development sentences :', len(token_docs_dev))"
      ]
    },
    {
      "cell_type": "markdown",
      "metadata": {
        "id": "VqfCVqdDAGZw"
      },
      "source": [
        "### Get Number of labels and check support for each label\n",
        "\n",
        "##### '_' ---> word contains apostrophe while 'X' ---> not english"
      ]
    },
    {
      "cell_type": "code",
      "execution_count": 6,
      "metadata": {
        "colab": {
          "base_uri": "https://localhost:8080/"
        },
        "id": "rLTZHWDIAGE5",
        "outputId": "7e63a2f7-9b58-4e26-9680-2b80a8e04045"
      },
      "outputs": [
        {
          "name": "stdout",
          "output_type": "stream",
          "text": [
            "Training set labels : ['ADJ', 'ADP', 'ADV', 'AUX', 'CCONJ', 'DET', 'INTJ', 'NOUN', 'NUM', 'PART', 'PRON', 'PROPN', 'PUNCT', 'SCONJ', 'SYM', 'VERB', 'X', '_']\n",
            "Test set labels : ['ADJ', 'ADP', 'ADV', 'AUX', 'CCONJ', 'DET', 'INTJ', 'NOUN', 'NUM', 'PART', 'PRON', 'PROPN', 'PUNCT', 'SCONJ', 'SYM', 'VERB', 'X', '_']\n",
            "Development set labels : ['ADJ', 'ADP', 'ADV', 'AUX', 'CCONJ', 'DET', 'INTJ', 'NOUN', 'NUM', 'PART', 'PRON', 'PROPN', 'PUNCT', 'SCONJ', 'SYM', 'VERB', 'X', '_']\n",
            "\n",
            "Number of labels : 18\n",
            "Vocabulary size : 14826\n",
            "\n",
            "Average sentence length of training set : 19\n",
            "Average sentence length of development set : 19\n",
            "Average sentence length of test set : 20\n"
          ]
        }
      ],
      "source": [
        "flatten_tags_dev = [t for tag in tag_docs_dev for t in tag]\n",
        "flatten_tags_test = [t for tag in tag_docs_test for t in tag]\n",
        "flatten_tags_train = [t for tag in tag_docs_train for t in tag]\n",
        "\n",
        "print('Training set labels :', sorted(set(flatten_tags_train)))\n",
        "print('Test set labels :', sorted(set(flatten_tags_test)))\n",
        "print('Development set labels :', sorted(set(flatten_tags_dev)))\n",
        "\n",
        "N_CLASSES = len(set(flatten_tags_train))\n",
        "print('\\nNumber of labels :', N_CLASSES)\n",
        "print('Vocabulary size :', len(set(t for token in token_docs_train for t in token)) - 2)\n",
        "\n",
        "\n",
        "def average_sentence_length(sentences):\n",
        "  sent_sizes = []\n",
        "\n",
        "  for sent in sentences:\n",
        "    sent_sizes.append(len(sent) - 2)\n",
        "\n",
        "  return int(np.mean(np.array(sent_sizes)))\n",
        "\n",
        "print('\\nAverage sentence length of training set :', average_sentence_length(token_docs_train))\n",
        "print('Average sentence length of development set :', average_sentence_length(token_docs_dev))\n",
        "print('Average sentence length of test set :', average_sentence_length(token_docs_test))"
      ]
    },
    {
      "cell_type": "markdown",
      "metadata": {
        "id": "P4CYoGE-W9Sg"
      },
      "source": [
        "### Create d-Window mini-sentences"
      ]
    },
    {
      "cell_type": "code",
      "execution_count": 7,
      "metadata": {
        "id": "t_cArxzRXM8j"
      },
      "outputs": [],
      "source": [
        "def window_tokenized(WINDOW_NUMBER, token_docs):\n",
        "  windowed_token_docs = []\n",
        "  for sent in token_docs:\n",
        "    temp = [[sent[idx + i] for i in range(WINDOW_NUMBER)] for idx in range(len(sent) - WINDOW_NUMBER + 1)]\n",
        "    windowed_token_docs.append(temp)\n",
        "\n",
        "  return [window for m_sentence in windowed_token_docs for window in m_sentence]"
      ]
    },
    {
      "cell_type": "code",
      "execution_count": 8,
      "metadata": {
        "colab": {
          "base_uri": "https://localhost:8080/"
        },
        "id": "G4ot9m5DdJ5e",
        "outputId": "14230779-5dcf-4a2b-c2eb-4015351058eb"
      },
      "outputs": [
        {
          "name": "stdout",
          "output_type": "stream",
          "text": [
            "Training mini-sentences : 150374 and Training y_true : 150374\n",
            "Test mini-sentences : 20195 and Test y_true : 20195\n",
            "Development mini-sentences : 19997 and Development y_true : 19997\n"
          ]
        }
      ],
      "source": [
        "WINDOW = 5\n",
        "\n",
        "windowed_token_docs_train = window_tokenized(WINDOW, token_docs_train)\n",
        "windowed_token_docs_test = window_tokenized(WINDOW, token_docs_test)\n",
        "windowed_token_docs_dev = window_tokenized(WINDOW, token_docs_dev)\n",
        "\n",
        "\n",
        "print('Training mini-sentences :', len(windowed_token_docs_train), 'and Training y_true :', len(flatten_tags_train))\n",
        "print('Test mini-sentences :', len(windowed_token_docs_test), 'and Test y_true :', len(flatten_tags_test))\n",
        "print('Development mini-sentences :', len(windowed_token_docs_dev), 'and Development y_true :', len(flatten_tags_dev))"
      ]
    },
    {
      "cell_type": "markdown",
      "metadata": {
        "id": "LWGjRSqzMSxY"
      },
      "source": [
        "### Create 1-hot vectors for y_true label"
      ]
    },
    {
      "cell_type": "code",
      "execution_count": 9,
      "metadata": {
        "id": "hvmbiP5DDyLb"
      },
      "outputs": [],
      "source": [
        "mlb = MultiLabelBinarizer()\n",
        "\n",
        "y_train_1_hot  = mlb.fit_transform([[tag] for tag in flatten_tags_train])\n",
        "y_test_1_hot  = mlb.transform([[tag] for tag in flatten_tags_test])\n",
        "y_dev_1_hot  = mlb.transform([[tag] for tag in flatten_tags_dev])"
      ]
    },
    {
      "cell_type": "markdown",
      "metadata": {
        "id": "sfug30YyBnfW"
      },
      "source": [
        "# Indexing and embedding"
      ]
    },
    {
      "cell_type": "code",
      "execution_count": 10,
      "metadata": {
        "colab": {
          "base_uri": "https://localhost:8080/"
        },
        "id": "cYvXBr-MgDd1",
        "outputId": "b603bb44-fc18-480d-cbe4-2f93ba859ca1"
      },
      "outputs": [
        {
          "name": "stdout",
          "output_type": "stream",
          "text": [
            "[==================================================] 100.0% 376.1/376.1MB downloaded\n"
          ]
        }
      ],
      "source": [
        "embeddings = api.load('glove-wiki-gigaword-300')"
      ]
    },
    {
      "cell_type": "code",
      "execution_count": 11,
      "metadata": {
        "colab": {
          "base_uri": "https://localhost:8080/"
        },
        "id": "BQsovs45ALwP",
        "outputId": "5b19317a-d9f8-4922-f890-d9408f1258b0"
      },
      "outputs": [
        {
          "name": "stdout",
          "output_type": "stream",
          "text": [
            "[2857 2857 8313 1000 4170]\n",
            "[ 2857  8313  1000  4170 14030]\n",
            "2857\n"
          ]
        }
      ],
      "source": [
        "vocab = set(t for token in token_docs_train for t in token)\n",
        "VOCAB_SIZE = len(vocab)\n",
        "\n",
        "word_index = dict()\n",
        "\n",
        "for i, word in enumerate(vocab):\n",
        "  word_index[word] = i\n",
        "\n",
        "word_index[UNK] = VOCAB_SIZE\n",
        "\n",
        "\n",
        "def replace_with_index(windowed_token_docs, word_idx):\n",
        "\n",
        "    doc_tokenized = []\n",
        "\n",
        "    for mini_sent in windowed_token_docs:\n",
        "      doc_tokenized.append([word_idx[UNK] if word not in word_idx.keys() else word_idx[word] for word in mini_sent])\n",
        "\n",
        "    return np.array(doc_tokenized)\n",
        "\n",
        "\n",
        "train_data = replace_with_index(windowed_token_docs_train, word_index)\n",
        "dev_data = replace_with_index(windowed_token_docs_dev, word_index)\n",
        "test_data = replace_with_index(windowed_token_docs_test, word_index)\n",
        "\n",
        "print(train_data[0])\n",
        "print(train_data[1])\n",
        "print(word_index[START])"
      ]
    },
    {
      "cell_type": "code",
      "execution_count": 12,
      "metadata": {
        "colab": {
          "base_uri": "https://localhost:8080/"
        },
        "id": "YfVk__n4ATW8",
        "outputId": "834242f2-a800-4096-c905-00e991bb4ae0"
      },
      "outputs": [
        {
          "name": "stdout",
          "output_type": "stream",
          "text": [
            "13709\n",
            "13709\n"
          ]
        }
      ],
      "source": [
        "EMBEDDING_DIM = 300\n",
        "\n",
        "embedding_matrix = np.zeros((VOCAB_SIZE+1, EMBEDDING_DIM))\n",
        "\n",
        "count = 0\n",
        "for i, word in enumerate(vocab):\n",
        "\n",
        "    try:\n",
        "        embedding_matrix[i] = embeddings[word]\n",
        "        count += 1\n",
        "    except:\n",
        "        pass\n",
        "\n",
        "\n",
        "print(len(np.unique(np.nonzero(embedding_matrix)[0])))\n",
        "print(count)\n",
        "\n",
        "del embeddings"
      ]
    },
    {
      "cell_type": "markdown",
      "metadata": {
        "id": "7dpW8wRzH90w"
      },
      "source": [
        "# Model creation and hyper-parameter tuning"
      ]
    },
    {
      "cell_type": "code",
      "execution_count": null,
      "metadata": {
        "colab": {
          "base_uri": "https://localhost:8080/"
        },
        "id": "gv1RVF3xXukR",
        "outputId": "768f7dfe-a5b3-4030-ef86-af5078f7bcca"
      },
      "outputs": [
        {
          "name": "stdout",
          "output_type": "stream",
          "text": [
            "\u001b[?25l     \u001b[90m━━━━━━━━━━━━━━━━━━━━━━━━━━━━━━━━━━━━━━━━\u001b[0m \u001b[32m0.0/128.9 kB\u001b[0m \u001b[31m?\u001b[0m eta \u001b[36m-:--:--\u001b[0m\r\u001b[2K     \u001b[91m━━━━━━━━━━━━━━━━━━━━━━━━━\u001b[0m\u001b[90m╺\u001b[0m\u001b[90m━━━━━━━━━━━━━━\u001b[0m \u001b[32m81.9/128.9 kB\u001b[0m \u001b[31m2.4 MB/s\u001b[0m eta \u001b[36m0:00:01\u001b[0m\r\u001b[2K     \u001b[90m━━━━━━━━━━━━━━━━━━━━━━━━━━━━━━━━━━━━━━━━\u001b[0m \u001b[32m128.9/128.9 kB\u001b[0m \u001b[31m2.7 MB/s\u001b[0m eta \u001b[36m0:00:00\u001b[0m\n",
            "\u001b[?25h"
          ]
        }
      ],
      "source": [
        "!pip install -q -U keras-tuner"
      ]
    },
    {
      "cell_type": "code",
      "execution_count": null,
      "metadata": {
        "colab": {
          "base_uri": "https://localhost:8080/"
        },
        "id": "dPxfQNItlmtx",
        "outputId": "2e257349-2398-462f-9e55-f63128a41ade"
      },
      "outputs": [
        {
          "name": "stdout",
          "output_type": "stream",
          "text": [
            "Trial 30 Complete [00h 12m 33s]\n",
            "val_accuracy: 0.9181877374649048\n",
            "\n",
            "Best val_accuracy So Far: 0.9282892346382141\n",
            "Total elapsed time: 03h 55m 58s\n",
            "\n",
            "The hyperparameter search is complete. We stacked 3 CNNs. The optimal number of units in the densely-connected\n",
            "layer is 32, the optimal learning rate for the optimizer\n",
            "is 0.01 and the dropout probability is: 0.30000000000000004.\n",
            "\n"
          ]
        }
      ],
      "source": [
        "BATCH_SIZE = 256\n",
        "EPOCHS = 15\n",
        "FILTERS = EMBEDDING_DIM\n",
        "KERNEL = 3\n",
        "\n",
        "import keras_tuner as kt\n",
        "\n",
        "\n",
        "def model_builder(hp):\n",
        "\n",
        "  # Hyperparameters to tune\n",
        "  hp_stack = hp.Int('stacks', min_value=1, max_value=3, step=1)\n",
        "  hp_units = hp.Int('units', min_value=32, max_value=128, step=32)\n",
        "  hp_dropout = hp.Float('rate', min_value=0.1, max_value=0.5, step=0.2)\n",
        "  hp_learning_rate = hp.Float('learning_rate', min_value=0.0001, max_value=0.01, step=10, sampling='log')\n",
        "\n",
        "\n",
        "  inputs = Input((WINDOW,))\n",
        "\n",
        "  # Embedding layer\n",
        "  embeddings = Embedding(input_dim=VOCAB_SIZE+1, output_dim=EMBEDDING_DIM, weights=[embedding_matrix],\n",
        "                          input_length=WINDOW, mask_zero=True, trainable=False)(inputs)\n",
        "\n",
        "  x = Dropout(rate=hp_dropout)(embeddings)\n",
        "\n",
        "\n",
        "  fx = Conv1D(filters=FILTERS, kernel_size=KERNEL, strides=1, activation='relu', padding='same', name='{}-gram_Convolutions{}'.format(KERNEL, 1))(x)\n",
        "\n",
        "  # Stack CNNs\n",
        "  for i in range(1, hp_stack):\n",
        "\n",
        "    input = fx\n",
        "\n",
        "    fx = Conv1D(filters=FILTERS, kernel_size=KERNEL, strides=1, activation='relu', padding='same', name='{}-gram_Convolutions{}'.format(KERNEL, i+1))(input)\n",
        "\n",
        "    # Residual Connection\n",
        "    fx = Add()([input,fx])\n",
        "    fx = BatchNormalization()(fx)\n",
        "    # fx = ReLU()(fx)\n",
        "\n",
        "  pooled_x = GlobalMaxPooling1D()(fx)\n",
        "\n",
        "  drop_x = Dropout(rate=hp_dropout)(pooled_x)\n",
        "\n",
        "\n",
        "  # Αdd the output MLP layer\n",
        "  x = Dense(units=hp_units, activation=\"relu\")(drop_x)\n",
        "\n",
        "  drop_out = Dropout(rate=hp_dropout)(x)\n",
        "\n",
        "  out = Dense(units=N_CLASSES, activation=\"softmax\")(drop_out)\n",
        "\n",
        "\n",
        "  model = Model(inputs=inputs, outputs=out)\n",
        "\n",
        "  model.compile(loss=tf.keras.losses.CategoricalCrossentropy(\n",
        "                from_logits=False),\n",
        "                optimizer=Adam(learning_rate=hp_learning_rate),\n",
        "                metrics=[\"accuracy\"])\n",
        "\n",
        "  return model\n",
        "\n",
        "\n",
        "tuner = kt.Hyperband(model_builder,\n",
        "                     objective='val_accuracy',\n",
        "                     max_epochs=EPOCHS,\n",
        "                     factor=3,\n",
        "                     directory='my_dir4',\n",
        "                     project_name='intro_to_kt')\n",
        "\n",
        "\n",
        "stop_early = tf.keras.callbacks.EarlyStopping(monitor='val_loss', patience=5)\n",
        "\n",
        "\n",
        "tuner.search(train_data, y_train_1_hot, epochs=10, validation_data=(dev_data, y_dev_1_hot), callbacks=[stop_early], batch_size=BATCH_SIZE)\n",
        "\n",
        "\n",
        "# Get the optimal hyperparameters\n",
        "best_hps=tuner.get_best_hyperparameters(num_trials=1)[0]\n",
        "\n",
        "print(f\"\"\"\n",
        "The hyperparameter search is complete. We stacked {best_hps.get('stacks')} CNNs. The optimal number of units in the densely-connected\n",
        "layer is {best_hps.get('units')}, the optimal learning rate for the optimizer\n",
        "is {best_hps.get('learning_rate')} and the dropout probability is: {best_hps.get('rate')}.\n",
        "\"\"\")"
      ]
    },
    {
      "cell_type": "code",
      "execution_count": null,
      "metadata": {
        "colab": {
          "base_uri": "https://localhost:8080/"
        },
        "id": "BLRMfWVLYiiS",
        "outputId": "29d2d6e9-8b47-461c-9e0c-847bf3b296f8"
      },
      "outputs": [
        {
          "name": "stdout",
          "output_type": "stream",
          "text": [
            "Model: \"model_1\"\n",
            "__________________________________________________________________________________________________\n",
            " Layer (type)                Output Shape                 Param #   Connected to                  \n",
            "==================================================================================================\n",
            " input_2 (InputLayer)        [(None, 5)]                  0         []                            \n",
            "                                                                                                  \n",
            " embedding_1 (Embedding)     (None, 5, 300)               4448700   ['input_2[0][0]']             \n",
            "                                                                                                  \n",
            " dropout_3 (Dropout)         (None, 5, 300)               0         ['embedding_1[0][0]']         \n",
            "                                                                                                  \n",
            " 3-gram_Convolutions1 (Conv  (None, 5, 300)               270300    ['dropout_3[0][0]']           \n",
            " 1D)                                                                                              \n",
            "                                                                                                  \n",
            " 3-gram_Convolutions2 (Conv  (None, 5, 300)               270300    ['3-gram_Convolutions1[0][0]']\n",
            " 1D)                                                                                              \n",
            "                                                                                                  \n",
            " add_1 (Add)                 (None, 5, 300)               0         ['3-gram_Convolutions1[0][0]',\n",
            "                                                                     '3-gram_Convolutions2[0][0]']\n",
            "                                                                                                  \n",
            " batch_normalization_1 (Bat  (None, 5, 300)               1200      ['add_1[0][0]']               \n",
            " chNormalization)                                                                                 \n",
            "                                                                                                  \n",
            " 3-gram_Convolutions3 (Conv  (None, 5, 300)               270300    ['batch_normalization_1[0][0]'\n",
            " 1D)                                                                ]                             \n",
            "                                                                                                  \n",
            " add_2 (Add)                 (None, 5, 300)               0         ['batch_normalization_1[0][0]'\n",
            "                                                                    , '3-gram_Convolutions3[0][0]'\n",
            "                                                                    ]                             \n",
            "                                                                                                  \n",
            " batch_normalization_2 (Bat  (None, 5, 300)               1200      ['add_2[0][0]']               \n",
            " chNormalization)                                                                                 \n",
            "                                                                                                  \n",
            " global_max_pooling1d_1 (Gl  (None, 300)                  0         ['batch_normalization_2[0][0]'\n",
            " obalMaxPooling1D)                                                  ]                             \n",
            "                                                                                                  \n",
            " dropout_4 (Dropout)         (None, 300)                  0         ['global_max_pooling1d_1[0][0]\n",
            "                                                                    ']                            \n",
            "                                                                                                  \n",
            " dense_2 (Dense)             (None, 32)                   9632      ['dropout_4[0][0]']           \n",
            "                                                                                                  \n",
            " dropout_5 (Dropout)         (None, 32)                   0         ['dense_2[0][0]']             \n",
            "                                                                                                  \n",
            " dense_3 (Dense)             (None, 18)                   594       ['dropout_5[0][0]']           \n",
            "                                                                                                  \n",
            "==================================================================================================\n",
            "Total params: 5272226 (20.11 MB)\n",
            "Trainable params: 822326 (3.14 MB)\n",
            "Non-trainable params: 4449900 (16.98 MB)\n",
            "__________________________________________________________________________________________________\n",
            "None\n"
          ]
        }
      ],
      "source": [
        "model = tuner.hypermodel.build(best_hps)\n",
        "\n",
        "print(model.summary())"
      ]
    },
    {
      "cell_type": "code",
      "execution_count": 14,
      "metadata": {
        "colab": {
          "base_uri": "https://localhost:8080/",
          "height": 1000
        },
        "id": "IdJd_5fboKNC",
        "outputId": "e26f4ff1-4f40-486c-851e-532165ead1cc"
      },
      "outputs": [
        {
          "name": "stdout",
          "output_type": "stream",
          "text": [
            "Epoch 1/15\n",
            "588/588 [==============================] - 172s 288ms/step - loss: 1.3031 - accuracy: 0.5715 - val_loss: 0.5865 - val_accuracy: 0.8038\n",
            "Epoch 2/15\n",
            "588/588 [==============================] - 154s 262ms/step - loss: 0.6181 - accuracy: 0.8071 - val_loss: 0.3720 - val_accuracy: 0.8785\n",
            "Epoch 3/15\n",
            "588/588 [==============================] - 149s 253ms/step - loss: 0.4112 - accuracy: 0.8725 - val_loss: 0.3045 - val_accuracy: 0.8991\n",
            "Epoch 4/15\n",
            "588/588 [==============================] - 150s 256ms/step - loss: 0.3383 - accuracy: 0.8968 - val_loss: 0.3103 - val_accuracy: 0.9031\n",
            "Epoch 5/15\n",
            "588/588 [==============================] - 155s 263ms/step - loss: 0.2921 - accuracy: 0.9108 - val_loss: 0.2760 - val_accuracy: 0.9126\n",
            "Epoch 6/15\n",
            "588/588 [==============================] - 150s 256ms/step - loss: 0.2637 - accuracy: 0.9192 - val_loss: 0.2712 - val_accuracy: 0.9163\n",
            "Epoch 7/15\n",
            "588/588 [==============================] - 149s 253ms/step - loss: 0.2427 - accuracy: 0.9260 - val_loss: 0.2635 - val_accuracy: 0.9176\n",
            "Epoch 8/15\n",
            "588/588 [==============================] - 150s 255ms/step - loss: 0.2225 - accuracy: 0.9318 - val_loss: 0.2764 - val_accuracy: 0.9168\n",
            "Epoch 9/15\n",
            "588/588 [==============================] - 151s 257ms/step - loss: 0.2090 - accuracy: 0.9357 - val_loss: 0.2747 - val_accuracy: 0.9187\n",
            "Epoch 10/15\n",
            "588/588 [==============================] - 151s 257ms/step - loss: 0.2001 - accuracy: 0.9390 - val_loss: 0.2802 - val_accuracy: 0.9210\n",
            "Epoch 11/15\n",
            "588/588 [==============================] - 150s 255ms/step - loss: 0.1903 - accuracy: 0.9415 - val_loss: 0.2729 - val_accuracy: 0.9216\n",
            "Epoch 12/15\n",
            "588/588 [==============================] - 150s 254ms/step - loss: 0.1786 - accuracy: 0.9453 - val_loss: 0.2873 - val_accuracy: 0.9149\n",
            "Epoch 13/15\n",
            "588/588 [==============================] - 154s 262ms/step - loss: 0.1706 - accuracy: 0.9480 - val_loss: 0.2898 - val_accuracy: 0.9193\n",
            "Epoch 14/15\n",
            "588/588 [==============================] - 150s 256ms/step - loss: 0.1644 - accuracy: 0.9496 - val_loss: 0.3001 - val_accuracy: 0.9175\n",
            "Epoch 15/15\n",
            "588/588 [==============================] - 151s 257ms/step - loss: 0.1556 - accuracy: 0.9530 - val_loss: 0.3025 - val_accuracy: 0.9221\n",
            "\n",
            "Training time: 00:38:24 sec\n",
            "\n",
            "Best epoch: 7\n"
          ]
        },
        {
          "data": {
            "image/png": "[encoded data removed]",
            "text/plain": [
              "<IPython.core.display.Image object>"
            ]
          },
          "execution_count": 14,
          "metadata": {},
          "output_type": "execute_result"
        }
      ],
      "source": [
        "import time\n",
        "\n",
        "with tf.device('/device:GPU:0'):\n",
        "\n",
        "  start_training_time = time.time()\n",
        "\n",
        "  history = model.fit(train_data,\n",
        "                    y_train_1_hot,\n",
        "                    validation_data=(dev_data, y_dev_1_hot),\n",
        "                    batch_size=BATCH_SIZE,\n",
        "                    epochs=EPOCHS,\n",
        "                    shuffle=True)\n",
        "\n",
        "  end_training_time = time.time()\n",
        "\n",
        "  print(f'\\nTraining time: {time.strftime(\"%H:%M:%S\", time.gmtime(end_training_time - start_training_time))} sec\\n')\n",
        "\n",
        "val_loss_per_epoch = history.history['val_loss']\n",
        "best_epoch = val_loss_per_epoch.index(min(val_loss_per_epoch)) + 1\n",
        "print('Best epoch: %d' % (best_epoch,))\n",
        "\n",
        "%matplotlib notebook\n",
        "\n",
        "from tensorflow.keras.utils import plot_model\n",
        "plot_model(model, to_file='model.png')\n",
        "\n",
        "from IPython.display import Image\n",
        "Image('model.png')"
      ]
    },
    {
      "cell_type": "code",
      "execution_count": 15,
      "metadata": {
        "colab": {
          "base_uri": "https://localhost:8080/",
          "height": 927
        },
        "id": "zcAed1EPUvxu",
        "outputId": "c12dfbf8-26de-4ef1-c496-06fbf44371cb"
      },
      "outputs": [
        {
          "data": {
            "image/png": "[encoded data removed]",
            "text/plain": [
              "<Figure size 640x480 with 1 Axes>"
            ]
          },
          "metadata": {},
          "output_type": "display_data"
        },
        {
          "data": {
            "image/png": "[encoded data removed]",
            "text/plain": [
              "<Figure size 640x480 with 1 Axes>"
            ]
          },
          "metadata": {},
          "output_type": "display_data"
        }
      ],
      "source": [
        "%matplotlib inline\n",
        "import matplotlib.pyplot as plt\n",
        "\n",
        "\n",
        "# summarize history for accuracy\n",
        "plt.plot(history.history['accuracy'])\n",
        "plt.plot(history.history['val_accuracy'])\n",
        "plt.title('Model Accuracy')\n",
        "plt.ylabel('accuracy')\n",
        "plt.xlabel('epochs')\n",
        "plt.legend(['Training set', 'Development set'], loc='lower right')\n",
        "plt.show()\n",
        "\n",
        "# summarize history for loss\n",
        "plt.plot(history.history['loss'])\n",
        "plt.plot(history.history['val_loss'])\n",
        "plt.title('Model Loss')\n",
        "plt.ylabel('loss')\n",
        "plt.xlabel('epochs')\n",
        "plt.legend(['Training set', 'Development set'], loc='upper right')\n",
        "plt.show()"
      ]
    },
    {
      "cell_type": "markdown",
      "metadata": {
        "id": "SD_N0Ab2_N0m"
      },
      "source": [
        "# Metrics\n",
        "\n",
        "Precision , Recall , F1 , AUC scores for CNN classifier"
      ]
    },
    {
      "cell_type": "code",
      "execution_count": 16,
      "metadata": {
        "colab": {
          "base_uri": "https://localhost:8080/"
        },
        "id": "83GOuKOIWfvJ",
        "outputId": "7266aef1-c7f1-4ad1-d8e3-a7e8a7f72ccf"
      },
      "outputs": [
        {
          "name": "stdout",
          "output_type": "stream",
          "text": [
            "Epoch 1/10\n",
            "588/588 [==============================] - 157s 263ms/step - loss: 1.1677 - accuracy: 0.6196 - val_loss: 0.5368 - val_accuracy: 0.8248\n",
            "Epoch 2/10\n",
            "588/588 [==============================] - 151s 256ms/step - loss: 0.5817 - accuracy: 0.8222 - val_loss: 0.3692 - val_accuracy: 0.8818\n",
            "Epoch 3/10\n",
            "588/588 [==============================] - 150s 255ms/step - loss: 0.4038 - accuracy: 0.8766 - val_loss: 0.3041 - val_accuracy: 0.9046\n",
            "Epoch 4/10\n",
            "588/588 [==============================] - 150s 256ms/step - loss: 0.3289 - accuracy: 0.8999 - val_loss: 0.2984 - val_accuracy: 0.9086\n",
            "Epoch 5/10\n",
            "588/588 [==============================] - 152s 259ms/step - loss: 0.2903 - accuracy: 0.9115 - val_loss: 0.2754 - val_accuracy: 0.9115\n",
            "Epoch 6/10\n",
            "588/588 [==============================] - 150s 255ms/step - loss: 0.2595 - accuracy: 0.9201 - val_loss: 0.2669 - val_accuracy: 0.9174\n",
            "Epoch 7/10\n",
            "588/588 [==============================] - 148s 252ms/step - loss: 0.2408 - accuracy: 0.9260 - val_loss: 0.3035 - val_accuracy: 0.9074\n",
            "Epoch 8/10\n",
            "588/588 [==============================] - 153s 260ms/step - loss: 0.2248 - accuracy: 0.9313 - val_loss: 0.2786 - val_accuracy: 0.9185\n",
            "Epoch 9/10\n",
            "588/588 [==============================] - 150s 255ms/step - loss: 0.2071 - accuracy: 0.9363 - val_loss: 0.2880 - val_accuracy: 0.9165\n",
            "Epoch 10/10\n",
            "588/588 [==============================] - 151s 257ms/step - loss: 0.1958 - accuracy: 0.9398 - val_loss: 0.2700 - val_accuracy: 0.9219\n",
            "4700/4700 [==============================] - 44s 9ms/step\n",
            "625/625 [==============================] - 5s 8ms/step\n",
            "632/632 [==============================] - 5s 8ms/step\n",
            "\n",
            "--------- Custom stacked CNN ---------\n",
            "\n",
            "Training set\n",
            "\n",
            "              precision    recall  f1-score   support\n",
            "\n",
            "         ADJ       0.97      0.91      0.94      9805\n",
            "         ADP       0.96      0.99      0.98     14064\n",
            "         ADV       0.97      0.90      0.93      6994\n",
            "         AUX       0.99      0.99      0.99      7709\n",
            "       CCONJ       1.00      0.99      1.00      4851\n",
            "         DET       0.99      1.00      1.00     12072\n",
            "        INTJ       0.94      0.89      0.92      1347\n",
            "        NOUN       0.94      0.98      0.96     24689\n",
            "         NUM       1.00      0.99      0.99      2955\n",
            "        PART       1.00      0.97      0.98      3474\n",
            "        PRON       1.00      0.99      0.99     12113\n",
            "       PROPN       0.96      0.87      0.91      8982\n",
            "       PUNCT       1.00      1.00      1.00     20620\n",
            "       SCONJ       0.92      0.92      0.92      2324\n",
            "         SYM       0.80      0.97      0.87       232\n",
            "        VERB       0.99      0.97      0.98     15413\n",
            "           X       1.00      0.15      0.27       306\n",
            "           _       1.00      1.00      1.00      2424\n",
            "\n",
            "   micro avg       0.98      0.97      0.97    150374\n",
            "   macro avg       0.97      0.91      0.92    150374\n",
            "weighted avg       0.98      0.97      0.97    150374\n",
            " samples avg       0.97      0.97      0.97    150374\n",
            "\n",
            "AUC training : {'ADJ': 0.9886811232278512, 'ADP': 0.9980159835056113, 'ADV': 0.9846361398927914, 'AUX': 0.9992869773747115, 'CCONJ': 0.9996279980561227, 'DET': 0.9998980040085903, 'INTJ': 0.9757078266455801, 'NOUN': 0.9946090445621487, 'NUM': 0.999185860398715, 'PART': 0.9993239682366145, 'PRON': 0.9996467457121203, 'PROPN': 0.9767820899300717, 'PUNCT': 0.9999866919071143, 'SCONJ': 0.9713538126689313, 'SYM': 0.941925991665411, 'VERB': 0.996489981414446, 'X': 0.7486706430407719, '_': 0.9999950367803294} \n",
            "\n",
            "Macro AUC : 0.9763235510571074 \n",
            "\n",
            "\n",
            "Development set\n",
            "\n",
            "              precision    recall  f1-score   support\n",
            "\n",
            "         ADJ       0.92      0.74      0.82      1340\n",
            "         ADP       0.93      0.98      0.95      1889\n",
            "         ADV       0.92      0.81      0.87       926\n",
            "         AUX       0.98      0.98      0.98      1069\n",
            "       CCONJ       1.00      0.98      0.99       653\n",
            "         DET       0.99      0.99      0.99      1598\n",
            "        INTJ       0.70      0.77      0.73       204\n",
            "        NOUN       0.88      0.89      0.89      3381\n",
            "         NUM       0.98      0.86      0.92       329\n",
            "        PART       0.99      0.93      0.96       510\n",
            "        PRON       0.99      0.98      0.98      1807\n",
            "       PROPN       0.79      0.62      0.70       833\n",
            "       PUNCT       1.00      1.00      1.00      2606\n",
            "       SCONJ       0.82      0.79      0.81       332\n",
            "         SYM       0.61      0.79      0.69        14\n",
            "        VERB       0.94      0.87      0.90      2150\n",
            "           X       0.00      0.00      0.00        12\n",
            "           _       0.97      1.00      0.98       344\n",
            "\n",
            "   micro avg       0.94      0.91      0.92     19997\n",
            "   macro avg       0.86      0.83      0.84     19997\n",
            "weighted avg       0.94      0.91      0.92     19997\n",
            " samples avg       0.91      0.91      0.91     19997\n",
            "\n",
            "AUC development : {'ADJ': 0.9178605360425728, 'ADP': 0.988256684197538, 'ADV': 0.9196299883071108, 'AUX': 0.9953645951575205, 'CCONJ': 0.9969865636113938, 'DET': 0.998753491605549, 'INTJ': 0.8697659264802982, 'NOUN': 0.9569782948084783, 'NUM': 0.9445692518526952, 'PART': 0.9936560168948477, 'PRON': 0.9953621637385431, 'PROPN': 0.7931140500712648, 'PUNCT': 0.9998951821197056, 'SCONJ': 0.8421108516700345, 'SYM': 0.8022032754316311, 'VERB': 0.9641982848728949, 'X': 0.3488245425709606, '_': 0.9971857255634501} \n",
            "\n",
            "Macro AUC : 0.9069286347220272 \n",
            "\n",
            "\n",
            "Test set\n",
            "\n",
            "              precision    recall  f1-score   support\n",
            "\n",
            "         ADJ       0.89      0.74      0.81      1331\n",
            "         ADP       0.94      0.99      0.96      2053\n",
            "         ADV       0.93      0.79      0.85       916\n",
            "         AUX       0.98      0.98      0.98       949\n",
            "       CCONJ       1.00      0.97      0.98       700\n",
            "         DET       0.98      0.98      0.98      1720\n",
            "        INTJ       0.70      0.77      0.73       148\n",
            "        NOUN       0.83      0.88      0.86      3508\n",
            "         NUM       0.98      0.82      0.89       401\n",
            "        PART       0.97      0.94      0.96       420\n",
            "        PRON       0.98      0.98      0.98      1435\n",
            "       PROPN       0.81      0.56      0.67      1409\n",
            "       PUNCT       1.00      1.00      1.00      2540\n",
            "       SCONJ       0.83      0.83      0.83       252\n",
            "         SYM       0.64      0.74      0.68        34\n",
            "        VERB       0.95      0.86      0.90      2073\n",
            "           X       1.00      0.04      0.07        28\n",
            "           _       0.98      0.98      0.98       278\n",
            "\n",
            "   micro avg       0.93      0.89      0.91     20195\n",
            "   macro avg       0.91      0.82      0.84     20195\n",
            "weighted avg       0.93      0.89      0.90     20195\n",
            " samples avg       0.89      0.89      0.89     20195\n",
            "\n",
            "AUC test : {'ADJ': 0.8995366604819337, 'ADP': 0.9919654351873424, 'ADV': 0.9174454120431363, 'AUX': 0.9947470013480348, 'CCONJ': 0.997330252636294, 'DET': 0.9973264109391103, 'INTJ': 0.8415320443543618, 'NOUN': 0.9363063877398444, 'NUM': 0.9228828084899684, 'PART': 0.9870205891256375, 'PRON': 0.9978005058036779, 'PROPN': 0.7993156362362648, 'PUNCT': 0.9997459758239872, 'SCONJ': 0.8732673636951314, 'SYM': 0.6648331884367419, 'VERB': 0.9618265592191495, 'X': 0.38033852383138733, '_': 0.9960741337367924} \n",
            "\n",
            "Macro AUC : 0.8977386049515997 \n",
            "\n"
          ]
        }
      ],
      "source": [
        "def prec_rec_auc(y_true, y_pred, N_CLASSES):\n",
        "  precision = dict()\n",
        "  recall = dict()\n",
        "  auc_score = dict()\n",
        "\n",
        "  for i in range(N_CLASSES):\n",
        "    precision[i], recall[i], _ = precision_recall_curve(y_true[:, i], y_pred[:, i])\n",
        "    auc_score[mlb.classes_[i]] = auc(recall[i], precision[i])\n",
        "\n",
        "  return precision, recall, auc_score\n",
        "\n",
        "\n",
        "def macro_auc(auc_scores):\n",
        "  auc = []\n",
        "\n",
        "  for key in auc_scores.keys():\n",
        "    auc.append(auc_scores[key])\n",
        "\n",
        "  return np.mean(np.array(auc))\n",
        "\n",
        "\n",
        "model = tuner.hypermodel.build(best_hps)\n",
        "model.fit(train_data, y_train_1_hot, validation_data=(dev_data, y_dev_1_hot), batch_size=BATCH_SIZE, epochs=best_epoch, shuffle=True)\n",
        "\n",
        "\n",
        "cnn_predictions_train = model.predict(train_data)\n",
        "_, _, cnn_auc_train = prec_rec_auc(y_train_1_hot, cnn_predictions_train, N_CLASSES)\n",
        "\n",
        "cnn_predictions_dev = model.predict(dev_data)\n",
        "_, _, cnn_auc_dev = prec_rec_auc(y_dev_1_hot, cnn_predictions_dev, N_CLASSES)\n",
        "\n",
        "cnn_predictions_test = model.predict(test_data)\n",
        "_, _, cnn_auc_test = prec_rec_auc(y_test_1_hot, cnn_predictions_test, N_CLASSES)\n",
        "\n",
        "\n",
        "\n",
        "print('\\n--------- Custom stacked CNN ---------\\n')\n",
        "print('Training set\\n')\n",
        "print(classification_report(y_train_1_hot, np.round(cnn_predictions_train), target_names = mlb.classes_, zero_division=0.0))\n",
        "print('AUC training :', cnn_auc_train, '\\n')\n",
        "print('Macro AUC :', macro_auc(cnn_auc_train), '\\n')\n",
        "print('\\nDevelopment set\\n')\n",
        "print(classification_report(y_dev_1_hot, np.round(cnn_predictions_dev), target_names = mlb.classes_, zero_division=0.0))\n",
        "print('AUC development :', cnn_auc_dev, '\\n')\n",
        "print('Macro AUC :', macro_auc(cnn_auc_dev), '\\n')\n",
        "print('\\nTest set\\n')\n",
        "print(classification_report(y_test_1_hot, np.round(cnn_predictions_test), target_names = mlb.classes_, zero_division=0.0))\n",
        "print('AUC test :', cnn_auc_test, '\\n')\n",
        "print('Macro AUC :', macro_auc(cnn_auc_test), '\\n')"
      ]
    }
  ],
  "metadata": {
    "colab": {
      "provenance": []
    },
    "kernelspec": {
      "display_name": "Python 3",
      "name": "python3"
    },
    "language_info": {
      "name": "python"
    }
  },
  "nbformat": 4,
  "nbformat_minor": 0
}
