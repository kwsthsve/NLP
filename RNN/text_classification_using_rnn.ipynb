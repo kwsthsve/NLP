{
  "cells": [
    {
      "cell_type": "code",
      "execution_count": 1,
      "metadata": {
        "colab": {
          "base_uri": "https://localhost:8080/"
        },
        "id": "kJlujT5FY2NV",
        "outputId": "4d2cf32a-8009-4a33-9391-d9041beb2a30"
      },
      "outputs": [
        {
          "output_type": "stream",
          "name": "stderr",
          "text": [
            "[nltk_data] Downloading package punkt to /root/nltk_data...\n",
            "[nltk_data]   Unzipping tokenizers/punkt.zip.\n"
          ]
        }
      ],
      "source": [
        "import nltk\n",
        "nltk.download('punkt')\n",
        "\n",
        "import tensorflow as tf\n",
        "import numpy as np\n",
        "\n",
        "from sklearn.metrics import classification_report, auc, precision_recall_curve\n",
        "\n",
        "from tensorflow.keras.callbacks import ModelCheckpoint\n",
        "from tensorflow.keras.layers import Dense, Dropout, Bidirectional, LSTM, Embedding, Input\n",
        "from tensorflow.keras.optimizers import Adam\n",
        "from tensorflow.keras import Model"
      ]
    },
    {
      "cell_type": "markdown",
      "metadata": {
        "id": "TNm2dKl1peT9"
      },
      "source": [
        "# Load IMDB Dataset"
      ]
    },
    {
      "cell_type": "code",
      "execution_count": 2,
      "metadata": {
        "colab": {
          "base_uri": "https://localhost:8080/"
        },
        "id": "8FNCkDzwTB4D",
        "outputId": "9a64e7fd-80ee-41a6-b430-cfca3f2cde74"
      },
      "outputs": [
        {
          "output_type": "stream",
          "name": "stdout",
          "text": [
            "Downloading data from https://storage.googleapis.com/tensorflow/tf-keras-datasets/imdb.npz\n",
            "17464789/17464789 [==============================] - 0s 0us/step\n",
            "Downloading data from https://storage.googleapis.com/tensorflow/tf-keras-datasets/imdb_word_index.json\n",
            "1641221/1641221 [==============================] - 0s 0us/step\n",
            "\n",
            "Training set shape : (30000,)\n",
            "Development set shape : (10000,)\n",
            "Test set shape : (10000,)\n",
            "\n",
            "Average doc length of training set : 238\n",
            "Average doc length of development set : 242\n",
            "Average doc length of test set : 234\n"
          ]
        }
      ],
      "source": [
        "(x_train, y_train), (x_test, y_test) = tf.keras.datasets.imdb.load_data(\n",
        "    path='imdb.npz',\n",
        "    num_words=None,\n",
        "    skip_top=0,\n",
        "    maxlen=None,\n",
        "    seed=113,\n",
        "    start_char=1,\n",
        "    oov_char=2,\n",
        "    index_from=3)\n",
        "\n",
        "\n",
        "word_index = tf.keras.datasets.imdb.get_word_index()\n",
        "start_char = 1\n",
        "oov_char = 2\n",
        "\n",
        "\n",
        "inverted_word_index = dict((i + 3, word) for (word, i) in word_index.items())\n",
        "\n",
        "inverted_word_index[start_char] = '[START]'\n",
        "inverted_word_index[oov_char] = '[OOV]'\n",
        "\n",
        "for i in range(len(x_train)):\n",
        "  x_train[i] = ' '.join(inverted_word_index[i] for i in x_train[i])\n",
        "\n",
        "for i in range(len(x_test)):\n",
        "  x_test[i] = ' '.join(inverted_word_index[i] for i in x_test[i])\n",
        "\n",
        "\n",
        "\n",
        "x_train = np.concatenate((x_train, x_test[10000:]))\n",
        "y_train = np.concatenate((y_train, y_test[10000:]))\n",
        "\n",
        "x_dev = x_train[:10000]\n",
        "y_dev = y_train[:10000]\n",
        "\n",
        "x_train = x_train[10000:]\n",
        "y_train = y_train[10000:]\n",
        "\n",
        "x_test = x_test[:10000]\n",
        "y_test = y_test[:10000]\n",
        "\n",
        "print('\\nTraining set shape :', x_train.shape)\n",
        "print('Development set shape :', x_dev.shape)\n",
        "print('Test set shape :', x_test.shape)\n",
        "\n",
        "\n",
        "# flatten_x_train = [token for doc in x_train for token in nltk.tokenize.word_tokenize(doc)]\n",
        "# print('\\nVocabulary size :', len(set(flatten_x_train)) - 3)\n",
        "\n",
        "\n",
        "def average_doc_length(docs_tokenized):\n",
        "  doc_sizes = []\n",
        "\n",
        "  for doc in docs_tokenized:\n",
        "    doc_sizes.append(len(doc))\n",
        "\n",
        "  return int(np.mean(np.array(doc_sizes)))\n",
        "\n",
        "\n",
        "x_train_tokenized = [nltk.tokenize.word_tokenize(doc)[3:] for doc in x_train]\n",
        "x_dev_tokenized = [nltk.tokenize.word_tokenize(doc)[3:] for doc in x_dev]\n",
        "x_test_tokenized = [nltk.tokenize.word_tokenize(doc)[3:] for doc in x_test]\n",
        "\n",
        "print('\\nAverage doc length of training set :', average_doc_length(x_train_tokenized))\n",
        "print('Average doc length of development set :', average_doc_length(x_dev_tokenized))\n",
        "print('Average doc length of test set :', average_doc_length(x_test_tokenized))"
      ]
    },
    {
      "cell_type": "code",
      "execution_count": 3,
      "metadata": {
        "colab": {
          "base_uri": "https://localhost:8080/"
        },
        "id": "Vc7oY76GhIdg",
        "outputId": "984c6956-5d33-499f-b704-30abe82a950c"
      },
      "outputs": [
        {
          "output_type": "stream",
          "name": "stdout",
          "text": [
            "['i', 'think', 'this', 'is', 'one', 'of', 'the', 'weakest', 'of', 'the', 'kenneth', 'branagh', 'shakespearian', 'works', 'after', 'such', 'great', 'efforts', 'as', 'much', 'ado', 'about', 'nothing', 'etc', 'i', 'thought', 'this', 'was', 'poor', 'the', 'cast', 'was', 'weaker', 'alicia', 'silverstone', 'nivoli', 'mcelhone', 'but', 'my', 'biggest', 'gripe', 'was', 'that', 'they', 'messed', 'with', 'the', 'bard', \"'s\", 'work', 'and', 'cut', 'out', 'some', 'of', 'the', 'play', 'to', 'put', 'in', 'the', 'musical', 'dance', 'sequences', 'br', 'br', 'you', 'just', 'do', \"n't\", 'do', 'shakespeare', 'and', 'then', 'mess', 'with', 'the', 'play', 'sorry', 'but', 'that', 'is', 'just', 'wrong', 'i', 'love', 'some', 'cole', 'porter', 'just', 'like', 'the', 'next', 'person', 'but', 'jeez', 'do', \"n't\", 'mess', 'with', 'the', 'shakespeare', 'skip', 'this', 'and', 'watch', 'prospero', \"'s\", 'books', 'if', 'you', 'want', 'to', 'see', 'a', 'brilliant', 'shakespearean', 'adaptation', 'of', 'the', 'tempest']\n"
          ]
        }
      ],
      "source": [
        "target_names = ['negative', 'positive']\n",
        "\n",
        "print(x_train_tokenized[0])\n"
      ]
    },
    {
      "cell_type": "markdown",
      "metadata": {
        "id": "agf4yKl4uWwy"
      },
      "source": [
        "# Indexing and embedding"
      ]
    },
    {
      "cell_type": "code",
      "execution_count": 4,
      "metadata": {
        "colab": {
          "base_uri": "https://localhost:8080/"
        },
        "id": "a15jNN4LuXmF",
        "outputId": "d86662dd-6e66-40d4-8467-1b6c49471ab6"
      },
      "outputs": [
        {
          "output_type": "stream",
          "name": "stdout",
          "text": [
            "[==================================================] 100.0% 128.1/128.1MB downloaded\n",
            "[   11   106    12     7    31     5     2  4616     5     2  4927  4507\n",
            " 14662   510   104   142    84  1971    16    77 18737    47   164   484\n",
            "    11   191    12    15   339     2   178    15  6776  8620 17318 47414\n",
            " 24484    20    61  1092 10257    15    13    34  5175    19     2 15554\n",
            "    14   162     3   569    46    51     5     2   284     6   271    10\n",
            "     2   661   834   822     8     8    22    43    44    24    44  1754\n",
            "     3    97   925    19     2   284   733    20    13     7    43   362\n",
            "    11   117    51  3824  5786    43    39     2   370   393    20 18022\n",
            "    44    24   925    19     2  1754  1779    12     3   107 13058    14\n",
            "  1161    48    22   179     6    66     4   515  8016  1346     5     2\n",
            "  9513     0     0     0     0     0     0     0     0     0     0     0\n",
            "     0     0     0     0     0     0     0     0     0     0     0     0\n",
            "     0     0     0     0     0     0     0     0     0     0     0     0\n",
            "     0     0     0     0     0     0     0     0     0     0     0     0\n",
            "     0     0     0     0     0     0     0     0     0     0     0     0\n",
            "     0     0     0     0     0     0     0     0     0     0     0     0\n",
            "     0     0     0     0     0     0     0     0]\n"
          ]
        }
      ],
      "source": [
        "from tensorflow.keras.preprocessing.text import Tokenizer\n",
        "from tensorflow.keras.preprocessing.sequence import pad_sequences\n",
        "import gensim.downloader as api\n",
        "\n",
        "embeddings = api.load('glove-wiki-gigaword-100')\n",
        "\n",
        "MAX_SEQUENCE_LENGTH = 200\n",
        "MAX_WORDS = 60000\n",
        "\n",
        "\n",
        "tokenizer = Tokenizer(num_words=MAX_WORDS, oov_token='__UNK__')\n",
        "\n",
        "tokenizer.fit_on_texts([\" \".join(x) for x in x_train_tokenized])\n",
        "\n",
        "# Converts text to sequences of IDs\n",
        "train_seqs = tokenizer.texts_to_sequences([\" \".join(x) for x in x_train_tokenized])\n",
        "dev_seqs = tokenizer.texts_to_sequences([\" \".join(x) for x in x_dev_tokenized])\n",
        "test_seqs = tokenizer.texts_to_sequences([\" \".join(x) for x in x_test_tokenized])\n",
        "\n",
        "train_data = pad_sequences(train_seqs, maxlen=MAX_SEQUENCE_LENGTH, padding='post')\n",
        "dev_data = pad_sequences(dev_seqs, maxlen=MAX_SEQUENCE_LENGTH, padding='post')\n",
        "test_data = pad_sequences(test_seqs, maxlen=MAX_SEQUENCE_LENGTH, padding='post')\n",
        "\n",
        "print(train_data[0])"
      ]
    },
    {
      "cell_type": "code",
      "execution_count": 5,
      "metadata": {
        "colab": {
          "base_uri": "https://localhost:8080/"
        },
        "id": "5_7c_cHEwcJS",
        "outputId": "63258810-9abd-4244-9a52-f0153458e135"
      },
      "outputs": [
        {
          "output_type": "stream",
          "name": "stdout",
          "text": [
            "Found 66804 unique tokens.\n",
            "\n",
            "We will only use 60000 of these\n",
            "[('__UNK__', 1), ('the', 2), ('and', 3), ('a', 4), ('of', 5), ('to', 6), ('is', 7), ('br', 8), ('it', 9), ('in', 10)]\n",
            "We will filter these out\n",
            "[('sanata', 60006), ('missfortune', 60007), (\"'next\", 60008), (\"'prize\", 60009), (\"'gotcha\", 60010), ('pleeease', 60011), ('schlessinger', 60012), ('marketers', 60013), ('miaows', 60014), ('diage', 60015), ('barzell', 60016), ('gillia', 60017), ('podunk', 60018), ('deputize', 60019), ('unflagging', 60020)]\n",
            "66804\n"
          ]
        }
      ],
      "source": [
        "word_index = tokenizer.word_index\n",
        "print('Found {} unique tokens.\\n'.format(len(word_index)))\n",
        "print(f'We will only use {MAX_WORDS} of these')\n",
        "print(list(word_index.items())[:10])\n",
        "print('We will filter these out')\n",
        "print(list(word_index.items())[MAX_WORDS+5:MAX_WORDS+20])\n",
        "print(len(list(word_index.items())))"
      ]
    },
    {
      "cell_type": "code",
      "execution_count": 6,
      "metadata": {
        "colab": {
          "base_uri": "https://localhost:8080/"
        },
        "id": "solqhYNmwnlJ",
        "outputId": "bcb6e50e-f2ce-4f26-d95a-5361d0c98759"
      },
      "outputs": [
        {
          "output_type": "stream",
          "name": "stdout",
          "text": [
            "50730\n",
            "50730\n"
          ]
        }
      ],
      "source": [
        "EMBEDDING_DIM = 100\n",
        "\n",
        "embedding_matrix = np.zeros((MAX_WORDS+2, EMBEDDING_DIM))\n",
        "\n",
        "count = 0\n",
        "for word, i in word_index.items():\n",
        "    if i > MAX_WORDS:\n",
        "            continue\n",
        "    try:\n",
        "        embedding_matrix[i] = embeddings[word]\n",
        "        count += 1\n",
        "    except:\n",
        "        pass\n",
        "\n",
        "\n",
        "print(len(np.unique(np.nonzero(embedding_matrix)[0])))\n",
        "print(count)\n",
        "\n",
        "del embeddings\n",
        "del word_index\n",
        "del tokenizer"
      ]
    },
    {
      "cell_type": "markdown",
      "metadata": {
        "id": "SELCMRCTw9gN"
      },
      "source": [
        "# Model creation and hyper-parameter tuning"
      ]
    },
    {
      "cell_type": "code",
      "execution_count": 7,
      "metadata": {
        "colab": {
          "base_uri": "https://localhost:8080/"
        },
        "id": "sccYpj8TmKnE",
        "outputId": "3a89dffb-8ea7-4b19-d4d3-fde499817709"
      },
      "outputs": [
        {
          "output_type": "stream",
          "name": "stdout",
          "text": [
            "\u001b[?25l     \u001b[90m━━━━━━━━━━━━━━━━━━━━━━━━━━━━━━━━━━━━━━━━\u001b[0m \u001b[32m0.0/128.9 kB\u001b[0m \u001b[31m?\u001b[0m eta \u001b[36m-:--:--\u001b[0m\r\u001b[2K     \u001b[91m━━━━━━━━━━━━━━━━━━━━━━━━━━━━━━━━━━\u001b[0m\u001b[91m╸\u001b[0m\u001b[90m━━━━━\u001b[0m \u001b[32m112.6/128.9 kB\u001b[0m \u001b[31m3.2 MB/s\u001b[0m eta \u001b[36m0:00:01\u001b[0m\r\u001b[2K     \u001b[90m━━━━━━━━━━━━━━━━━━━━━━━━━━━━━━━━━━━━━━━━\u001b[0m \u001b[32m128.9/128.9 kB\u001b[0m \u001b[31m2.8 MB/s\u001b[0m eta \u001b[36m0:00:00\u001b[0m\n",
            "\u001b[?25h"
          ]
        }
      ],
      "source": [
        "!pip install -q -U keras-tuner"
      ]
    },
    {
      "cell_type": "code",
      "execution_count": 8,
      "metadata": {
        "id": "AuKiE0pZ07de"
      },
      "outputs": [],
      "source": [
        "import os\n",
        "os.environ['TF_CPP_MIN_LOG_LEVEL'] = '3'\n",
        "import tensorflow as tf\n",
        "import tensorflow.keras.backend as K\n",
        "from tensorflow.keras import initializers, regularizers, constraints\n",
        "from tensorflow.keras.layers import Layer\n",
        "\n",
        "\n",
        "def dot_product(x, kernel):\n",
        "    \"\"\"\n",
        "    Wrapper for dot product operation, in order to be compatible with both\n",
        "    Theano and Tensorflow\n",
        "    Args:\n",
        "        x (): input\n",
        "        kernel (): weights\n",
        "    Returns:\n",
        "    \"\"\"\n",
        "    if K.backend() == 'tensorflow':\n",
        "      return K.squeeze(K.dot(x, K.expand_dims(kernel)), axis=-1)\n",
        "    else:\n",
        "      return K.dot(x, kernel)\n",
        "\n",
        "\n",
        "class DeepAttention(Layer):\n",
        "    def __init__(self,\n",
        "                 kernel_regularizer=None, u_regularizer=None, bias_regularizer=None,\n",
        "                 W_constraint=None, u_constraint=None, b_constraint=None,\n",
        "                 bias=True,\n",
        "                 return_attention=False,\n",
        "                 **kwargs):\n",
        "\n",
        "        self.supports_masking = True\n",
        "        self.init = initializers.get('glorot_uniform')\n",
        "\n",
        "        self.W_regularizer = regularizers.get(kernel_regularizer)\n",
        "        self.u_regularizer = regularizers.get(u_regularizer)\n",
        "        self.b1_regularizer = regularizers.get(bias_regularizer)\n",
        "        self.b2_regularizer = regularizers.get(bias_regularizer)\n",
        "\n",
        "        self.W_constraint = constraints.get(W_constraint)\n",
        "        self.u_constraint = constraints.get(u_constraint)\n",
        "        self.b1_constraint = constraints.get(b_constraint)\n",
        "        self.b2_constraint = constraints.get(b_constraint)\n",
        "\n",
        "        self.bias = bias\n",
        "        self.return_attention = return_attention\n",
        "        super(DeepAttention, self).__init__(**kwargs)\n",
        "\n",
        "    def build(self, input_shape):\n",
        "        assert len(input_shape) == 3\n",
        "\n",
        "        self.W = self.add_weight(shape=(input_shape[-1], input_shape[-1],),\n",
        "                                 initializer=self.init,\n",
        "                                 name='{}_W'.format(self.name),\n",
        "                                 regularizer=self.W_regularizer,\n",
        "                                 constraint=self.W_constraint)\n",
        "        if self.bias:\n",
        "            self.b1 = self.add_weight(shape=(input_shape[-1],),\n",
        "                                     initializer='zero',\n",
        "                                     name='{}_b1'.format(self.name),\n",
        "                                     regularizer=self.b1_regularizer,\n",
        "                                     constraint=self.b1_constraint)\n",
        "            self.b2 = self.add_weight(shape=(1,),\n",
        "                                     initializer='zero',\n",
        "                                     name='{}_b2'.format(self.name),\n",
        "                                     regularizer=self.b2_regularizer,\n",
        "                                     constraint=self.b2_constraint)\n",
        "        else:\n",
        "            self.b1 = None\n",
        "            self.b2 = None\n",
        "\n",
        "        self.u = self.add_weight(shape=(input_shape[-1],),\n",
        "                                 initializer=self.init,\n",
        "                                 name='{}_u'.format(self.name),\n",
        "                                 regularizer=self.u_regularizer,\n",
        "                                 constraint=self.u_constraint)\n",
        "\n",
        "        self.built = True\n",
        "\n",
        "\n",
        "    def compute_mask(self, inputs, mask=None):\n",
        "        # do not pass the mask to the next layers\n",
        "        if self.return_attention:\n",
        "            return [None, None]\n",
        "        return None\n",
        "\n",
        "    def call(self, x, mask=None):\n",
        "        # uit = tanh(Wx + b)\n",
        "        uit = dot_product(x, self.W)\n",
        "\n",
        "        if self.bias:\n",
        "            uit += self.b1\n",
        "\n",
        "        uit = K.tanh(uit)\n",
        "\n",
        "        # ait = softmax(Ueij)\n",
        "        eij = dot_product(uit, self.u)\n",
        "        if self.bias:\n",
        "            eij += self.b2\n",
        "\n",
        "        # Apply mask\n",
        "        if mask is not None:\n",
        "            eij *= K.cast(mask, K.floatx())\n",
        "\n",
        "        a = K.expand_dims(K.softmax(eij, axis=-1))\n",
        "\n",
        "        weighted_input = x * a\n",
        "        result = K.sum(weighted_input, axis=1)\n",
        "\n",
        "        if self.return_attention:\n",
        "            return [result, a]\n",
        "        return result\n",
        "\n",
        "    def compute_output_shape(self, input_shape):\n",
        "        if self.return_attention:\n",
        "            return [(input_shape[0], input_shape[-1]),\n",
        "                    (input_shape[0], input_shape[1])]\n",
        "        else:\n",
        "            return input_shape[0], input_shape[-1]"
      ]
    },
    {
      "cell_type": "code",
      "execution_count": 9,
      "metadata": {
        "colab": {
          "base_uri": "https://localhost:8080/"
        },
        "id": "xZfuyNMVqIo6",
        "outputId": "14777db4-20e1-4075-f3cb-e0a98ba0acb2"
      },
      "outputs": [
        {
          "output_type": "stream",
          "name": "stdout",
          "text": [
            "Trial 30 Complete [00h 20m 53s]\n",
            "val_accuracy: 0.8740000128746033\n",
            "\n",
            "Best val_accuracy So Far: 0.8794999718666077\n",
            "Total elapsed time: 03h 02m 21s\n",
            "\n",
            "The hyperparameter search is complete. We stacked 2 BiLSTM's. The optimal number of units in the densely-connected\n",
            "layer is 96, the optimal learning rate for the optimizer\n",
            "is 0.01 and the dropout probability is: 0.30000000000000004.\n",
            "\n"
          ]
        }
      ],
      "source": [
        "BATCH_SIZE = 256\n",
        "EPOCHS = 10\n",
        "LSTM_SIZE = 32\n",
        "\n",
        "import keras_tuner as kt\n",
        "\n",
        "\n",
        "def model_builder(hp):\n",
        "\n",
        "  # Hyperparameters to tune\n",
        "  hp_units = hp.Int('units', min_value=32, max_value=128, step=32)\n",
        "  hp_stack = hp.Int('stacks', min_value=0, max_value=2, step=1)\n",
        "  hp_dropout = hp.Float('rate', min_value=0.1, max_value=0.5, step=0.2)\n",
        "  hp_learning_rate = hp.Float('learning_rate', min_value=0.001, max_value=0.1, step=10, sampling='log')\n",
        "\n",
        "\n",
        "  inputs = Input((MAX_SEQUENCE_LENGTH,))\n",
        "\n",
        "  # Embedding layer\n",
        "  embeddings = Embedding(input_dim=MAX_WORDS+2, output_dim=EMBEDDING_DIM, weights=[embedding_matrix],\n",
        "                          input_length=MAX_SEQUENCE_LENGTH, mask_zero=True, trainable=False)(inputs)\n",
        "\n",
        "  x = Dropout(rate=hp_dropout)(embeddings)\n",
        "\n",
        "\n",
        "  # Stack Bi-LSTMs\n",
        "  for i in range(hp_stack + 1):\n",
        "    x = Bidirectional(LSTM(units=LSTM_SIZE, return_sequences=True, recurrent_dropout=0.33))(x)\n",
        "\n",
        "  drop_x = Dropout(rate=hp_dropout)(x)\n",
        "\n",
        "\n",
        "  # Αdd the self-attention layer\n",
        "  x, attn = DeepAttention(return_attention=True)(drop_x)\n",
        "\n",
        "  drop_x = Dropout(rate=hp_dropout)(x)\n",
        "\n",
        "\n",
        "  # Αdd the output MLP layer\n",
        "  x = Dense(units=hp_units, activation=\"relu\")(drop_x)\n",
        "\n",
        "  drop_out = Dropout(rate=hp_dropout)(x)\n",
        "\n",
        "  out = Dense(1, activation=\"sigmoid\")(drop_out)\n",
        "\n",
        "\n",
        "  model = Model(inputs=inputs, outputs=out)\n",
        "\n",
        "  model.compile(loss=tf.keras.losses.BinaryCrossentropy(\n",
        "                from_logits=False),\n",
        "                optimizer=Adam(learning_rate=hp_learning_rate),\n",
        "                metrics=[\"accuracy\"])\n",
        "\n",
        "  return model\n",
        "\n",
        "\n",
        "tuner = kt.Hyperband(model_builder,\n",
        "                     objective='val_accuracy',\n",
        "                     max_epochs=EPOCHS,\n",
        "                     factor=3,\n",
        "                     directory='my_dir',\n",
        "                     project_name='intro_to_kt')\n",
        "\n",
        "\n",
        "stop_early = tf.keras.callbacks.EarlyStopping(monitor='val_loss', patience=3)\n",
        "\n",
        "\n",
        "tuner.search(train_data[:10000], y_train[:10000], epochs=10, validation_data=(dev_data[:2000], y_dev[:2000]), callbacks=[stop_early], batch_size=BATCH_SIZE)\n",
        "\n",
        "\n",
        "# Get the optimal hyperparameters\n",
        "best_hps=tuner.get_best_hyperparameters(num_trials=1)[0]\n",
        "\n",
        "print(f\"\"\"\n",
        "The hyperparameter search is complete. We stacked {best_hps.get('stacks') + 1} BiLSTM's. The optimal number of units in the densely-connected\n",
        "layer is {best_hps.get('units')}, the optimal learning rate for the optimizer\n",
        "is {best_hps.get('learning_rate')} and the dropout probability is: {best_hps.get('rate')}.\n",
        "\"\"\")"
      ]
    },
    {
      "cell_type": "code",
      "execution_count": 10,
      "metadata": {
        "id": "uQDUki6Ohm7W",
        "colab": {
          "base_uri": "https://localhost:8080/"
        },
        "outputId": "1e258253-9d3e-421e-e7e4-e623da498b18"
      },
      "outputs": [
        {
          "output_type": "stream",
          "name": "stdout",
          "text": [
            "Model: \"model_1\"\n",
            "_________________________________________________________________\n",
            " Layer (type)                Output Shape              Param #   \n",
            "=================================================================\n",
            " input_2 (InputLayer)        [(None, 200)]             0         \n",
            "                                                                 \n",
            " embedding_1 (Embedding)     (None, 200, 100)          6000200   \n",
            "                                                                 \n",
            " dropout_4 (Dropout)         (None, 200, 100)          0         \n",
            "                                                                 \n",
            " bidirectional_3 (Bidirecti  (None, 200, 64)           34048     \n",
            " onal)                                                           \n",
            "                                                                 \n",
            " bidirectional_4 (Bidirecti  (None, 200, 64)           24832     \n",
            " onal)                                                           \n",
            "                                                                 \n",
            " dropout_5 (Dropout)         (None, 200, 64)           0         \n",
            "                                                                 \n",
            " deep_attention_1 (DeepAtte  [(None, 64),              4225      \n",
            " ntion)                       (None, 200, 1)]                    \n",
            "                                                                 \n",
            " dropout_6 (Dropout)         (None, 64)                0         \n",
            "                                                                 \n",
            " dense_2 (Dense)             (None, 96)                6240      \n",
            "                                                                 \n",
            " dropout_7 (Dropout)         (None, 96)                0         \n",
            "                                                                 \n",
            " dense_3 (Dense)             (None, 1)                 97        \n",
            "                                                                 \n",
            "=================================================================\n",
            "Total params: 6069642 (23.15 MB)\n",
            "Trainable params: 69442 (271.26 KB)\n",
            "Non-trainable params: 6000200 (22.89 MB)\n",
            "_________________________________________________________________\n",
            "None\n"
          ]
        }
      ],
      "source": [
        "model = tuner.hypermodel.build(best_hps)\n",
        "\n",
        "print(model.summary())"
      ]
    },
    {
      "cell_type": "code",
      "execution_count": 11,
      "metadata": {
        "id": "l6V3VLoYnBbb",
        "colab": {
          "base_uri": "https://localhost:8080/"
        },
        "outputId": "bd88914c-dbe3-478e-a179-238bf42b22e3"
      },
      "outputs": [
        {
          "output_type": "stream",
          "name": "stdout",
          "text": [
            "Epoch 1/10\n",
            "118/118 [==============================] - 275s 2s/step - loss: 0.5732 - accuracy: 0.6813 - val_loss: 0.3832 - val_accuracy: 0.8265\n",
            "Epoch 2/10\n",
            "118/118 [==============================] - 243s 2s/step - loss: 0.3747 - accuracy: 0.8347 - val_loss: 0.3177 - val_accuracy: 0.8715\n",
            "Epoch 3/10\n",
            "118/118 [==============================] - 245s 2s/step - loss: 0.3319 - accuracy: 0.8576 - val_loss: 0.3029 - val_accuracy: 0.8787\n",
            "Epoch 4/10\n",
            "118/118 [==============================] - 244s 2s/step - loss: 0.3034 - accuracy: 0.8714 - val_loss: 0.3020 - val_accuracy: 0.8735\n",
            "Epoch 5/10\n",
            "118/118 [==============================] - 244s 2s/step - loss: 0.2906 - accuracy: 0.8782 - val_loss: 0.2902 - val_accuracy: 0.8793\n",
            "Epoch 6/10\n",
            "118/118 [==============================] - 242s 2s/step - loss: 0.2699 - accuracy: 0.8883 - val_loss: 0.2642 - val_accuracy: 0.8937\n",
            "Epoch 7/10\n",
            "118/118 [==============================] - 242s 2s/step - loss: 0.2641 - accuracy: 0.8907 - val_loss: 0.2819 - val_accuracy: 0.8816\n",
            "Epoch 8/10\n",
            "118/118 [==============================] - 246s 2s/step - loss: 0.2565 - accuracy: 0.8952 - val_loss: 0.2821 - val_accuracy: 0.8895\n",
            "Epoch 9/10\n",
            "118/118 [==============================] - 248s 2s/step - loss: 0.2491 - accuracy: 0.8967 - val_loss: 0.2515 - val_accuracy: 0.8997\n",
            "Epoch 10/10\n",
            "118/118 [==============================] - 248s 2s/step - loss: 0.2392 - accuracy: 0.9033 - val_loss: 0.2582 - val_accuracy: 0.8998\n",
            "\n",
            "Training time: 00:41:17 sec\n",
            "\n",
            "Best epoch: 9\n"
          ]
        }
      ],
      "source": [
        "import time\n",
        "\n",
        "with tf.device('/device:GPU:0'):\n",
        "\n",
        "  start_training_time = time.time()\n",
        "\n",
        "  history = model.fit(train_data,\n",
        "                    y_train,\n",
        "                    validation_data=(dev_data, y_dev),\n",
        "                    batch_size=BATCH_SIZE,\n",
        "                    epochs=EPOCHS,\n",
        "                    shuffle=True)\n",
        "\n",
        "  end_training_time = time.time()\n",
        "\n",
        "  print(f'\\nTraining time: {time.strftime(\"%H:%M:%S\", time.gmtime(end_training_time - start_training_time))} sec\\n')\n",
        "\n",
        "val_loss_per_epoch = history.history['val_loss']\n",
        "best_epoch = val_loss_per_epoch.index(min(val_loss_per_epoch)) + 1\n",
        "print('Best epoch: %d' % (best_epoch,))"
      ]
    },
    {
      "cell_type": "code",
      "execution_count": 12,
      "metadata": {
        "id": "jEKk14xnocA7",
        "colab": {
          "base_uri": "https://localhost:8080/",
          "height": 927
        },
        "outputId": "429428a0-2380-4199-83bf-deb53941072c"
      },
      "outputs": [
        {
          "output_type": "display_data",
          "data": {
            "text/plain": [
              "<Figure size 640x480 with 1 Axes>"
            ],
            "image/png": "[encoded data removed]"
          },
          "metadata": {}
        },
        {
          "output_type": "display_data",
          "data": {
            "text/plain": [
              "<Figure size 640x480 with 1 Axes>"
            ],
            "image/png": "[encoded data removed]"
          },
          "metadata": {}
        }
      ],
      "source": [
        "%matplotlib inline\n",
        "import matplotlib.pyplot as plt\n",
        "\n",
        "\n",
        "# summarize history for accuracy\n",
        "plt.plot(history.history['accuracy'])\n",
        "plt.plot(history.history['val_accuracy'])\n",
        "plt.title('Model Accuracy')\n",
        "plt.ylabel('accuracy')\n",
        "plt.xlabel('epochs')\n",
        "plt.legend(['Training set', 'Development set'], loc='lower right')\n",
        "plt.show()\n",
        "\n",
        "# summarize history for loss\n",
        "plt.plot(history.history['loss'])\n",
        "plt.plot(history.history['val_loss'])\n",
        "plt.title('Model Loss')\n",
        "plt.ylabel('loss')\n",
        "plt.xlabel('epochs')\n",
        "plt.legend(['Training set', 'Development set'], loc='upper right')\n",
        "plt.show()"
      ]
    },
    {
      "cell_type": "markdown",
      "metadata": {
        "id": "OlfhhqH_e6pa"
      },
      "source": [
        "# Metrics\n",
        "\n",
        "Precision , Recall , F1 , AUC scores for Bi-LSTM classifier"
      ]
    },
    {
      "cell_type": "code",
      "execution_count": 13,
      "metadata": {
        "id": "_Vykqg62ZMWe",
        "colab": {
          "base_uri": "https://localhost:8080/"
        },
        "outputId": "dd28e51d-bacd-48f9-dadf-65cd130524ba"
      },
      "outputs": [
        {
          "output_type": "stream",
          "name": "stdout",
          "text": [
            "Epoch 1/9\n",
            "118/118 [==============================] - 268s 2s/step - loss: 0.5375 - accuracy: 0.7044 - val_loss: 0.3779 - val_accuracy: 0.8402\n",
            "Epoch 2/9\n",
            "118/118 [==============================] - 249s 2s/step - loss: 0.3555 - accuracy: 0.8445 - val_loss: 0.3043 - val_accuracy: 0.8752\n",
            "Epoch 3/9\n",
            "118/118 [==============================] - 247s 2s/step - loss: 0.3232 - accuracy: 0.8628 - val_loss: 0.2942 - val_accuracy: 0.8794\n",
            "Epoch 4/9\n",
            "118/118 [==============================] - 248s 2s/step - loss: 0.3043 - accuracy: 0.8720 - val_loss: 0.2930 - val_accuracy: 0.8854\n",
            "Epoch 5/9\n",
            "118/118 [==============================] - 247s 2s/step - loss: 0.2799 - accuracy: 0.8815 - val_loss: 0.2845 - val_accuracy: 0.8868\n",
            "Epoch 6/9\n",
            "118/118 [==============================] - 248s 2s/step - loss: 0.2696 - accuracy: 0.8864 - val_loss: 0.2544 - val_accuracy: 0.8968\n",
            "Epoch 7/9\n",
            "118/118 [==============================] - 250s 2s/step - loss: 0.2609 - accuracy: 0.8923 - val_loss: 0.2543 - val_accuracy: 0.8972\n",
            "Epoch 8/9\n",
            "118/118 [==============================] - 250s 2s/step - loss: 0.2496 - accuracy: 0.8980 - val_loss: 0.2534 - val_accuracy: 0.9001\n",
            "Epoch 9/9\n",
            "118/118 [==============================] - 249s 2s/step - loss: 0.2423 - accuracy: 0.9013 - val_loss: 0.2575 - val_accuracy: 0.8977\n",
            "938/938 [==============================] - 139s 147ms/step\n",
            "313/313 [==============================] - 45s 145ms/step\n",
            "313/313 [==============================] - 45s 144ms/step\n",
            "\n",
            "--------- Custom stacked BiLSTM ---------\n",
            "\n",
            "Training set\n",
            "\n",
            "              precision    recall  f1-score   support\n",
            "\n",
            "    negative       0.91      0.95      0.93     15026\n",
            "    positive       0.95      0.90      0.92     14974\n",
            "\n",
            "    accuracy                           0.93     30000\n",
            "   macro avg       0.93      0.93      0.93     30000\n",
            "weighted avg       0.93      0.93      0.93     30000\n",
            "\n",
            "AUC training : 0.9807256258539663 \n",
            "\n",
            "\n",
            "Development set\n",
            "\n",
            "              precision    recall  f1-score   support\n",
            "\n",
            "    negative       0.88      0.92      0.90      4947\n",
            "    positive       0.92      0.87      0.90      5053\n",
            "\n",
            "    accuracy                           0.90     10000\n",
            "   macro avg       0.90      0.90      0.90     10000\n",
            "weighted avg       0.90      0.90      0.90     10000\n",
            "\n",
            "AUC development : 0.9628420319238977 \n",
            "\n",
            "\n",
            "Test set\n",
            "\n",
            "              precision    recall  f1-score   support\n",
            "\n",
            "    negative       0.88      0.93      0.91      5027\n",
            "    positive       0.93      0.87      0.90      4973\n",
            "\n",
            "    accuracy                           0.90     10000\n",
            "   macro avg       0.90      0.90      0.90     10000\n",
            "weighted avg       0.90      0.90      0.90     10000\n",
            "\n",
            "AUC test : 0.9653627495938271\n"
          ]
        }
      ],
      "source": [
        "model = tuner.hypermodel.build(best_hps)\n",
        "model.fit(train_data, y_train, validation_data=(dev_data, y_dev), batch_size=BATCH_SIZE, epochs=best_epoch, shuffle=True)\n",
        "\n",
        "\n",
        "rnn_predictions_train = model.predict(train_data)\n",
        "rnn_precision_train, rnn_recall_train, thresholds = precision_recall_curve(y_train, rnn_predictions_train)\n",
        "\n",
        "rnn_predictions_dev = model.predict(dev_data)\n",
        "rnn_precision_dev, rnn_recall_dev, thresholds = precision_recall_curve(y_dev, rnn_predictions_dev)\n",
        "\n",
        "rnn_predictions_test = model.predict(test_data)\n",
        "rnn_precision_test, rnn_recall_test, thresholds = precision_recall_curve(y_test, rnn_predictions_test)\n",
        "\n",
        "\n",
        "print('\\n--------- Custom stacked BiLSTM ---------\\n')\n",
        "print('Training set\\n')\n",
        "print(classification_report(y_train, np.round(rnn_predictions_train), target_names = target_names))\n",
        "print('AUC training :', auc(rnn_recall_train, rnn_precision_train), '\\n')\n",
        "print('\\nDevelopment set\\n')\n",
        "print(classification_report(y_dev, np.round(rnn_predictions_dev), target_names = target_names))\n",
        "print('AUC development :', auc(rnn_recall_dev, rnn_precision_dev), '\\n')\n",
        "print('\\nTest set\\n')\n",
        "print(classification_report(y_test, np.round(rnn_predictions_test), target_names = target_names))\n",
        "print('AUC test :', auc(rnn_recall_test, rnn_precision_test))"
      ]
    }
  ],
  "metadata": {
    "colab": {
      "provenance": []
    },
    "kernelspec": {
      "display_name": "Python 3",
      "name": "python3"
    },
    "language_info": {
      "name": "python"
    }
  },
  "nbformat": 4,
  "nbformat_minor": 0
}