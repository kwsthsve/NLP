{
  "cells": [
    {
      "cell_type": "code",
      "execution_count": null,
      "metadata": {
        "id": "KLi7mxXuqKeu"
      },
      "outputs": [],
      "source": [
        "import requests\n",
        "import gensim.downloader as api\n",
        "import numpy as np\n",
        "\n",
        "import re\n",
        "\n",
        "import tensorflow as tf\n",
        "from tensorflow.keras.callbacks import ModelCheckpoint\n",
        "from tensorflow.keras.layers import Dense, Dropout, Bidirectional, LSTM, Embedding, Input\n",
        "from tensorflow.keras.optimizers import Adam\n",
        "from tensorflow.keras import Model\n",
        "\n",
        "from sklearn.preprocessing import MultiLabelBinarizer\n",
        "from sklearn.metrics import classification_report, auc, precision_recall_curve"
      ]
    },
    {
      "cell_type": "code",
      "execution_count": null,
      "metadata": {
        "id": "n_xX8Z8Zspfv"
      },
      "outputs": [],
      "source": [
        "data_train = requests.get('https://raw.githubusercontent.com/UniversalDependencies/UD_English-GUM/master/en_gum-ud-train.conllu')\n",
        "data_test = requests.get('https://raw.githubusercontent.com/UniversalDependencies/UD_English-GUM/master/en_gum-ud-test.conllu')\n",
        "data_dev = requests.get('https://raw.githubusercontent.com/UniversalDependencies/UD_English-GUM/master/en_gum-ud-dev.conllu')\n",
        "\n",
        "START = '__start__'\n",
        "END = '__end__'\n",
        "UNK = '__unk__'"
      ]
    },
    {
      "cell_type": "code",
      "execution_count": null,
      "metadata": {
        "id": "s_YeaNxNyio_"
      },
      "outputs": [],
      "source": [
        "def tokenizer(data):\n",
        "\n",
        "  raw_text = data.text.strip()\n",
        "  raw_docs = re.split(r'\\n\\t?\\n', raw_text)\n",
        "  token_docs = []\n",
        "  tag_docs = []\n",
        "  sentences = []\n",
        "\n",
        "  for doc in raw_docs:\n",
        "    tokens = [START] + [START]\n",
        "    tags = []\n",
        "    for line in doc.split('\\n'):\n",
        "      if (len(line.split('\\t')) != 1):\n",
        "        tokens.append(line.split('\\t')[1].lower())\n",
        "        tags.append(line.split('\\t')[3])\n",
        "\n",
        "    tokens.append(END)\n",
        "    tokens.append(END)\n",
        "    token_docs.append(tokens)\n",
        "    tag_docs.append(tags)\n",
        "\n",
        "  return  token_docs, tag_docs"
      ]
    },
    {
      "cell_type": "markdown",
      "metadata": {
        "id": "ZkhsQtx-Dso0"
      },
      "source": [
        "#### Validity for pos tagging and tokens. Should have the same size (with substract 2 cause of the pseudotoken start & end"
      ]
    },
    {
      "cell_type": "code",
      "execution_count": null,
      "metadata": {
        "id": "I5vp2UGKHMtQ"
      },
      "outputs": [],
      "source": [
        "token_docs_train, tag_docs_train = tokenizer(data_train)\n",
        "token_docs_test, tag_docs_test = tokenizer(data_test)\n",
        "token_docs_dev, tag_docs_dev = tokenizer(data_dev)\n",
        "\n",
        "#validity for pos tagging and tokens.\n",
        "for i in range(len(token_docs_train)):\n",
        "  if len(token_docs_train[i]) - len(tag_docs_train[i]) != 4:\n",
        "    print(i)"
      ]
    },
    {
      "cell_type": "markdown",
      "metadata": {
        "id": "naH3T8NuQzRT"
      },
      "source": [
        "#### Size of training, development and test datasets"
      ]
    },
    {
      "cell_type": "code",
      "execution_count": null,
      "metadata": {
        "colab": {
          "base_uri": "https://localhost:8080/"
        },
        "id": "gQrGI2-CJwgt",
        "outputId": "bca5466d-ee20-4251-d223-6bf47773a37c"
      },
      "outputs": [
        {
          "output_type": "stream",
          "name": "stdout",
          "text": [
            "Training sentences : 8548\n",
            "Test sentences : 1096\n",
            "Development sentences : 1117\n"
          ]
        }
      ],
      "source": [
        "print('Training sentences :', len(token_docs_train))\n",
        "print('Test sentences :', len(token_docs_test))\n",
        "print('Development sentences :', len(token_docs_dev))"
      ]
    },
    {
      "cell_type": "markdown",
      "metadata": {
        "id": "VqfCVqdDAGZw"
      },
      "source": [
        "### Get Number of labels and check support for each label\n",
        "\n",
        "##### '_' ---> word contains apostrophe while 'X' ---> not english"
      ]
    },
    {
      "cell_type": "code",
      "execution_count": null,
      "metadata": {
        "colab": {
          "base_uri": "https://localhost:8080/"
        },
        "id": "rLTZHWDIAGE5",
        "outputId": "91d5a78c-383c-4c4d-f652-0fc92b7299a6"
      },
      "outputs": [
        {
          "output_type": "stream",
          "name": "stdout",
          "text": [
            "Training set labels : ['ADJ', 'ADP', 'ADV', 'AUX', 'CCONJ', 'DET', 'INTJ', 'NOUN', 'NUM', 'PART', 'PRON', 'PROPN', 'PUNCT', 'SCONJ', 'SYM', 'VERB', 'X', '_']\n",
            "Test set labels : ['ADJ', 'ADP', 'ADV', 'AUX', 'CCONJ', 'DET', 'INTJ', 'NOUN', 'NUM', 'PART', 'PRON', 'PROPN', 'PUNCT', 'SCONJ', 'SYM', 'VERB', 'X', '_']\n",
            "Development set labels : ['ADJ', 'ADP', 'ADV', 'AUX', 'CCONJ', 'DET', 'INTJ', 'NOUN', 'NUM', 'PART', 'PRON', 'PROPN', 'PUNCT', 'SCONJ', 'SYM', 'VERB', 'X', '_']\n",
            "\n",
            "Number of labels : 18\n",
            "Vocabulary size : 14826\n",
            "\n",
            "Average sentence length of training set : 19\n",
            "Average sentence length of development set : 19\n",
            "Average sentence length of test set : 20\n"
          ]
        }
      ],
      "source": [
        "flatten_tags_dev = [t for tag in tag_docs_dev for t in tag]\n",
        "flatten_tags_test = [t for tag in tag_docs_test for t in tag]\n",
        "flatten_tags_train = [t for tag in tag_docs_train for t in tag]\n",
        "\n",
        "print('Training set labels :', sorted(set(flatten_tags_train)))\n",
        "print('Test set labels :', sorted(set(flatten_tags_test)))\n",
        "print('Development set labels :', sorted(set(flatten_tags_dev)))\n",
        "\n",
        "N_CLASSES = len(set(flatten_tags_train))\n",
        "print('\\nNumber of labels :', N_CLASSES)\n",
        "print('Vocabulary size :', len(set(t for token in token_docs_train for t in token)) - 2)\n",
        "\n",
        "\n",
        "def average_sentence_length(sentences):\n",
        "  sent_sizes = []\n",
        "\n",
        "  for sent in sentences:\n",
        "    sent_sizes.append(len(sent) - 2)\n",
        "\n",
        "  return int(np.mean(np.array(sent_sizes)))\n",
        "\n",
        "print('\\nAverage sentence length of training set :', average_sentence_length(token_docs_train))\n",
        "print('Average sentence length of development set :', average_sentence_length(token_docs_dev))\n",
        "print('Average sentence length of test set :', average_sentence_length(token_docs_test))"
      ]
    },
    {
      "cell_type": "markdown",
      "metadata": {
        "id": "P4CYoGE-W9Sg"
      },
      "source": [
        "### Create d-Window mini-sentences"
      ]
    },
    {
      "cell_type": "code",
      "execution_count": null,
      "metadata": {
        "id": "t_cArxzRXM8j"
      },
      "outputs": [],
      "source": [
        "def window_tokenized(WINDOW_NUMBER, token_docs):\n",
        "  windowed_token_docs = []\n",
        "  for sent in token_docs:\n",
        "    temp = [[sent[idx + i] for i in range(WINDOW_NUMBER)] for idx in range(len(sent) - WINDOW_NUMBER + 1)]\n",
        "    windowed_token_docs.append(temp)\n",
        "\n",
        "  return [window for m_sentence in windowed_token_docs for window in m_sentence]"
      ]
    },
    {
      "cell_type": "code",
      "execution_count": null,
      "metadata": {
        "colab": {
          "base_uri": "https://localhost:8080/"
        },
        "id": "G4ot9m5DdJ5e",
        "outputId": "926e9e1d-710f-4968-c607-4181d9aac925"
      },
      "outputs": [
        {
          "output_type": "stream",
          "name": "stdout",
          "text": [
            "Training mini-sentences : 150374 and Training y_true : 150374\n",
            "Test mini-sentences : 20195 and Test y_true : 20195\n",
            "Development mini-sentences : 19997 and Development y_true : 19997\n"
          ]
        }
      ],
      "source": [
        "WINDOW = 5\n",
        "\n",
        "windowed_token_docs_train = window_tokenized(WINDOW, token_docs_train)\n",
        "windowed_token_docs_test = window_tokenized(WINDOW, token_docs_test)\n",
        "windowed_token_docs_dev = window_tokenized(WINDOW, token_docs_dev)\n",
        "\n",
        "\n",
        "print('Training mini-sentences :', len(windowed_token_docs_train), 'and Training y_true :', len(flatten_tags_train))\n",
        "print('Test mini-sentences :', len(windowed_token_docs_test), 'and Test y_true :', len(flatten_tags_test))\n",
        "print('Development mini-sentences :', len(windowed_token_docs_dev), 'and Development y_true :', len(flatten_tags_dev))"
      ]
    },
    {
      "cell_type": "markdown",
      "metadata": {
        "id": "LWGjRSqzMSxY"
      },
      "source": [
        "### Create 1-hot vectors for y_true label"
      ]
    },
    {
      "cell_type": "code",
      "execution_count": null,
      "metadata": {
        "id": "hvmbiP5DDyLb"
      },
      "outputs": [],
      "source": [
        "mlb = MultiLabelBinarizer()\n",
        "\n",
        "y_train_1_hot  = mlb.fit_transform([[tag] for tag in flatten_tags_train])\n",
        "y_test_1_hot  = mlb.transform([[tag] for tag in flatten_tags_test])\n",
        "y_dev_1_hot  = mlb.transform([[tag] for tag in flatten_tags_dev])"
      ]
    },
    {
      "cell_type": "markdown",
      "metadata": {
        "id": "sfug30YyBnfW"
      },
      "source": [
        "# Indexing and embedding"
      ]
    },
    {
      "cell_type": "code",
      "execution_count": null,
      "metadata": {
        "colab": {
          "base_uri": "https://localhost:8080/"
        },
        "id": "cYvXBr-MgDd1",
        "outputId": "8eb0f593-c391-4f4c-b7aa-c49bcd3695bd"
      },
      "outputs": [
        {
          "output_type": "stream",
          "name": "stdout",
          "text": [
            "[==================================================] 100.0% 376.1/376.1MB downloaded\n"
          ]
        }
      ],
      "source": [
        "embeddings = api.load('glove-wiki-gigaword-300')"
      ]
    },
    {
      "cell_type": "code",
      "execution_count": null,
      "metadata": {
        "colab": {
          "base_uri": "https://localhost:8080/"
        },
        "id": "BQsovs45ALwP",
        "outputId": "0ce22a15-46cf-4f67-a356-53d84d85b81b"
      },
      "outputs": [
        {
          "output_type": "stream",
          "name": "stdout",
          "text": [
            "[ 2787  2787 11469 12891   564]\n",
            "[ 2787 11469 12891   564 13053]\n",
            "2787\n"
          ]
        }
      ],
      "source": [
        "vocab = set(t for token in token_docs_train for t in token)\n",
        "VOCAB_SIZE = len(vocab)\n",
        "\n",
        "word_index = dict()\n",
        "\n",
        "for i, word in enumerate(vocab):\n",
        "  word_index[word] = i\n",
        "\n",
        "word_index[UNK] = VOCAB_SIZE\n",
        "\n",
        "\n",
        "def replace_with_index(windowed_token_docs, word_idx):\n",
        "\n",
        "    doc_tokenized = []\n",
        "\n",
        "    for mini_sent in windowed_token_docs:\n",
        "      doc_tokenized.append([word_idx[UNK] if word not in word_idx.keys() else word_idx[word] for word in mini_sent])\n",
        "\n",
        "    return np.array(doc_tokenized)\n",
        "\n",
        "\n",
        "train_data = replace_with_index(windowed_token_docs_train, word_index)\n",
        "dev_data = replace_with_index(windowed_token_docs_dev, word_index)\n",
        "test_data = replace_with_index(windowed_token_docs_test, word_index)\n",
        "\n",
        "print(train_data[0])\n",
        "print(train_data[1])\n",
        "print(word_index[START])"
      ]
    },
    {
      "cell_type": "code",
      "execution_count": null,
      "metadata": {
        "colab": {
          "base_uri": "https://localhost:8080/"
        },
        "id": "YfVk__n4ATW8",
        "outputId": "41651f0f-d858-4193-b197-e956262d2fda"
      },
      "outputs": [
        {
          "output_type": "stream",
          "name": "stdout",
          "text": [
            "13709\n",
            "13709\n"
          ]
        }
      ],
      "source": [
        "EMBEDDING_DIM = 300\n",
        "\n",
        "embedding_matrix = np.zeros((VOCAB_SIZE+1, EMBEDDING_DIM))\n",
        "\n",
        "count = 0\n",
        "for i, word in enumerate(vocab):\n",
        "\n",
        "    try:\n",
        "        embedding_matrix[i] = embeddings[word]\n",
        "        count += 1\n",
        "    except:\n",
        "        pass\n",
        "\n",
        "\n",
        "print(len(np.unique(np.nonzero(embedding_matrix)[0])))\n",
        "print(count)\n",
        "\n",
        "del embeddings"
      ]
    },
    {
      "cell_type": "markdown",
      "metadata": {
        "id": "7dpW8wRzH90w"
      },
      "source": [
        "# Model creation and hyper-parameter tuning"
      ]
    },
    {
      "cell_type": "code",
      "execution_count": null,
      "metadata": {
        "colab": {
          "base_uri": "https://localhost:8080/"
        },
        "id": "gv1RVF3xXukR",
        "outputId": "46e9903d-6f6a-40b1-d079-bcd9838646b2"
      },
      "outputs": [
        {
          "output_type": "stream",
          "name": "stdout",
          "text": [
            "\u001b[?25l     \u001b[90m━━━━━━━━━━━━━━━━━━━━━━━━━━━━━━━━━━━━━━━━\u001b[0m \u001b[32m0.0/128.9 kB\u001b[0m \u001b[31m?\u001b[0m eta \u001b[36m-:--:--\u001b[0m\r\u001b[2K     \u001b[90m━━━━━━━━━━━━━━━━━━━━━━━━━━━━━━━━━━━━━━━━\u001b[0m \u001b[32m128.9/128.9 kB\u001b[0m \u001b[31m3.9 MB/s\u001b[0m eta \u001b[36m0:00:00\u001b[0m\n",
            "\u001b[?25h"
          ]
        }
      ],
      "source": [
        "!pip install -q -U keras-tuner"
      ]
    },
    {
      "cell_type": "code",
      "execution_count": null,
      "metadata": {
        "colab": {
          "base_uri": "https://localhost:8080/"
        },
        "id": "dPxfQNItlmtx",
        "outputId": "930d73e7-eb04-42ce-e64a-3176ad91c179"
      },
      "outputs": [
        {
          "output_type": "stream",
          "name": "stdout",
          "text": [
            "Trial 30 Complete [00h 24m 38s]\n",
            "val_accuracy: 0.9216382503509521\n",
            "\n",
            "Best val_accuracy So Far: 0.9330899715423584\n",
            "Total elapsed time: 05h 26m 30s\n",
            "\n",
            "The hyperparameter search is complete. We stacked 3 BiLSTM's. The optimal number of units in the densely-connected\n",
            "layer is 96, the optimal learning rate for the optimizer\n",
            "is 0.001 and the dropout probability is: 0.30000000000000004.\n",
            "\n"
          ]
        }
      ],
      "source": [
        "BATCH_SIZE = 256\n",
        "EPOCHS = 10\n",
        "LSTM_SIZE = 128\n",
        "\n",
        "import keras_tuner as kt\n",
        "\n",
        "\n",
        "def model_builder(hp):\n",
        "\n",
        "  # Hyperparameters to tune\n",
        "  hp_stack = hp.Int('stacks', min_value=0, max_value=2, step=1)\n",
        "  hp_units = hp.Int('units', min_value=32, max_value=128, step=32)\n",
        "  hp_dropout = hp.Float('rate', min_value=0.1, max_value=0.5, step=0.2)\n",
        "  hp_learning_rate = hp.Float('learning_rate', min_value=0.001, max_value=0.1, step=10, sampling='log')\n",
        "\n",
        "\n",
        "  inputs = Input((WINDOW,))\n",
        "\n",
        "  # Embedding layer\n",
        "  embeddings = Embedding(input_dim=VOCAB_SIZE+1, output_dim=EMBEDDING_DIM, weights=[embedding_matrix],\n",
        "                          input_length=WINDOW, mask_zero=True, trainable=False)(inputs)\n",
        "\n",
        "  x = Dropout(rate=hp_dropout)(embeddings)\n",
        "\n",
        "\n",
        "  # Stack Bi-LSTMs\n",
        "  for i in range(hp_stack):\n",
        "    x = Bidirectional(LSTM(units=LSTM_SIZE, return_sequences=True, recurrent_dropout=0.33))(x)\n",
        "\n",
        "  x = Bidirectional(LSTM(units=LSTM_SIZE, return_sequences=False, recurrent_dropout=0.33))(x)\n",
        "\n",
        "  drop_x = Dropout(rate=hp_dropout)(x)\n",
        "\n",
        "\n",
        "  # Αdd the output MLP layer\n",
        "  x = Dense(units=hp_units, activation=\"relu\")(drop_x)\n",
        "\n",
        "  drop_out = Dropout(rate=hp_dropout)(x)\n",
        "\n",
        "  out = Dense(units=N_CLASSES, activation=\"softmax\")(drop_out)\n",
        "\n",
        "\n",
        "  model = Model(inputs=inputs, outputs=out)\n",
        "\n",
        "  model.compile(loss=tf.keras.losses.CategoricalCrossentropy(\n",
        "                from_logits=False),\n",
        "                optimizer=Adam(learning_rate=hp_learning_rate),\n",
        "                metrics=[\"accuracy\"])\n",
        "\n",
        "  return model\n",
        "\n",
        "\n",
        "tuner = kt.Hyperband(model_builder,\n",
        "                     objective='val_accuracy',\n",
        "                     max_epochs=EPOCHS,\n",
        "                     factor=3,\n",
        "                     directory='my_dir2',\n",
        "                     project_name='intro_to_kt')\n",
        "\n",
        "\n",
        "stop_early = tf.keras.callbacks.EarlyStopping(monitor='val_loss', patience=5)\n",
        "\n",
        "\n",
        "tuner.search(train_data, y_train_1_hot, epochs=10, validation_data=(dev_data, y_dev_1_hot), callbacks=[stop_early], batch_size=BATCH_SIZE)\n",
        "\n",
        "\n",
        "# Get the optimal hyperparameters\n",
        "best_hps=tuner.get_best_hyperparameters(num_trials=1)[0]\n",
        "\n",
        "print(f\"\"\"\n",
        "The hyperparameter search is complete. We stacked {best_hps.get('stacks') + 1} BiLSTM's. The optimal number of units in the densely-connected\n",
        "layer is {best_hps.get('units')}, the optimal learning rate for the optimizer\n",
        "is {best_hps.get('learning_rate')} and the dropout probability is: {best_hps.get('rate')}.\n",
        "\"\"\")"
      ]
    },
    {
      "cell_type": "code",
      "execution_count": null,
      "metadata": {
        "id": "BLRMfWVLYiiS",
        "colab": {
          "base_uri": "https://localhost:8080/"
        },
        "outputId": "a727fcb4-33a1-405b-cce6-55c959bf96c1"
      },
      "outputs": [
        {
          "output_type": "stream",
          "name": "stdout",
          "text": [
            "Model: \"model_1\"\n",
            "_________________________________________________________________\n",
            " Layer (type)                Output Shape              Param #   \n",
            "=================================================================\n",
            " input_2 (InputLayer)        [(None, 5)]               0         \n",
            "                                                                 \n",
            " embedding_1 (Embedding)     (None, 5, 300)            4448700   \n",
            "                                                                 \n",
            " dropout_3 (Dropout)         (None, 5, 300)            0         \n",
            "                                                                 \n",
            " bidirectional_2 (Bidirecti  (None, 5, 256)            439296    \n",
            " onal)                                                           \n",
            "                                                                 \n",
            " bidirectional_3 (Bidirecti  (None, 5, 256)            394240    \n",
            " onal)                                                           \n",
            "                                                                 \n",
            " bidirectional_4 (Bidirecti  (None, 256)               394240    \n",
            " onal)                                                           \n",
            "                                                                 \n",
            " dropout_4 (Dropout)         (None, 256)               0         \n",
            "                                                                 \n",
            " dense_2 (Dense)             (None, 96)                24672     \n",
            "                                                                 \n",
            " dropout_5 (Dropout)         (None, 96)                0         \n",
            "                                                                 \n",
            " dense_3 (Dense)             (None, 18)                1746      \n",
            "                                                                 \n",
            "=================================================================\n",
            "Total params: 5702894 (21.75 MB)\n",
            "Trainable params: 1254194 (4.78 MB)\n",
            "Non-trainable params: 4448700 (16.97 MB)\n",
            "_________________________________________________________________\n",
            "None\n"
          ]
        }
      ],
      "source": [
        "model = tuner.hypermodel.build(best_hps)\n",
        "\n",
        "print(model.summary())"
      ]
    },
    {
      "cell_type": "code",
      "execution_count": null,
      "metadata": {
        "id": "IdJd_5fboKNC",
        "colab": {
          "base_uri": "https://localhost:8080/"
        },
        "outputId": "e712ea77-ad37-4221-84b4-bcb2eaa09f70"
      },
      "outputs": [
        {
          "output_type": "stream",
          "name": "stdout",
          "text": [
            "Epoch 1/10\n",
            "588/588 [==============================] - 260s 380ms/step - loss: 1.2230 - accuracy: 0.6011 - val_loss: 0.4797 - val_accuracy: 0.8389\n",
            "Epoch 2/10\n",
            "588/588 [==============================] - 220s 375ms/step - loss: 0.4807 - accuracy: 0.8441 - val_loss: 0.3336 - val_accuracy: 0.8883\n",
            "Epoch 3/10\n",
            "588/588 [==============================] - 219s 373ms/step - loss: 0.3233 - accuracy: 0.8953 - val_loss: 0.2596 - val_accuracy: 0.9146\n",
            "Epoch 4/10\n",
            "588/588 [==============================] - 220s 373ms/step - loss: 0.2522 - accuracy: 0.9184 - val_loss: 0.2362 - val_accuracy: 0.9209\n",
            "Epoch 5/10\n",
            "588/588 [==============================] - 220s 374ms/step - loss: 0.2124 - accuracy: 0.9310 - val_loss: 0.2385 - val_accuracy: 0.9221\n",
            "Epoch 6/10\n",
            "588/588 [==============================] - 220s 374ms/step - loss: 0.1842 - accuracy: 0.9399 - val_loss: 0.2298 - val_accuracy: 0.9241\n",
            "Epoch 7/10\n",
            "588/588 [==============================] - 219s 373ms/step - loss: 0.1627 - accuracy: 0.9472 - val_loss: 0.2129 - val_accuracy: 0.9310\n",
            "Epoch 8/10\n",
            "588/588 [==============================] - 220s 374ms/step - loss: 0.1476 - accuracy: 0.9514 - val_loss: 0.2128 - val_accuracy: 0.9316\n",
            "Epoch 9/10\n",
            "588/588 [==============================] - 217s 369ms/step - loss: 0.1324 - accuracy: 0.9556 - val_loss: 0.2330 - val_accuracy: 0.9240\n",
            "Epoch 10/10\n",
            "588/588 [==============================] - 221s 375ms/step - loss: 0.1241 - accuracy: 0.9592 - val_loss: 0.2196 - val_accuracy: 0.9278\n",
            "\n",
            "Training time: 00:37:59 sec\n",
            "\n",
            "Best epoch: 8\n"
          ]
        }
      ],
      "source": [
        "import time\n",
        "\n",
        "with tf.device('/device:GPU:0'):\n",
        "\n",
        "  start_training_time = time.time()\n",
        "\n",
        "  history = model.fit(train_data,\n",
        "                    y_train_1_hot,\n",
        "                    validation_data=(dev_data, y_dev_1_hot),\n",
        "                    batch_size=BATCH_SIZE,\n",
        "                    epochs=EPOCHS,\n",
        "                    shuffle=True)\n",
        "\n",
        "  end_training_time = time.time()\n",
        "\n",
        "  print(f'\\nTraining time: {time.strftime(\"%H:%M:%S\", time.gmtime(end_training_time - start_training_time))} sec\\n')\n",
        "\n",
        "val_loss_per_epoch = history.history['val_loss']\n",
        "best_epoch = val_loss_per_epoch.index(min(val_loss_per_epoch)) + 1\n",
        "print('Best epoch: %d' % (best_epoch,))"
      ]
    },
    {
      "cell_type": "code",
      "execution_count": null,
      "metadata": {
        "id": "zcAed1EPUvxu",
        "colab": {
          "base_uri": "https://localhost:8080/",
          "height": 927
        },
        "outputId": "db8a833f-83ad-4978-f2a4-329f05fa8ccd"
      },
      "outputs": [
        {
          "output_type": "display_data",
          "data": {
            "text/plain": [
              "<Figure size 640x480 with 1 Axes>"
            ],
            "image/png": "[encoded data removed]"
          },
          "metadata": {}
        },
        {
          "output_type": "display_data",
          "data": {
            "text/plain": [
              "<Figure size 640x480 with 1 Axes>"
            ],
            "image/png": "[encoded data removed]"
          },
          "metadata": {}
        }
      ],
      "source": [
        "%matplotlib inline\n",
        "import matplotlib.pyplot as plt\n",
        "\n",
        "\n",
        "# summarize history for accuracy\n",
        "plt.plot(history.history['accuracy'])\n",
        "plt.plot(history.history['val_accuracy'])\n",
        "plt.title('Model Accuracy')\n",
        "plt.ylabel('accuracy')\n",
        "plt.xlabel('epochs')\n",
        "plt.legend(['Training set', 'Development set'], loc='lower right')\n",
        "plt.show()\n",
        "\n",
        "# summarize history for loss\n",
        "plt.plot(history.history['loss'])\n",
        "plt.plot(history.history['val_loss'])\n",
        "plt.title('Model Loss')\n",
        "plt.ylabel('loss')\n",
        "plt.xlabel('epochs')\n",
        "plt.legend(['Training set', 'Development set'], loc='upper right')\n",
        "plt.show()"
      ]
    },
    {
      "cell_type": "markdown",
      "metadata": {
        "id": "SD_N0Ab2_N0m"
      },
      "source": [
        "# Metrics\n",
        "\n",
        "Precision , Recall , F1 , AUC scores for Bi-LSTM classifier"
      ]
    },
    {
      "cell_type": "code",
      "execution_count": null,
      "metadata": {
        "id": "83GOuKOIWfvJ",
        "colab": {
          "base_uri": "https://localhost:8080/"
        },
        "outputId": "81b01982-8a01-4de7-dd04-2cc06bfc100e"
      },
      "outputs": [
        {
          "output_type": "stream",
          "name": "stdout",
          "text": [
            "Epoch 1/8\n",
            "588/588 [==============================] - 247s 385ms/step - loss: 1.2293 - accuracy: 0.6008 - val_loss: 0.5121 - val_accuracy: 0.8263\n",
            "Epoch 2/8\n",
            "588/588 [==============================] - 226s 384ms/step - loss: 0.4811 - accuracy: 0.8441 - val_loss: 0.3056 - val_accuracy: 0.8976\n",
            "Epoch 3/8\n",
            "588/588 [==============================] - 225s 383ms/step - loss: 0.3266 - accuracy: 0.8941 - val_loss: 0.2582 - val_accuracy: 0.9136\n",
            "Epoch 4/8\n",
            "588/588 [==============================] - 226s 384ms/step - loss: 0.2525 - accuracy: 0.9181 - val_loss: 0.2385 - val_accuracy: 0.9204\n",
            "Epoch 5/8\n",
            "588/588 [==============================] - 238s 405ms/step - loss: 0.2122 - accuracy: 0.9314 - val_loss: 0.2463 - val_accuracy: 0.9202\n",
            "Epoch 6/8\n",
            "588/588 [==============================] - 226s 385ms/step - loss: 0.1840 - accuracy: 0.9402 - val_loss: 0.2130 - val_accuracy: 0.9295\n",
            "Epoch 7/8\n",
            "588/588 [==============================] - 226s 384ms/step - loss: 0.1631 - accuracy: 0.9471 - val_loss: 0.2266 - val_accuracy: 0.9263\n",
            "Epoch 8/8\n",
            "588/588 [==============================] - 226s 385ms/step - loss: 0.1485 - accuracy: 0.9514 - val_loss: 0.2209 - val_accuracy: 0.9284\n",
            "4700/4700 [==============================] - 104s 22ms/step\n",
            "625/625 [==============================] - 14s 22ms/step\n",
            "632/632 [==============================] - 14s 22ms/step\n",
            "\n",
            "--------- Custom stacked BiLSTM ---------\n",
            "\n",
            "Training set\n",
            "\n",
            "              precision    recall  f1-score   support\n",
            "\n",
            "         ADJ       0.97      0.93      0.95      9805\n",
            "         ADP       0.96      0.99      0.97     14064\n",
            "         ADV       0.93      0.95      0.94      6994\n",
            "         AUX       0.99      0.99      0.99      7709\n",
            "       CCONJ       1.00      1.00      1.00      4851\n",
            "         DET       0.99      1.00      1.00     12072\n",
            "        INTJ       0.96      0.86      0.91      1347\n",
            "        NOUN       0.97      0.96      0.96     24689\n",
            "         NUM       0.99      0.99      0.99      2955\n",
            "        PART       0.96      1.00      0.98      3474\n",
            "        PRON       0.99      0.99      0.99     12113\n",
            "       PROPN       0.92      0.91      0.92      8982\n",
            "       PUNCT       1.00      1.00      1.00     20620\n",
            "       SCONJ       0.95      0.81      0.87      2324\n",
            "         SYM       0.94      0.88      0.91       232\n",
            "        VERB       0.98      0.97      0.98     15413\n",
            "           X       0.92      0.55      0.69       306\n",
            "           _       1.00      1.00      1.00      2424\n",
            "\n",
            "   micro avg       0.98      0.97      0.97    150374\n",
            "   macro avg       0.97      0.93      0.95    150374\n",
            "weighted avg       0.98      0.97      0.97    150374\n",
            " samples avg       0.97      0.97      0.97    150374\n",
            "\n",
            "AUC training : {'ADJ': 0.9884969435650786, 'ADP': 0.9972198129716567, 'ADV': 0.9868011370202564, 'AUX': 0.9993232313061097, 'CCONJ': 0.9998465837811777, 'DET': 0.999761170331721, 'INTJ': 0.977213608951112, 'NOUN': 0.9939746995696725, 'NUM': 0.9985822836219239, 'PART': 0.9995124904686956, 'PRON': 0.9995721866885031, 'PROPN': 0.9736227053228224, 'PUNCT': 0.9999882631183638, 'SCONJ': 0.9573482659290352, 'SYM': 0.9656229798928582, 'VERB': 0.9972643205376323, 'X': 0.8257586609001238, '_': 0.9999998298448044} \n",
            "\n",
            "Macro AUC : 0.9811060652123081 \n",
            "\n",
            "\n",
            "Development set\n",
            "\n",
            "              precision    recall  f1-score   support\n",
            "\n",
            "         ADJ       0.94      0.80      0.87      1340\n",
            "         ADP       0.94      0.98      0.96      1889\n",
            "         ADV       0.89      0.89      0.89       926\n",
            "         AUX       0.98      0.99      0.98      1069\n",
            "       CCONJ       0.99      0.99      0.99       653\n",
            "         DET       0.99      0.99      0.99      1598\n",
            "        INTJ       0.73      0.75      0.74       204\n",
            "        NOUN       0.93      0.87      0.90      3381\n",
            "         NUM       0.98      0.87      0.92       329\n",
            "        PART       0.94      1.00      0.97       510\n",
            "        PRON       0.98      0.99      0.99      1807\n",
            "       PROPN       0.67      0.78      0.72       833\n",
            "       PUNCT       1.00      1.00      1.00      2606\n",
            "       SCONJ       0.92      0.69      0.79       332\n",
            "         SYM       1.00      0.64      0.78        14\n",
            "        VERB       0.96      0.88      0.92      2150\n",
            "           X       0.44      0.33      0.38        12\n",
            "           _       0.99      0.99      0.99       344\n",
            "\n",
            "   micro avg       0.94      0.92      0.93     19997\n",
            "   macro avg       0.90      0.86      0.88     19997\n",
            "weighted avg       0.95      0.92      0.93     19997\n",
            " samples avg       0.92      0.92      0.92     19997\n",
            "\n",
            "AUC development : {'ADJ': 0.9463886930288683, 'ADP': 0.9907717814367794, 'ADV': 0.9488263142498923, 'AUX': 0.9976054992153992, 'CCONJ': 0.9997746309723048, 'DET': 0.9995667370720676, 'INTJ': 0.8617548376939295, 'NOUN': 0.9682603307558739, 'NUM': 0.9344604339707909, 'PART': 0.9984930386375217, 'PRON': 0.9989302686843555, 'PROPN': 0.8177011359376084, 'PUNCT': 0.9998672005639417, 'SCONJ': 0.8793109494636269, 'SYM': 0.7077399707765726, 'VERB': 0.975385452761561, 'X': 0.33912290810124324, '_': 0.9966572891680207} \n",
            "\n",
            "Macro AUC : 0.908923192916131 \n",
            "\n",
            "\n",
            "Test set\n",
            "\n",
            "              precision    recall  f1-score   support\n",
            "\n",
            "         ADJ       0.91      0.82      0.86      1331\n",
            "         ADP       0.95      0.98      0.97      2053\n",
            "         ADV       0.92      0.88      0.90       916\n",
            "         AUX       0.98      0.99      0.98       949\n",
            "       CCONJ       1.00      0.99      0.99       700\n",
            "         DET       0.99      0.99      0.99      1720\n",
            "        INTJ       0.68      0.80      0.73       148\n",
            "        NOUN       0.91      0.84      0.87      3508\n",
            "         NUM       0.98      0.82      0.89       401\n",
            "        PART       0.93      0.99      0.96       420\n",
            "        PRON       0.98      0.99      0.98      1435\n",
            "       PROPN       0.72      0.75      0.73      1409\n",
            "       PUNCT       1.00      1.00      1.00      2540\n",
            "       SCONJ       0.91      0.71      0.79       252\n",
            "         SYM       0.83      0.56      0.67        34\n",
            "        VERB       0.97      0.86      0.91      2073\n",
            "           X       1.00      0.36      0.53        28\n",
            "           _       1.00      0.99      0.99       278\n",
            "\n",
            "   micro avg       0.94      0.91      0.92     20195\n",
            "   macro avg       0.92      0.85      0.87     20195\n",
            "weighted avg       0.94      0.91      0.92     20195\n",
            " samples avg       0.91      0.91      0.91     20195\n",
            "\n",
            "AUC test : {'ADJ': 0.9378538483194119, 'ADP': 0.9948680393970282, 'ADV': 0.9567512110836675, 'AUX': 0.9972373455311007, 'CCONJ': 0.9997690593523979, 'DET': 0.9992800481178736, 'INTJ': 0.8548957349694603, 'NOUN': 0.9546682825358087, 'NUM': 0.9145489988149484, 'PART': 0.991759179261553, 'PRON': 0.9991282185566248, 'PROPN': 0.8296493390976549, 'PUNCT': 0.9999247072180153, 'SCONJ': 0.8924648427208443, 'SYM': 0.6469909817317524, 'VERB': 0.973257542550124, 'X': 0.5534551745911205, '_': 0.9962215354876693} \n",
            "\n",
            "Macro AUC : 0.916262449407614 \n",
            "\n"
          ]
        }
      ],
      "source": [
        "def prec_rec_auc(y_true, y_pred, N_CLASSES):\n",
        "  precision = dict()\n",
        "  recall = dict()\n",
        "  auc_score = dict()\n",
        "\n",
        "  for i in range(N_CLASSES):\n",
        "    precision[i], recall[i], _ = precision_recall_curve(y_true[:, i], y_pred[:, i])\n",
        "    auc_score[mlb.classes_[i]] = auc(recall[i], precision[i])\n",
        "\n",
        "  return precision, recall, auc_score\n",
        "\n",
        "\n",
        "def macro_auc(auc_scores):\n",
        "  auc = []\n",
        "\n",
        "  for key in auc_scores.keys():\n",
        "    auc.append(auc_scores[key])\n",
        "\n",
        "  return np.mean(np.array(auc))\n",
        "\n",
        "\n",
        "model = tuner.hypermodel.build(best_hps)\n",
        "model.fit(train_data, y_train_1_hot, validation_data=(dev_data, y_dev_1_hot), batch_size=256, epochs=8, shuffle=True)\n",
        "\n",
        "\n",
        "rnn_predictions_train = model.predict(train_data)\n",
        "_, _, rnn_auc_train = prec_rec_auc(y_train_1_hot, rnn_predictions_train, N_CLASSES)\n",
        "\n",
        "rnn_predictions_dev = model.predict(dev_data)\n",
        "_, _, rnn_auc_dev = prec_rec_auc(y_dev_1_hot, rnn_predictions_dev, N_CLASSES)\n",
        "\n",
        "rnn_predictions_test = model.predict(test_data)\n",
        "_, _, rnn_auc_test = prec_rec_auc(y_test_1_hot, rnn_predictions_test, N_CLASSES)\n",
        "\n",
        "\n",
        "\n",
        "print('\\n--------- Custom stacked BiLSTM ---------\\n')\n",
        "print('Training set\\n')\n",
        "print(classification_report(y_train_1_hot, np.round(rnn_predictions_train), target_names = mlb.classes_, zero_division=0.0))\n",
        "print('AUC training :', rnn_auc_train, '\\n')\n",
        "print('Macro AUC :', macro_auc(rnn_auc_train), '\\n')\n",
        "print('\\nDevelopment set\\n')\n",
        "print(classification_report(y_dev_1_hot, np.round(rnn_predictions_dev), target_names = mlb.classes_, zero_division=0.0))\n",
        "print('AUC development :', rnn_auc_dev, '\\n')\n",
        "print('Macro AUC :', macro_auc(rnn_auc_dev), '\\n')\n",
        "print('\\nTest set\\n')\n",
        "print(classification_report(y_test_1_hot, np.round(rnn_predictions_test), target_names = mlb.classes_, zero_division=0.0))\n",
        "print('AUC test :', rnn_auc_test, '\\n')\n",
        "print('Macro AUC :', macro_auc(rnn_auc_test), '\\n')"
      ]
    }
  ],
  "metadata": {
    "colab": {
      "provenance": []
    },
    "kernelspec": {
      "display_name": "Python 3",
      "name": "python3"
    },
    "language_info": {
      "name": "python"
    }
  },
  "nbformat": 4,
  "nbformat_minor": 0
}